{
 "cells": [
  {
   "cell_type": "markdown",
   "id": "a0971f3a-f9d1-4ef6-8b40-b129709394fa",
   "metadata": {},
   "source": [
    "# Google Drive"
   ]
  },
  {
   "cell_type": "code",
   "execution_count": null,
   "id": "343f3d7a-bf93-4969-a44b-a936fbda0829",
   "metadata": {},
   "outputs": [],
   "source": [
    "from google.colab import drive\n",
    "import os\n",
    "drive.mount('/content/drive/Othercomputers/Il mio computer/Tesi/Computing/Datasets')"
   ]
  },
  {
   "cell_type": "markdown",
   "id": "155ccb4a-38f8-4e57-a4bb-46d47ba2ce4d",
   "metadata": {},
   "source": [
    "# Initialization"
   ]
  },
  {
   "cell_type": "code",
   "execution_count": 22,
   "id": "36eeeaad",
   "metadata": {
    "scrolled": true,
    "tags": []
   },
   "outputs": [
    {
     "name": "stdout",
     "output_type": "stream",
     "text": [
      "Requirement already satisfied: pandas~=1.3.5 in /home/wasp97/.local/lib/python3.9/site-packages (from -r requirements.txt (line 1)) (1.3.5)\n",
      "\n",
      "Requirement already satisfied: scikit-learn~=1.0.2 in /home/wasp97/.local/lib/python3.9/site-packages (from -r requirements.txt (line 2)) (1.0.2)\n",
      "\n",
      "Requirement already satisfied: PyYAML~=6.0 in /home/wasp97/.local/lib/python3.9/site-packages (from -r requirements.txt (line 3)) (6.0)\n",
      "\n",
      "Requirement already satisfied: pyreadr~=0.4.4 in /home/wasp97/.local/lib/python3.9/site-packages (from -r requirements.txt (line 4)) (0.4.4)\n",
      "\n",
      "Requirement already satisfied: ipywidgets in /home/wasp97/.local/lib/python3.9/site-packages (from -r requirements.txt (line 5)) (7.6.5)\n",
      "\n",
      "Requirement already satisfied: tqdm~=4.62.3 in /home/wasp97/.local/lib/python3.9/site-packages (from -r requirements.txt (line 6)) (4.62.3)\n",
      "\n",
      "Requirement already satisfied: modin[all]~=0.12.1 in /home/wasp97/.local/lib/python3.9/site-packages (from -r requirements.txt (line 7)) (0.12.1)\n",
      "\n",
      "Requirement already satisfied: rpy2 in /home/wasp97/.local/lib/python3.9/site-packages (from -r requirements.txt (line 8)) (3.4.5)\n",
      "\n",
      "Requirement already satisfied: matplotlib~=3.5.1 in /home/wasp97/.local/lib/python3.9/site-packages (from -r requirements.txt (line 9)) (3.5.1)\n",
      "\n",
      "Requirement already satisfied: nmf-torch in /home/wasp97/.local/lib/python3.9/site-packages (from -r requirements.txt (line 10)) (0.1.1)\n",
      "\n",
      "Collecting halo\n",
      "\n",
      "  Downloading halo-0.0.31.tar.gz (11 kB)\n",
      "\n",
      "Collecting numpy~=1.22.0\n",
      "\n",
      "  Downloading numpy-1.22.1-cp39-cp39-manylinux_2_17_x86_64.manylinux2014_x86_64.whl (16.8 MB)\n",
      "\n",
      "\u001b[K     |████████████████████████████████| 16.8 MB 476 kB/s eta 0:00:01       | 2.7 MB 984 kB/s eta 0:00:15     |███████████████████████▎        | 12.2 MB 2.1 MB/s eta 0:00:03\n",
      "\n",
      "\u001b[?25hRequirement already satisfied: scipy~=1.7.3 in /home/wasp97/.local/lib/python3.9/site-packages (from -r requirements.txt (line 13)) (1.7.3)\n",
      "\n",
      "Requirement already satisfied: python-dateutil>=2.7 in /home/wasp97/.local/lib/python3.9/site-packages (from matplotlib~=3.5.1->-r requirements.txt (line 9)) (2.8.2)\n",
      "\n",
      "Requirement already satisfied: pillow>=6.2.0 in /home/wasp97/.local/lib/python3.9/site-packages (from matplotlib~=3.5.1->-r requirements.txt (line 9)) (8.4.0)\n",
      "\n",
      "Requirement already satisfied: pyparsing>=2.2.1 in /home/wasp97/.local/lib/python3.9/site-packages (from matplotlib~=3.5.1->-r requirements.txt (line 9)) (3.0.6)\n",
      "\n",
      "Requirement already satisfied: packaging>=20.0 in /home/wasp97/.local/lib/python3.9/site-packages (from matplotlib~=3.5.1->-r requirements.txt (line 9)) (21.3)\n",
      "\n",
      "Requirement already satisfied: cycler>=0.10 in /home/wasp97/.local/lib/python3.9/site-packages (from matplotlib~=3.5.1->-r requirements.txt (line 9)) (0.11.0)\n",
      "\n",
      "Requirement already satisfied: kiwisolver>=1.0.1 in /home/wasp97/.local/lib/python3.9/site-packages (from matplotlib~=3.5.1->-r requirements.txt (line 9)) (1.3.2)\n",
      "\n",
      "Requirement already satisfied: fonttools>=4.22.0 in /home/wasp97/.local/lib/python3.9/site-packages (from matplotlib~=3.5.1->-r requirements.txt (line 9)) (4.28.5)\n",
      "\n",
      "Requirement already satisfied: fsspec in /home/wasp97/.local/lib/python3.9/site-packages (from modin[all]~=0.12.1->-r requirements.txt (line 7)) (2021.11.1)\n",
      "\n",
      "Requirement already satisfied: cloudpickle in /home/wasp97/.local/lib/python3.9/site-packages (from modin[all]~=0.12.1->-r requirements.txt (line 7)) (2.0.0)\n",
      "\n",
      "Requirement already satisfied: distributed>=2.22.0 in /home/wasp97/.local/lib/python3.9/site-packages (from modin[all]~=0.12.1->-r requirements.txt (line 7)) (2021.12.0)\n",
      "\n",
      "Requirement already satisfied: ray[default]>=1.4.0 in /home/wasp97/.local/lib/python3.9/site-packages (from modin[all]~=0.12.1->-r requirements.txt (line 7)) (1.9.1)\n",
      "\n",
      "Requirement already satisfied: boto3 in /home/wasp97/.local/lib/python3.9/site-packages (from modin[all]~=0.12.1->-r requirements.txt (line 7)) (1.20.31)\n",
      "\n",
      "Requirement already satisfied: rpyc==4.1.5 in /home/wasp97/.local/lib/python3.9/site-packages (from modin[all]~=0.12.1->-r requirements.txt (line 7)) (4.1.5)\n",
      "\n",
      "Requirement already satisfied: pyarrow>=1.0 in /home/wasp97/.local/lib/python3.9/site-packages (from modin[all]~=0.12.1->-r requirements.txt (line 7)) (6.0.1)\n",
      "\n",
      "Requirement already satisfied: modin-spreadsheet>=0.1.0 in /home/wasp97/.local/lib/python3.9/site-packages (from modin[all]~=0.12.1->-r requirements.txt (line 7)) (0.1.2)\n",
      "\n",
      "Requirement already satisfied: dask>=2.22.0 in /home/wasp97/.local/lib/python3.9/site-packages (from modin[all]~=0.12.1->-r requirements.txt (line 7)) (2021.12.0)\n",
      "\n",
      "Requirement already satisfied: pytz>=2017.3 in /usr/lib/python3/dist-packages (from pandas~=1.3.5->-r requirements.txt (line 1)) (2021.1)\n",
      "\n",
      "Requirement already satisfied: plumbum in /home/wasp97/.local/lib/python3.9/site-packages (from rpyc==4.1.5->modin[all]~=0.12.1->-r requirements.txt (line 7)) (1.7.2)\n",
      "\n",
      "Requirement already satisfied: joblib>=0.11 in /home/wasp97/.local/lib/python3.9/site-packages (from scikit-learn~=1.0.2->-r requirements.txt (line 2)) (1.1.0)\n",
      "\n",
      "Requirement already satisfied: threadpoolctl>=2.0.0 in /home/wasp97/.local/lib/python3.9/site-packages (from scikit-learn~=1.0.2->-r requirements.txt (line 2)) (3.0.0)\n",
      "\n",
      "Requirement already satisfied: partd>=0.3.10 in /home/wasp97/.local/lib/python3.9/site-packages (from dask>=2.22.0->modin[all]~=0.12.1->-r requirements.txt (line 7)) (1.2.0)\n",
      "\n",
      "Requirement already satisfied: toolz>=0.8.2 in /home/wasp97/.local/lib/python3.9/site-packages (from dask>=2.22.0->modin[all]~=0.12.1->-r requirements.txt (line 7)) (0.11.2)\n",
      "\n",
      "Requirement already satisfied: click>=6.6 in /home/wasp97/.local/lib/python3.9/site-packages (from distributed>=2.22.0->modin[all]~=0.12.1->-r requirements.txt (line 7)) (8.0.3)\n",
      "\n",
      "Requirement already satisfied: zict>=0.1.3 in /home/wasp97/.local/lib/python3.9/site-packages (from distributed>=2.22.0->modin[all]~=0.12.1->-r requirements.txt (line 7)) (2.0.0)\n",
      "\n",
      "Requirement already satisfied: jinja2 in /home/wasp97/.local/lib/python3.9/site-packages (from distributed>=2.22.0->modin[all]~=0.12.1->-r requirements.txt (line 7)) (3.0.3)\n",
      "\n",
      "Requirement already satisfied: tblib>=1.6.0 in /home/wasp97/.local/lib/python3.9/site-packages (from distributed>=2.22.0->modin[all]~=0.12.1->-r requirements.txt (line 7)) (1.7.0)\n",
      "\n",
      "Requirement already satisfied: msgpack>=0.6.0 in /home/wasp97/.local/lib/python3.9/site-packages (from distributed>=2.22.0->modin[all]~=0.12.1->-r requirements.txt (line 7)) (1.0.3)\n",
      "\n",
      "Requirement already satisfied: setuptools in /usr/lib/python3/dist-packages (from distributed>=2.22.0->modin[all]~=0.12.1->-r requirements.txt (line 7)) (52.0.0)\n",
      "\n",
      "Requirement already satisfied: sortedcontainers!=2.0.0,!=2.0.1 in /home/wasp97/.local/lib/python3.9/site-packages (from distributed>=2.22.0->modin[all]~=0.12.1->-r requirements.txt (line 7)) (2.4.0)\n",
      "\n",
      "Requirement already satisfied: psutil>=5.0 in /home/wasp97/.local/lib/python3.9/site-packages (from distributed>=2.22.0->modin[all]~=0.12.1->-r requirements.txt (line 7)) (5.9.0)\n",
      "\n",
      "Requirement already satisfied: tornado>=6.0.3 in /home/wasp97/.local/lib/python3.9/site-packages (from distributed>=2.22.0->modin[all]~=0.12.1->-r requirements.txt (line 7)) (6.1)\n",
      "\n",
      "Requirement already satisfied: notebook>=6.0.3 in /home/wasp97/.local/lib/python3.9/site-packages (from modin-spreadsheet>=0.1.0->modin[all]~=0.12.1->-r requirements.txt (line 7)) (6.4.6)\n",
      "\n",
      "Requirement already satisfied: jupyter>=1.0.0 in /home/wasp97/.local/lib/python3.9/site-packages (from modin-spreadsheet>=0.1.0->modin[all]~=0.12.1->-r requirements.txt (line 7)) (1.0.0)\n",
      "\n",
      "Requirement already satisfied: jupyterlab-widgets>=1.0.0 in /home/wasp97/.local/lib/python3.9/site-packages (from ipywidgets->-r requirements.txt (line 5)) (1.0.2)\n",
      "\n",
      "Requirement already satisfied: traitlets>=4.3.1 in /home/wasp97/.local/lib/python3.9/site-packages (from ipywidgets->-r requirements.txt (line 5)) (5.1.1)\n",
      "\n",
      "Requirement already satisfied: ipython-genutils~=0.2.0 in /home/wasp97/.local/lib/python3.9/site-packages (from ipywidgets->-r requirements.txt (line 5)) (0.2.0)\n",
      "\n",
      "Requirement already satisfied: ipython>=4.0.0 in /home/wasp97/.local/lib/python3.9/site-packages (from ipywidgets->-r requirements.txt (line 5)) (7.30.0)\n",
      "\n",
      "Requirement already satisfied: ipykernel>=4.5.1 in /home/wasp97/.local/lib/python3.9/site-packages (from ipywidgets->-r requirements.txt (line 5)) (6.5.1)\n",
      "\n",
      "Requirement already satisfied: nbformat>=4.2.0 in /home/wasp97/.local/lib/python3.9/site-packages (from ipywidgets->-r requirements.txt (line 5)) (5.1.3)\n",
      "\n",
      "Requirement already satisfied: widgetsnbextension~=3.5.0 in /home/wasp97/.local/lib/python3.9/site-packages (from ipywidgets->-r requirements.txt (line 5)) (3.5.2)\n",
      "\n",
      "Requirement already satisfied: debugpy<2.0,>=1.0.0 in /home/wasp97/.local/lib/python3.9/site-packages (from ipykernel>=4.5.1->ipywidgets->-r requirements.txt (line 5)) (1.5.1)\n",
      "\n",
      "Requirement already satisfied: jupyter-client<8.0 in /home/wasp97/.local/lib/python3.9/site-packages (from ipykernel>=4.5.1->ipywidgets->-r requirements.txt (line 5)) (7.1.0)\n",
      "\n",
      "Requirement already satisfied: matplotlib-inline<0.2.0,>=0.1.0 in /home/wasp97/.local/lib/python3.9/site-packages (from ipykernel>=4.5.1->ipywidgets->-r requirements.txt (line 5)) (0.1.3)\n",
      "\n",
      "Requirement already satisfied: pickleshare in /home/wasp97/.local/lib/python3.9/site-packages (from ipython>=4.0.0->ipywidgets->-r requirements.txt (line 5)) (0.7.5)\n",
      "\n",
      "Requirement already satisfied: pygments in /home/wasp97/.local/lib/python3.9/site-packages (from ipython>=4.0.0->ipywidgets->-r requirements.txt (line 5)) (2.10.0)\n",
      "\n",
      "Requirement already satisfied: backcall in /home/wasp97/.local/lib/python3.9/site-packages (from ipython>=4.0.0->ipywidgets->-r requirements.txt (line 5)) (0.2.0)\n",
      "\n",
      "Requirement already satisfied: pexpect>4.3 in /home/wasp97/.local/lib/python3.9/site-packages (from ipython>=4.0.0->ipywidgets->-r requirements.txt (line 5)) (4.8.0)\n",
      "\n",
      "Requirement already satisfied: prompt-toolkit!=3.0.0,!=3.0.1,<3.1.0,>=2.0.0 in /home/wasp97/.local/lib/python3.9/site-packages (from ipython>=4.0.0->ipywidgets->-r requirements.txt (line 5)) (3.0.23)\n",
      "\n",
      "Requirement already satisfied: decorator in /home/wasp97/.local/lib/python3.9/site-packages (from ipython>=4.0.0->ipywidgets->-r requirements.txt (line 5)) (5.1.0)\n",
      "\n",
      "Requirement already satisfied: jedi>=0.16 in /home/wasp97/.local/lib/python3.9/site-packages (from ipython>=4.0.0->ipywidgets->-r requirements.txt (line 5)) (0.18.1)\n",
      "\n",
      "Requirement already satisfied: parso<0.9.0,>=0.8.0 in /home/wasp97/.local/lib/python3.9/site-packages (from jedi>=0.16->ipython>=4.0.0->ipywidgets->-r requirements.txt (line 5)) (0.8.2)\n",
      "\n",
      "Requirement already satisfied: nbconvert in /home/wasp97/.local/lib/python3.9/site-packages (from jupyter>=1.0.0->modin-spreadsheet>=0.1.0->modin[all]~=0.12.1->-r requirements.txt (line 7)) (6.3.0)\n",
      "\n",
      "Requirement already satisfied: jupyter-console in /home/wasp97/.local/lib/python3.9/site-packages (from jupyter>=1.0.0->modin-spreadsheet>=0.1.0->modin[all]~=0.12.1->-r requirements.txt (line 7)) (6.4.0)\n",
      "\n",
      "Requirement already satisfied: qtconsole in /home/wasp97/.local/lib/python3.9/site-packages (from jupyter>=1.0.0->modin-spreadsheet>=0.1.0->modin[all]~=0.12.1->-r requirements.txt (line 7)) (5.2.2)\n",
      "\n",
      "Requirement already satisfied: jupyter-core>=4.6.0 in /home/wasp97/.local/lib/python3.9/site-packages (from jupyter-client<8.0->ipykernel>=4.5.1->ipywidgets->-r requirements.txt (line 5)) (4.9.1)\n",
      "\n",
      "Requirement already satisfied: nest-asyncio>=1.5 in /home/wasp97/.local/lib/python3.9/site-packages (from jupyter-client<8.0->ipykernel>=4.5.1->ipywidgets->-r requirements.txt (line 5)) (1.5.1)\n",
      "\n",
      "Requirement already satisfied: entrypoints in /home/wasp97/.local/lib/python3.9/site-packages (from jupyter-client<8.0->ipykernel>=4.5.1->ipywidgets->-r requirements.txt (line 5)) (0.3)\n",
      "\n",
      "Requirement already satisfied: pyzmq>=13 in /home/wasp97/.local/lib/python3.9/site-packages (from jupyter-client<8.0->ipykernel>=4.5.1->ipywidgets->-r requirements.txt (line 5)) (22.3.0)\n",
      "\n",
      "Requirement already satisfied: jsonschema!=2.5.0,>=2.4 in /home/wasp97/.local/lib/python3.9/site-packages (from nbformat>=4.2.0->ipywidgets->-r requirements.txt (line 5)) (4.2.1)\n",
      "\n",
      "Requirement already satisfied: attrs>=17.4.0 in /home/wasp97/.local/lib/python3.9/site-packages (from jsonschema!=2.5.0,>=2.4->nbformat>=4.2.0->ipywidgets->-r requirements.txt (line 5)) (21.2.0)\n",
      "\n",
      "Requirement already satisfied: pyrsistent!=0.17.0,!=0.17.1,!=0.17.2,>=0.14.0 in /home/wasp97/.local/lib/python3.9/site-packages (from jsonschema!=2.5.0,>=2.4->nbformat>=4.2.0->ipywidgets->-r requirements.txt (line 5)) (0.18.0)\n",
      "\n",
      "Requirement already satisfied: terminado>=0.8.3 in /home/wasp97/.local/lib/python3.9/site-packages (from notebook>=6.0.3->modin-spreadsheet>=0.1.0->modin[all]~=0.12.1->-r requirements.txt (line 7)) (0.12.1)\n",
      "\n",
      "Requirement already satisfied: prometheus-client in /home/wasp97/.local/lib/python3.9/site-packages (from notebook>=6.0.3->modin-spreadsheet>=0.1.0->modin[all]~=0.12.1->-r requirements.txt (line 7)) (0.12.0)\n",
      "\n",
      "Requirement already satisfied: argon2-cffi in /home/wasp97/.local/lib/python3.9/site-packages (from notebook>=6.0.3->modin-spreadsheet>=0.1.0->modin[all]~=0.12.1->-r requirements.txt (line 7)) (21.1.0)\n",
      "\n",
      "Requirement already satisfied: Send2Trash>=1.8.0 in /home/wasp97/.local/lib/python3.9/site-packages (from notebook>=6.0.3->modin-spreadsheet>=0.1.0->modin[all]~=0.12.1->-r requirements.txt (line 7)) (1.8.0)\n",
      "\n",
      "Requirement already satisfied: locket in /home/wasp97/.local/lib/python3.9/site-packages (from partd>=0.3.10->dask>=2.22.0->modin[all]~=0.12.1->-r requirements.txt (line 7)) (0.2.1)\n",
      "\n",
      "Requirement already satisfied: ptyprocess>=0.5 in /home/wasp97/.local/lib/python3.9/site-packages (from pexpect>4.3->ipython>=4.0.0->ipywidgets->-r requirements.txt (line 5)) (0.7.0)\n",
      "\n",
      "Requirement already satisfied: wcwidth in /home/wasp97/.local/lib/python3.9/site-packages (from prompt-toolkit!=3.0.0,!=3.0.1,<3.1.0,>=2.0.0->ipython>=4.0.0->ipywidgets->-r requirements.txt (line 5)) (0.2.5)\n",
      "\n",
      "Requirement already satisfied: six>=1.5 in /usr/lib/python3/dist-packages (from python-dateutil>=2.7->matplotlib~=3.5.1->-r requirements.txt (line 9)) (1.16.0)\n",
      "\n",
      "Requirement already satisfied: filelock in /home/wasp97/.local/lib/python3.9/site-packages (from ray[default]>=1.4.0->modin[all]~=0.12.1->-r requirements.txt (line 7)) (3.4.2)\n",
      "\n",
      "Requirement already satisfied: grpcio>=1.28.1 in /home/wasp97/.local/lib/python3.9/site-packages (from ray[default]>=1.4.0->modin[all]~=0.12.1->-r requirements.txt (line 7)) (1.43.0)\n",
      "\n",
      "Requirement already satisfied: protobuf>=3.15.3 in /home/wasp97/.local/lib/python3.9/site-packages (from ray[default]>=1.4.0->modin[all]~=0.12.1->-r requirements.txt (line 7)) (3.19.1)\n",
      "\n",
      "Requirement already satisfied: redis>=3.5.0 in /home/wasp97/.local/lib/python3.9/site-packages (from ray[default]>=1.4.0->modin[all]~=0.12.1->-r requirements.txt (line 7)) (4.1.0)\n",
      "\n",
      "Requirement already satisfied: aioredis<2 in /home/wasp97/.local/lib/python3.9/site-packages (from ray[default]>=1.4.0->modin[all]~=0.12.1->-r requirements.txt (line 7)) (1.3.1)\n",
      "\n",
      "Requirement already satisfied: gpustat>=1.0.0b1 in /home/wasp97/.local/lib/python3.9/site-packages (from ray[default]>=1.4.0->modin[all]~=0.12.1->-r requirements.txt (line 7)) (1.0.0b1)\n",
      "\n",
      "Requirement already satisfied: py-spy>=0.2.0 in /home/wasp97/.local/lib/python3.9/site-packages (from ray[default]>=1.4.0->modin[all]~=0.12.1->-r requirements.txt (line 7)) (0.3.11)\n",
      "\n",
      "Requirement already satisfied: smart-open in /home/wasp97/.local/lib/python3.9/site-packages (from ray[default]>=1.4.0->modin[all]~=0.12.1->-r requirements.txt (line 7)) (5.2.1)\n",
      "\n",
      "Requirement already satisfied: aiohttp>=3.7 in /home/wasp97/.local/lib/python3.9/site-packages (from ray[default]>=1.4.0->modin[all]~=0.12.1->-r requirements.txt (line 7)) (3.8.1)\n",
      "\n",
      "Requirement already satisfied: opencensus in /home/wasp97/.local/lib/python3.9/site-packages (from ray[default]>=1.4.0->modin[all]~=0.12.1->-r requirements.txt (line 7)) (0.8.0)\n",
      "\n",
      "Requirement already satisfied: frozenlist in /home/wasp97/.local/lib/python3.9/site-packages (from ray[default]>=1.4.0->modin[all]~=0.12.1->-r requirements.txt (line 7)) (1.2.0)\n",
      "\n",
      "Requirement already satisfied: aiosignal in /home/wasp97/.local/lib/python3.9/site-packages (from ray[default]>=1.4.0->modin[all]~=0.12.1->-r requirements.txt (line 7)) (1.2.0)\n",
      "\n",
      "Requirement already satisfied: aiohttp-cors in /home/wasp97/.local/lib/python3.9/site-packages (from ray[default]>=1.4.0->modin[all]~=0.12.1->-r requirements.txt (line 7)) (0.7.0)\n",
      "\n",
      "Requirement already satisfied: colorful in /home/wasp97/.local/lib/python3.9/site-packages (from ray[default]>=1.4.0->modin[all]~=0.12.1->-r requirements.txt (line 7)) (0.5.4)\n",
      "\n",
      "Requirement already satisfied: requests in /usr/lib/python3/dist-packages (from ray[default]>=1.4.0->modin[all]~=0.12.1->-r requirements.txt (line 7)) (2.25.1)\n",
      "\n",
      "Requirement already satisfied: multidict<7.0,>=4.5 in /home/wasp97/.local/lib/python3.9/site-packages (from aiohttp>=3.7->ray[default]>=1.4.0->modin[all]~=0.12.1->-r requirements.txt (line 7)) (5.2.0)\n",
      "\n",
      "Requirement already satisfied: async-timeout<5.0,>=4.0.0a3 in /home/wasp97/.local/lib/python3.9/site-packages (from aiohttp>=3.7->ray[default]>=1.4.0->modin[all]~=0.12.1->-r requirements.txt (line 7)) (4.0.2)\n",
      "\n",
      "Requirement already satisfied: charset-normalizer<3.0,>=2.0 in /home/wasp97/.local/lib/python3.9/site-packages (from aiohttp>=3.7->ray[default]>=1.4.0->modin[all]~=0.12.1->-r requirements.txt (line 7)) (2.0.10)\n",
      "\n",
      "Requirement already satisfied: yarl<2.0,>=1.0 in /home/wasp97/.local/lib/python3.9/site-packages (from aiohttp>=3.7->ray[default]>=1.4.0->modin[all]~=0.12.1->-r requirements.txt (line 7)) (1.7.2)\n",
      "\n",
      "Requirement already satisfied: hiredis in /home/wasp97/.local/lib/python3.9/site-packages (from aioredis<2->ray[default]>=1.4.0->modin[all]~=0.12.1->-r requirements.txt (line 7)) (2.0.0)\n",
      "\n",
      "Requirement already satisfied: nvidia-ml-py3>=7.352.0 in /home/wasp97/.local/lib/python3.9/site-packages (from gpustat>=1.0.0b1->ray[default]>=1.4.0->modin[all]~=0.12.1->-r requirements.txt (line 7)) (7.352.0)\n",
      "\n",
      "Requirement already satisfied: blessed>=1.17.1 in /home/wasp97/.local/lib/python3.9/site-packages (from gpustat>=1.0.0b1->ray[default]>=1.4.0->modin[all]~=0.12.1->-r requirements.txt (line 7)) (1.19.0)\n",
      "\n",
      "Requirement already satisfied: deprecated>=1.2.3 in /home/wasp97/.local/lib/python3.9/site-packages (from redis>=3.5.0->ray[default]>=1.4.0->modin[all]~=0.12.1->-r requirements.txt (line 7)) (1.2.13)\n",
      "\n",
      "Requirement already satisfied: wrapt<2,>=1.10 in /home/wasp97/.local/lib/python3.9/site-packages (from deprecated>=1.2.3->redis>=3.5.0->ray[default]>=1.4.0->modin[all]~=0.12.1->-r requirements.txt (line 7)) (1.13.3)\n",
      "\n",
      "Requirement already satisfied: idna>=2.0 in /usr/lib/python3/dist-packages (from yarl<2.0,>=1.0->aiohttp>=3.7->ray[default]>=1.4.0->modin[all]~=0.12.1->-r requirements.txt (line 7)) (2.10)\n",
      "\n",
      "Requirement already satisfied: heapdict in /home/wasp97/.local/lib/python3.9/site-packages (from zict>=0.1.3->distributed>=2.22.0->modin[all]~=0.12.1->-r requirements.txt (line 7)) (1.0.1)\n",
      "\n",
      "Requirement already satisfied: colorama>=0.3.9 in /usr/lib/python3/dist-packages (from halo->-r requirements.txt (line 11)) (0.4.4)\n",
      "\n",
      "Collecting log_symbols>=0.0.14\n",
      "\n",
      "  Downloading log_symbols-0.0.14-py3-none-any.whl (3.1 kB)\n",
      "\n",
      "Collecting spinners>=0.0.24\n",
      "\n",
      "  Downloading spinners-0.0.24-py3-none-any.whl (5.5 kB)\n",
      "\n",
      "Collecting termcolor>=1.1.0\n",
      "\n",
      "  Downloading termcolor-1.1.0.tar.gz (3.9 kB)\n",
      "\n",
      "Requirement already satisfied: torch in /home/wasp97/.local/lib/python3.9/site-packages (from nmf-torch->-r requirements.txt (line 10)) (1.10.1)\n",
      "\n",
      "Requirement already satisfied: Cython in /home/wasp97/.local/lib/python3.9/site-packages (from nmf-torch->-r requirements.txt (line 10)) (0.29.26)\n",
      "\n",
      "Requirement already satisfied: tzlocal in /home/wasp97/.local/lib/python3.9/site-packages (from rpy2->-r requirements.txt (line 8)) (4.1)\n",
      "\n",
      "Requirement already satisfied: cffi>=1.10.0 in /home/wasp97/.local/lib/python3.9/site-packages (from rpy2->-r requirements.txt (line 8)) (1.15.0)\n",
      "\n",
      "Requirement already satisfied: pycparser in /home/wasp97/.local/lib/python3.9/site-packages (from cffi>=1.10.0->rpy2->-r requirements.txt (line 8)) (2.21)\n",
      "\n",
      "Requirement already satisfied: jmespath<1.0.0,>=0.7.1 in /home/wasp97/.local/lib/python3.9/site-packages (from boto3->modin[all]~=0.12.1->-r requirements.txt (line 7)) (0.10.0)\n",
      "\n",
      "Requirement already satisfied: botocore<1.24.0,>=1.23.31 in /home/wasp97/.local/lib/python3.9/site-packages (from boto3->modin[all]~=0.12.1->-r requirements.txt (line 7)) (1.23.31)\n",
      "\n",
      "Requirement already satisfied: s3transfer<0.6.0,>=0.5.0 in /home/wasp97/.local/lib/python3.9/site-packages (from boto3->modin[all]~=0.12.1->-r requirements.txt (line 7)) (0.5.0)\n",
      "\n",
      "Requirement already satisfied: urllib3<1.27,>=1.25.4 in /usr/lib/python3/dist-packages (from botocore<1.24.0,>=1.23.31->boto3->modin[all]~=0.12.1->-r requirements.txt (line 7)) (1.26.5)\n",
      "\n",
      "Requirement already satisfied: MarkupSafe>=2.0 in /home/wasp97/.local/lib/python3.9/site-packages (from jinja2->distributed>=2.22.0->modin[all]~=0.12.1->-r requirements.txt (line 7)) (2.0.1)\n",
      "\n",
      "Requirement already satisfied: mistune<2,>=0.8.1 in /home/wasp97/.local/lib/python3.9/site-packages (from nbconvert->jupyter>=1.0.0->modin-spreadsheet>=0.1.0->modin[all]~=0.12.1->-r requirements.txt (line 7)) (0.8.4)\n",
      "\n",
      "Requirement already satisfied: testpath in /home/wasp97/.local/lib/python3.9/site-packages (from nbconvert->jupyter>=1.0.0->modin-spreadsheet>=0.1.0->modin[all]~=0.12.1->-r requirements.txt (line 7)) (0.5.0)\n",
      "\n",
      "Requirement already satisfied: bleach in /home/wasp97/.local/lib/python3.9/site-packages (from nbconvert->jupyter>=1.0.0->modin-spreadsheet>=0.1.0->modin[all]~=0.12.1->-r requirements.txt (line 7)) (4.1.0)\n",
      "\n",
      "Requirement already satisfied: pandocfilters>=1.4.1 in /home/wasp97/.local/lib/python3.9/site-packages (from nbconvert->jupyter>=1.0.0->modin-spreadsheet>=0.1.0->modin[all]~=0.12.1->-r requirements.txt (line 7)) (1.5.0)\n",
      "\n",
      "Requirement already satisfied: defusedxml in /home/wasp97/.local/lib/python3.9/site-packages (from nbconvert->jupyter>=1.0.0->modin-spreadsheet>=0.1.0->modin[all]~=0.12.1->-r requirements.txt (line 7)) (0.7.1)\n",
      "\n",
      "Requirement already satisfied: jupyterlab-pygments in /home/wasp97/.local/lib/python3.9/site-packages (from nbconvert->jupyter>=1.0.0->modin-spreadsheet>=0.1.0->modin[all]~=0.12.1->-r requirements.txt (line 7)) (0.1.2)\n",
      "\n",
      "Requirement already satisfied: nbclient<0.6.0,>=0.5.0 in /home/wasp97/.local/lib/python3.9/site-packages (from nbconvert->jupyter>=1.0.0->modin-spreadsheet>=0.1.0->modin[all]~=0.12.1->-r requirements.txt (line 7)) (0.5.9)\n",
      "\n",
      "Requirement already satisfied: webencodings in /home/wasp97/.local/lib/python3.9/site-packages (from bleach->nbconvert->jupyter>=1.0.0->modin-spreadsheet>=0.1.0->modin[all]~=0.12.1->-r requirements.txt (line 7)) (0.5.1)\n",
      "\n",
      "Requirement already satisfied: opencensus-context==0.1.2 in /home/wasp97/.local/lib/python3.9/site-packages (from opencensus->ray[default]>=1.4.0->modin[all]~=0.12.1->-r requirements.txt (line 7)) (0.1.2)\n",
      "\n",
      "Requirement already satisfied: google-api-core<3.0.0,>=1.0.0 in /home/wasp97/.local/lib/python3.9/site-packages (from opencensus->ray[default]>=1.4.0->modin[all]~=0.12.1->-r requirements.txt (line 7)) (2.3.2)\n",
      "\n",
      "Requirement already satisfied: google-auth<3.0dev,>=1.25.0 in /home/wasp97/.local/lib/python3.9/site-packages (from google-api-core<3.0.0,>=1.0.0->opencensus->ray[default]>=1.4.0->modin[all]~=0.12.1->-r requirements.txt (line 7)) (2.3.3)\n",
      "\n",
      "Requirement already satisfied: googleapis-common-protos<2.0dev,>=1.52.0 in /home/wasp97/.local/lib/python3.9/site-packages (from google-api-core<3.0.0,>=1.0.0->opencensus->ray[default]>=1.4.0->modin[all]~=0.12.1->-r requirements.txt (line 7)) (1.54.0)\n",
      "\n",
      "Requirement already satisfied: cachetools<5.0,>=2.0.0 in /home/wasp97/.local/lib/python3.9/site-packages (from google-auth<3.0dev,>=1.25.0->google-api-core<3.0.0,>=1.0.0->opencensus->ray[default]>=1.4.0->modin[all]~=0.12.1->-r requirements.txt (line 7)) (4.2.4)\n",
      "\n",
      "Requirement already satisfied: pyasn1-modules>=0.2.1 in /home/wasp97/.local/lib/python3.9/site-packages (from google-auth<3.0dev,>=1.25.0->google-api-core<3.0.0,>=1.0.0->opencensus->ray[default]>=1.4.0->modin[all]~=0.12.1->-r requirements.txt (line 7)) (0.2.8)\n",
      "\n",
      "Requirement already satisfied: rsa<5,>=3.1.4 in /home/wasp97/.local/lib/python3.9/site-packages (from google-auth<3.0dev,>=1.25.0->google-api-core<3.0.0,>=1.0.0->opencensus->ray[default]>=1.4.0->modin[all]~=0.12.1->-r requirements.txt (line 7)) (4.8)\n",
      "\n",
      "Requirement already satisfied: pyasn1<0.5.0,>=0.4.6 in /home/wasp97/.local/lib/python3.9/site-packages (from pyasn1-modules>=0.2.1->google-auth<3.0dev,>=1.25.0->google-api-core<3.0.0,>=1.0.0->opencensus->ray[default]>=1.4.0->modin[all]~=0.12.1->-r requirements.txt (line 7)) (0.4.8)\n",
      "\n",
      "Requirement already satisfied: qtpy in /home/wasp97/.local/lib/python3.9/site-packages (from qtconsole->jupyter>=1.0.0->modin-spreadsheet>=0.1.0->modin[all]~=0.12.1->-r requirements.txt (line 7)) (2.0.0)\n",
      "\n",
      "Requirement already satisfied: typing-extensions in /home/wasp97/.local/lib/python3.9/site-packages (from torch->nmf-torch->-r requirements.txt (line 10)) (4.0.0)\n",
      "\n",
      "Requirement already satisfied: pytz-deprecation-shim in /home/wasp97/.local/lib/python3.9/site-packages (from tzlocal->rpy2->-r requirements.txt (line 8)) (0.1.0.post0)\n",
      "\n",
      "Requirement already satisfied: tzdata in /home/wasp97/.local/lib/python3.9/site-packages (from pytz-deprecation-shim->tzlocal->rpy2->-r requirements.txt (line 8)) (2021.5)\n",
      "\n",
      "Building wheels for collected packages: halo, termcolor\n",
      "\n",
      "  Building wheel for halo (setup.py) ... \u001b[?25ldone\n",
      "\n",
      "\u001b[?25h  Created wheel for halo: filename=halo-0.0.31-py3-none-any.whl size=11251 sha256=6db0c2ef5268e558c3672a9d3d7327686f370b09c56ee608d1a33650dee99997\n",
      "\n",
      "  Stored in directory: /home/wasp97/.cache/pip/wheels/bb/85/47/b7c7338ab52808105f937bd8c04aec5d98a543311ac2c8bed2\n",
      "\n",
      "  Building wheel for termcolor (setup.py) ... \u001b[?25ldone\n",
      "\n",
      "\u001b[?25h  Created wheel for termcolor: filename=termcolor-1.1.0-py3-none-any.whl size=4830 sha256=26ebb03bc2fad7fe815721f21304c5b05af2a851d76bc7103d1d37a2fd3ddc4d\n",
      "\n",
      "  Stored in directory: /home/wasp97/.cache/pip/wheels/b6/0d/90/0d1bbd99855f99cb2f6c2e5ff96f8023fad8ec367695f7d72d\n",
      "\n",
      "Successfully built halo termcolor\n",
      "\n",
      "Installing collected packages: numpy, termcolor, spinners, log-symbols, halo\n",
      "\n",
      "  Attempting uninstall: numpy\n",
      "\n",
      "    Found existing installation: numpy 1.21.4\n",
      "\n",
      "    Uninstalling numpy-1.21.4:\n",
      "\n",
      "      Successfully uninstalled numpy-1.21.4\n",
      "\n",
      "\u001b[31mERROR: pip's dependency resolver does not currently take into account all the packages that are installed. This behaviour is the source of the following dependency conflicts.\n",
      "\n",
      "streamlit 1.1.0 requires click<8.0,>=7.0, but you have click 8.0.3 which is incompatible.\u001b[0m\n",
      "\n",
      "Successfully installed halo-0.0.31 log-symbols-0.0.14 numpy-1.22.1 spinners-0.0.24 termcolor-1.1.0\n"
     ]
    }
   ],
   "source": [
    "!pip install -r requirements.txt"
   ]
  },
  {
   "cell_type": "code",
   "execution_count": 9,
   "id": "3d8d31b1",
   "metadata": {},
   "outputs": [],
   "source": [
    "from ipywidgets import widgets\n",
    "from IPython.display import display\n",
    "from halo import HaloNotebook as Halo\n",
    "from tqdm.notebook import tqdm\n",
    "import plotly.express as px\n",
    "import pandas as pd\n",
    "import os\n",
    "import warnings\n",
    "warnings.filterwarnings('ignore')"
   ]
  },
  {
   "cell_type": "markdown",
   "id": "67e4c827-9803-4583-b858-2a0a506548c7",
   "metadata": {},
   "source": [
    "## Threaded execution\n",
    "Using modin and Dask slightly increases performances, but requires more RAM."
   ]
  },
  {
   "cell_type": "markdown",
   "id": "c5bbf53f-8456-4599-8d4d-8bad4b501058",
   "metadata": {},
   "source": [
    "## Paths "
   ]
  },
  {
   "cell_type": "code",
   "execution_count": 4,
   "id": "a3fd2846",
   "metadata": {},
   "outputs": [],
   "source": [
    "filepath = '../Datasets/7_NaNs_dropped/tcga_cdr_brca_labels.xz'"
   ]
  },
  {
   "cell_type": "markdown",
   "id": "71a5bba9-e66d-45f5-b26b-c9da205ee394",
   "metadata": {},
   "source": [
    "## Functions"
   ]
  },
  {
   "cell_type": "markdown",
   "id": "0b658b8a-952e-41da-af19-c58a625523c7",
   "metadata": {},
   "source": [
    "## Dataset loading"
   ]
  },
  {
   "cell_type": "code",
   "execution_count": 10,
   "id": "eb45b6f1",
   "metadata": {},
   "outputs": [
    {
     "data": {
      "application/vnd.jupyter.widget-view+json": {
       "model_id": "60fea1ae05804dedba2a340ffbc8fca7",
       "version_major": 2,
       "version_minor": 0
      },
      "text/plain": [
       "Output()"
      ]
     },
     "metadata": {},
     "output_type": "display_data"
    },
    {
     "data": {
      "text/html": [
       "<div>\n",
       "<style scoped>\n",
       "    .dataframe tbody tr th:only-of-type {\n",
       "        vertical-align: middle;\n",
       "    }\n",
       "\n",
       "    .dataframe tbody tr th {\n",
       "        vertical-align: top;\n",
       "    }\n",
       "\n",
       "    .dataframe thead th {\n",
       "        text-align: right;\n",
       "    }\n",
       "</style>\n",
       "<table border=\"1\" class=\"dataframe\">\n",
       "  <thead>\n",
       "    <tr style=\"text-align: right;\">\n",
       "      <th></th>\n",
       "      <th>PFI</th>\n",
       "      <th>DFI</th>\n",
       "    </tr>\n",
       "  </thead>\n",
       "  <tbody>\n",
       "    <tr>\n",
       "      <th>TCGA-3C-AALI</th>\n",
       "      <td>0</td>\n",
       "      <td>0</td>\n",
       "    </tr>\n",
       "    <tr>\n",
       "      <th>TCGA-A1-A0SB</th>\n",
       "      <td>0</td>\n",
       "      <td>0</td>\n",
       "    </tr>\n",
       "    <tr>\n",
       "      <th>TCGA-A1-A0SE</th>\n",
       "      <td>0</td>\n",
       "      <td>0</td>\n",
       "    </tr>\n",
       "    <tr>\n",
       "      <th>TCGA-A1-A0SF</th>\n",
       "      <td>0</td>\n",
       "      <td>0</td>\n",
       "    </tr>\n",
       "    <tr>\n",
       "      <th>TCGA-A1-A0SH</th>\n",
       "      <td>0</td>\n",
       "      <td>0</td>\n",
       "    </tr>\n",
       "    <tr>\n",
       "      <th>...</th>\n",
       "      <td>...</td>\n",
       "      <td>...</td>\n",
       "    </tr>\n",
       "    <tr>\n",
       "      <th>TCGA-S3-AA11</th>\n",
       "      <td>0</td>\n",
       "      <td>0</td>\n",
       "    </tr>\n",
       "    <tr>\n",
       "      <th>TCGA-S3-AA14</th>\n",
       "      <td>0</td>\n",
       "      <td>0</td>\n",
       "    </tr>\n",
       "    <tr>\n",
       "      <th>TCGA-S3-AA15</th>\n",
       "      <td>0</td>\n",
       "      <td>0</td>\n",
       "    </tr>\n",
       "    <tr>\n",
       "      <th>TCGA-S3-AA17</th>\n",
       "      <td>0</td>\n",
       "      <td>0</td>\n",
       "    </tr>\n",
       "    <tr>\n",
       "      <th>TCGA-Z7-A8R6</th>\n",
       "      <td>0</td>\n",
       "      <td>0</td>\n",
       "    </tr>\n",
       "  </tbody>\n",
       "</table>\n",
       "<p>400 rows × 2 columns</p>\n",
       "</div>"
      ],
      "text/plain": [
       "              PFI  DFI\n",
       "TCGA-3C-AALI    0    0\n",
       "TCGA-A1-A0SB    0    0\n",
       "TCGA-A1-A0SE    0    0\n",
       "TCGA-A1-A0SF    0    0\n",
       "TCGA-A1-A0SH    0    0\n",
       "...           ...  ...\n",
       "TCGA-S3-AA11    0    0\n",
       "TCGA-S3-AA14    0    0\n",
       "TCGA-S3-AA15    0    0\n",
       "TCGA-S3-AA17    0    0\n",
       "TCGA-Z7-A8R6    0    0\n",
       "\n",
       "[400 rows x 2 columns]"
      ]
     },
     "execution_count": 10,
     "metadata": {},
     "output_type": "execute_result"
    }
   ],
   "source": [
    "with Halo(text=f'Reading {filepath}...', spinner='dots'):\n",
    "    df = pd.read_pickle(filepath)\n",
    "df"
   ]
  },
  {
   "cell_type": "code",
   "execution_count": 12,
   "id": "7cfd27ad-d67b-4b11-bb50-19af60a21d96",
   "metadata": {},
   "outputs": [
    {
     "data": {
      "application/vnd.plotly.v1+json": {
       "config": {
        "plotlyServerURL": "https://plot.ly"
       },
       "data": [
        {
         "hovertemplate": "PFI=%{x}<br>DFI=%{y}<extra></extra>",
         "legendgroup": "",
         "marker": {
          "color": "#636efa",
          "symbol": "circle"
         },
         "mode": "markers",
         "name": "",
         "orientation": "v",
         "showlegend": false,
         "type": "scatter",
         "x": [
          0,
          0,
          0,
          0,
          0,
          0,
          1,
          0,
          0,
          0,
          0,
          0,
          0,
          1,
          0,
          0,
          0,
          0,
          0,
          0,
          0,
          0,
          0,
          0,
          0,
          0,
          0,
          0,
          0,
          0,
          0,
          0,
          0,
          0,
          0,
          0,
          0,
          0,
          0,
          0,
          0,
          1,
          0,
          1,
          0,
          0,
          0,
          1,
          0,
          0,
          0,
          0,
          0,
          0,
          0,
          0,
          0,
          0,
          0,
          0,
          0,
          1,
          0,
          0,
          0,
          0,
          0,
          1,
          0,
          0,
          0,
          0,
          0,
          0,
          0,
          0,
          0,
          0,
          1,
          1,
          0,
          0,
          0,
          0,
          0,
          0,
          0,
          0,
          0,
          0,
          0,
          0,
          1,
          1,
          1,
          0,
          0,
          0,
          0,
          0,
          0,
          0,
          0,
          0,
          1,
          0,
          0,
          0,
          0,
          0,
          0,
          0,
          0,
          0,
          0,
          0,
          0,
          0,
          0,
          0,
          0,
          0,
          1,
          0,
          0,
          1,
          0,
          0,
          0,
          0,
          0,
          0,
          0,
          0,
          1,
          0,
          0,
          0,
          0,
          0,
          0,
          0,
          1,
          0,
          0,
          1,
          0,
          0,
          0,
          0,
          0,
          0,
          0,
          0,
          0,
          0,
          0,
          0,
          0,
          0,
          0,
          1,
          1,
          1,
          0,
          0,
          0,
          0,
          0,
          0,
          0,
          0,
          0,
          0,
          0,
          0,
          0,
          0,
          0,
          0,
          0,
          0,
          0,
          0,
          0,
          1,
          0,
          0,
          0,
          0,
          0,
          0,
          0,
          0,
          0,
          0,
          0,
          0,
          0,
          0,
          0,
          0,
          0,
          0,
          0,
          0,
          0,
          0,
          0,
          0,
          0,
          0,
          0,
          0,
          0,
          0,
          0,
          0,
          0,
          0,
          0,
          0,
          0,
          0,
          0,
          0,
          0,
          0,
          0,
          0,
          0,
          0,
          0,
          1,
          0,
          0,
          0,
          0,
          0,
          0,
          0,
          0,
          0,
          0,
          0,
          0,
          0,
          0,
          0,
          0,
          0,
          0,
          0,
          0,
          0,
          0,
          0,
          0,
          0,
          0,
          0,
          0,
          0,
          0,
          0,
          0,
          0,
          0,
          0,
          0,
          0,
          0,
          0,
          0,
          0,
          0,
          0,
          0,
          0,
          0,
          0,
          0,
          0,
          0,
          0,
          0,
          0,
          0,
          0,
          0,
          0,
          0,
          0,
          0,
          0,
          0,
          0,
          0,
          0,
          0,
          0,
          0,
          1,
          0,
          0,
          0,
          0,
          0,
          0,
          0,
          0,
          0,
          0,
          1,
          0,
          0,
          0,
          1,
          0,
          0,
          1,
          1,
          0,
          0,
          0,
          0,
          0,
          0,
          1,
          0,
          0,
          0,
          0,
          1,
          0,
          0,
          0,
          0,
          0,
          0,
          0,
          0,
          0,
          0,
          0,
          0,
          0,
          0,
          0,
          0,
          0,
          0,
          0,
          0,
          0,
          0,
          0,
          1,
          1,
          0,
          0,
          0,
          0,
          0,
          1,
          1,
          0,
          0,
          0,
          0,
          0,
          0,
          0,
          0,
          0,
          0,
          0,
          0,
          0,
          0,
          0,
          0,
          0,
          0,
          0,
          0,
          0,
          0,
          0,
          0,
          0,
          0,
          0,
          0,
          0,
          0,
          0,
          0,
          0,
          0
         ],
         "xaxis": "x",
         "y": [
          0,
          0,
          0,
          0,
          0,
          0,
          1,
          0,
          0,
          0,
          0,
          0,
          0,
          1,
          0,
          0,
          0,
          0,
          0,
          0,
          0,
          0,
          0,
          0,
          0,
          0,
          0,
          0,
          0,
          0,
          0,
          0,
          0,
          0,
          0,
          0,
          0,
          0,
          0,
          0,
          0,
          1,
          0,
          1,
          0,
          0,
          0,
          1,
          0,
          0,
          0,
          0,
          0,
          0,
          0,
          0,
          0,
          0,
          0,
          0,
          0,
          1,
          0,
          0,
          0,
          0,
          0,
          1,
          0,
          0,
          0,
          0,
          0,
          0,
          0,
          0,
          0,
          0,
          0,
          1,
          0,
          0,
          0,
          0,
          0,
          0,
          0,
          0,
          0,
          0,
          0,
          0,
          1,
          0,
          1,
          0,
          0,
          0,
          0,
          0,
          0,
          0,
          0,
          0,
          1,
          0,
          0,
          0,
          0,
          0,
          0,
          0,
          0,
          0,
          0,
          0,
          0,
          0,
          0,
          0,
          0,
          0,
          1,
          0,
          0,
          1,
          0,
          0,
          0,
          0,
          0,
          0,
          0,
          0,
          1,
          0,
          0,
          0,
          0,
          0,
          0,
          0,
          1,
          0,
          0,
          1,
          0,
          0,
          0,
          0,
          0,
          0,
          0,
          0,
          0,
          0,
          0,
          0,
          0,
          0,
          0,
          1,
          1,
          1,
          0,
          0,
          0,
          0,
          0,
          0,
          0,
          0,
          0,
          0,
          0,
          0,
          0,
          0,
          0,
          0,
          0,
          0,
          0,
          0,
          0,
          1,
          0,
          0,
          0,
          0,
          0,
          0,
          0,
          0,
          0,
          0,
          0,
          0,
          0,
          0,
          0,
          0,
          0,
          0,
          0,
          0,
          0,
          0,
          0,
          0,
          0,
          0,
          0,
          0,
          0,
          0,
          0,
          0,
          0,
          0,
          0,
          0,
          0,
          0,
          0,
          0,
          0,
          0,
          0,
          0,
          0,
          0,
          0,
          1,
          0,
          0,
          0,
          0,
          0,
          0,
          0,
          0,
          0,
          0,
          0,
          0,
          0,
          0,
          0,
          0,
          0,
          0,
          0,
          0,
          0,
          0,
          0,
          0,
          0,
          0,
          0,
          0,
          0,
          0,
          0,
          0,
          0,
          0,
          0,
          0,
          0,
          0,
          0,
          0,
          0,
          0,
          0,
          0,
          0,
          0,
          0,
          0,
          0,
          0,
          0,
          0,
          0,
          0,
          0,
          0,
          0,
          0,
          0,
          0,
          0,
          0,
          0,
          0,
          0,
          0,
          0,
          0,
          1,
          0,
          0,
          0,
          0,
          0,
          0,
          0,
          0,
          0,
          0,
          1,
          0,
          0,
          0,
          1,
          0,
          0,
          1,
          1,
          0,
          0,
          0,
          0,
          0,
          0,
          1,
          0,
          0,
          0,
          0,
          1,
          0,
          0,
          0,
          0,
          0,
          0,
          0,
          0,
          0,
          0,
          0,
          0,
          0,
          0,
          0,
          0,
          0,
          0,
          0,
          0,
          0,
          0,
          0,
          1,
          1,
          0,
          0,
          0,
          0,
          0,
          1,
          1,
          0,
          0,
          0,
          0,
          0,
          0,
          0,
          0,
          0,
          0,
          0,
          0,
          0,
          0,
          0,
          0,
          0,
          0,
          0,
          0,
          0,
          0,
          0,
          0,
          0,
          0,
          0,
          0,
          0,
          0,
          0,
          0,
          0,
          0
         ],
         "yaxis": "y"
        }
       ],
       "layout": {
        "autosize": true,
        "legend": {
         "tracegroupgap": 0
        },
        "template": {
         "data": {
          "bar": [
           {
            "error_x": {
             "color": "#2a3f5f"
            },
            "error_y": {
             "color": "#2a3f5f"
            },
            "marker": {
             "line": {
              "color": "#E5ECF6",
              "width": 0.5
             },
             "pattern": {
              "fillmode": "overlay",
              "size": 10,
              "solidity": 0.2
             }
            },
            "type": "bar"
           }
          ],
          "barpolar": [
           {
            "marker": {
             "line": {
              "color": "#E5ECF6",
              "width": 0.5
             },
             "pattern": {
              "fillmode": "overlay",
              "size": 10,
              "solidity": 0.2
             }
            },
            "type": "barpolar"
           }
          ],
          "carpet": [
           {
            "aaxis": {
             "endlinecolor": "#2a3f5f",
             "gridcolor": "white",
             "linecolor": "white",
             "minorgridcolor": "white",
             "startlinecolor": "#2a3f5f"
            },
            "baxis": {
             "endlinecolor": "#2a3f5f",
             "gridcolor": "white",
             "linecolor": "white",
             "minorgridcolor": "white",
             "startlinecolor": "#2a3f5f"
            },
            "type": "carpet"
           }
          ],
          "choropleth": [
           {
            "colorbar": {
             "outlinewidth": 0,
             "ticks": ""
            },
            "type": "choropleth"
           }
          ],
          "contour": [
           {
            "colorbar": {
             "outlinewidth": 0,
             "ticks": ""
            },
            "colorscale": [
             [
              0,
              "#0d0887"
             ],
             [
              0.1111111111111111,
              "#46039f"
             ],
             [
              0.2222222222222222,
              "#7201a8"
             ],
             [
              0.3333333333333333,
              "#9c179e"
             ],
             [
              0.4444444444444444,
              "#bd3786"
             ],
             [
              0.5555555555555556,
              "#d8576b"
             ],
             [
              0.6666666666666666,
              "#ed7953"
             ],
             [
              0.7777777777777778,
              "#fb9f3a"
             ],
             [
              0.8888888888888888,
              "#fdca26"
             ],
             [
              1,
              "#f0f921"
             ]
            ],
            "type": "contour"
           }
          ],
          "contourcarpet": [
           {
            "colorbar": {
             "outlinewidth": 0,
             "ticks": ""
            },
            "type": "contourcarpet"
           }
          ],
          "heatmap": [
           {
            "colorbar": {
             "outlinewidth": 0,
             "ticks": ""
            },
            "colorscale": [
             [
              0,
              "#0d0887"
             ],
             [
              0.1111111111111111,
              "#46039f"
             ],
             [
              0.2222222222222222,
              "#7201a8"
             ],
             [
              0.3333333333333333,
              "#9c179e"
             ],
             [
              0.4444444444444444,
              "#bd3786"
             ],
             [
              0.5555555555555556,
              "#d8576b"
             ],
             [
              0.6666666666666666,
              "#ed7953"
             ],
             [
              0.7777777777777778,
              "#fb9f3a"
             ],
             [
              0.8888888888888888,
              "#fdca26"
             ],
             [
              1,
              "#f0f921"
             ]
            ],
            "type": "heatmap"
           }
          ],
          "heatmapgl": [
           {
            "colorbar": {
             "outlinewidth": 0,
             "ticks": ""
            },
            "colorscale": [
             [
              0,
              "#0d0887"
             ],
             [
              0.1111111111111111,
              "#46039f"
             ],
             [
              0.2222222222222222,
              "#7201a8"
             ],
             [
              0.3333333333333333,
              "#9c179e"
             ],
             [
              0.4444444444444444,
              "#bd3786"
             ],
             [
              0.5555555555555556,
              "#d8576b"
             ],
             [
              0.6666666666666666,
              "#ed7953"
             ],
             [
              0.7777777777777778,
              "#fb9f3a"
             ],
             [
              0.8888888888888888,
              "#fdca26"
             ],
             [
              1,
              "#f0f921"
             ]
            ],
            "type": "heatmapgl"
           }
          ],
          "histogram": [
           {
            "marker": {
             "pattern": {
              "fillmode": "overlay",
              "size": 10,
              "solidity": 0.2
             }
            },
            "type": "histogram"
           }
          ],
          "histogram2d": [
           {
            "colorbar": {
             "outlinewidth": 0,
             "ticks": ""
            },
            "colorscale": [
             [
              0,
              "#0d0887"
             ],
             [
              0.1111111111111111,
              "#46039f"
             ],
             [
              0.2222222222222222,
              "#7201a8"
             ],
             [
              0.3333333333333333,
              "#9c179e"
             ],
             [
              0.4444444444444444,
              "#bd3786"
             ],
             [
              0.5555555555555556,
              "#d8576b"
             ],
             [
              0.6666666666666666,
              "#ed7953"
             ],
             [
              0.7777777777777778,
              "#fb9f3a"
             ],
             [
              0.8888888888888888,
              "#fdca26"
             ],
             [
              1,
              "#f0f921"
             ]
            ],
            "type": "histogram2d"
           }
          ],
          "histogram2dcontour": [
           {
            "colorbar": {
             "outlinewidth": 0,
             "ticks": ""
            },
            "colorscale": [
             [
              0,
              "#0d0887"
             ],
             [
              0.1111111111111111,
              "#46039f"
             ],
             [
              0.2222222222222222,
              "#7201a8"
             ],
             [
              0.3333333333333333,
              "#9c179e"
             ],
             [
              0.4444444444444444,
              "#bd3786"
             ],
             [
              0.5555555555555556,
              "#d8576b"
             ],
             [
              0.6666666666666666,
              "#ed7953"
             ],
             [
              0.7777777777777778,
              "#fb9f3a"
             ],
             [
              0.8888888888888888,
              "#fdca26"
             ],
             [
              1,
              "#f0f921"
             ]
            ],
            "type": "histogram2dcontour"
           }
          ],
          "mesh3d": [
           {
            "colorbar": {
             "outlinewidth": 0,
             "ticks": ""
            },
            "type": "mesh3d"
           }
          ],
          "parcoords": [
           {
            "line": {
             "colorbar": {
              "outlinewidth": 0,
              "ticks": ""
             }
            },
            "type": "parcoords"
           }
          ],
          "pie": [
           {
            "automargin": true,
            "type": "pie"
           }
          ],
          "scatter": [
           {
            "marker": {
             "colorbar": {
              "outlinewidth": 0,
              "ticks": ""
             }
            },
            "type": "scatter"
           }
          ],
          "scatter3d": [
           {
            "line": {
             "colorbar": {
              "outlinewidth": 0,
              "ticks": ""
             }
            },
            "marker": {
             "colorbar": {
              "outlinewidth": 0,
              "ticks": ""
             }
            },
            "type": "scatter3d"
           }
          ],
          "scattercarpet": [
           {
            "marker": {
             "colorbar": {
              "outlinewidth": 0,
              "ticks": ""
             }
            },
            "type": "scattercarpet"
           }
          ],
          "scattergeo": [
           {
            "marker": {
             "colorbar": {
              "outlinewidth": 0,
              "ticks": ""
             }
            },
            "type": "scattergeo"
           }
          ],
          "scattergl": [
           {
            "marker": {
             "colorbar": {
              "outlinewidth": 0,
              "ticks": ""
             }
            },
            "type": "scattergl"
           }
          ],
          "scattermapbox": [
           {
            "marker": {
             "colorbar": {
              "outlinewidth": 0,
              "ticks": ""
             }
            },
            "type": "scattermapbox"
           }
          ],
          "scatterpolar": [
           {
            "marker": {
             "colorbar": {
              "outlinewidth": 0,
              "ticks": ""
             }
            },
            "type": "scatterpolar"
           }
          ],
          "scatterpolargl": [
           {
            "marker": {
             "colorbar": {
              "outlinewidth": 0,
              "ticks": ""
             }
            },
            "type": "scatterpolargl"
           }
          ],
          "scatterternary": [
           {
            "marker": {
             "colorbar": {
              "outlinewidth": 0,
              "ticks": ""
             }
            },
            "type": "scatterternary"
           }
          ],
          "surface": [
           {
            "colorbar": {
             "outlinewidth": 0,
             "ticks": ""
            },
            "colorscale": [
             [
              0,
              "#0d0887"
             ],
             [
              0.1111111111111111,
              "#46039f"
             ],
             [
              0.2222222222222222,
              "#7201a8"
             ],
             [
              0.3333333333333333,
              "#9c179e"
             ],
             [
              0.4444444444444444,
              "#bd3786"
             ],
             [
              0.5555555555555556,
              "#d8576b"
             ],
             [
              0.6666666666666666,
              "#ed7953"
             ],
             [
              0.7777777777777778,
              "#fb9f3a"
             ],
             [
              0.8888888888888888,
              "#fdca26"
             ],
             [
              1,
              "#f0f921"
             ]
            ],
            "type": "surface"
           }
          ],
          "table": [
           {
            "cells": {
             "fill": {
              "color": "#EBF0F8"
             },
             "line": {
              "color": "white"
             }
            },
            "header": {
             "fill": {
              "color": "#C8D4E3"
             },
             "line": {
              "color": "white"
             }
            },
            "type": "table"
           }
          ]
         },
         "layout": {
          "annotationdefaults": {
           "arrowcolor": "#2a3f5f",
           "arrowhead": 0,
           "arrowwidth": 1
          },
          "autotypenumbers": "strict",
          "coloraxis": {
           "colorbar": {
            "outlinewidth": 0,
            "ticks": ""
           }
          },
          "colorscale": {
           "diverging": [
            [
             0,
             "#8e0152"
            ],
            [
             0.1,
             "#c51b7d"
            ],
            [
             0.2,
             "#de77ae"
            ],
            [
             0.3,
             "#f1b6da"
            ],
            [
             0.4,
             "#fde0ef"
            ],
            [
             0.5,
             "#f7f7f7"
            ],
            [
             0.6,
             "#e6f5d0"
            ],
            [
             0.7,
             "#b8e186"
            ],
            [
             0.8,
             "#7fbc41"
            ],
            [
             0.9,
             "#4d9221"
            ],
            [
             1,
             "#276419"
            ]
           ],
           "sequential": [
            [
             0,
             "#0d0887"
            ],
            [
             0.1111111111111111,
             "#46039f"
            ],
            [
             0.2222222222222222,
             "#7201a8"
            ],
            [
             0.3333333333333333,
             "#9c179e"
            ],
            [
             0.4444444444444444,
             "#bd3786"
            ],
            [
             0.5555555555555556,
             "#d8576b"
            ],
            [
             0.6666666666666666,
             "#ed7953"
            ],
            [
             0.7777777777777778,
             "#fb9f3a"
            ],
            [
             0.8888888888888888,
             "#fdca26"
            ],
            [
             1,
             "#f0f921"
            ]
           ],
           "sequentialminus": [
            [
             0,
             "#0d0887"
            ],
            [
             0.1111111111111111,
             "#46039f"
            ],
            [
             0.2222222222222222,
             "#7201a8"
            ],
            [
             0.3333333333333333,
             "#9c179e"
            ],
            [
             0.4444444444444444,
             "#bd3786"
            ],
            [
             0.5555555555555556,
             "#d8576b"
            ],
            [
             0.6666666666666666,
             "#ed7953"
            ],
            [
             0.7777777777777778,
             "#fb9f3a"
            ],
            [
             0.8888888888888888,
             "#fdca26"
            ],
            [
             1,
             "#f0f921"
            ]
           ]
          },
          "colorway": [
           "#636efa",
           "#EF553B",
           "#00cc96",
           "#ab63fa",
           "#FFA15A",
           "#19d3f3",
           "#FF6692",
           "#B6E880",
           "#FF97FF",
           "#FECB52"
          ],
          "font": {
           "color": "#2a3f5f"
          },
          "geo": {
           "bgcolor": "white",
           "lakecolor": "white",
           "landcolor": "#E5ECF6",
           "showlakes": true,
           "showland": true,
           "subunitcolor": "white"
          },
          "hoverlabel": {
           "align": "left"
          },
          "hovermode": "closest",
          "mapbox": {
           "style": "light"
          },
          "paper_bgcolor": "white",
          "plot_bgcolor": "#E5ECF6",
          "polar": {
           "angularaxis": {
            "gridcolor": "white",
            "linecolor": "white",
            "ticks": ""
           },
           "bgcolor": "#E5ECF6",
           "radialaxis": {
            "gridcolor": "white",
            "linecolor": "white",
            "ticks": ""
           }
          },
          "scene": {
           "xaxis": {
            "backgroundcolor": "#E5ECF6",
            "gridcolor": "white",
            "gridwidth": 2,
            "linecolor": "white",
            "showbackground": true,
            "ticks": "",
            "zerolinecolor": "white"
           },
           "yaxis": {
            "backgroundcolor": "#E5ECF6",
            "gridcolor": "white",
            "gridwidth": 2,
            "linecolor": "white",
            "showbackground": true,
            "ticks": "",
            "zerolinecolor": "white"
           },
           "zaxis": {
            "backgroundcolor": "#E5ECF6",
            "gridcolor": "white",
            "gridwidth": 2,
            "linecolor": "white",
            "showbackground": true,
            "ticks": "",
            "zerolinecolor": "white"
           }
          },
          "shapedefaults": {
           "line": {
            "color": "#2a3f5f"
           }
          },
          "ternary": {
           "aaxis": {
            "gridcolor": "white",
            "linecolor": "white",
            "ticks": ""
           },
           "baxis": {
            "gridcolor": "white",
            "linecolor": "white",
            "ticks": ""
           },
           "bgcolor": "#E5ECF6",
           "caxis": {
            "gridcolor": "white",
            "linecolor": "white",
            "ticks": ""
           }
          },
          "title": {
           "x": 0.05
          },
          "xaxis": {
           "automargin": true,
           "gridcolor": "white",
           "linecolor": "white",
           "ticks": "",
           "title": {
            "standoff": 15
           },
           "zerolinecolor": "white",
           "zerolinewidth": 2
          },
          "yaxis": {
           "automargin": true,
           "gridcolor": "white",
           "linecolor": "white",
           "ticks": "",
           "title": {
            "standoff": 15
           },
           "zerolinecolor": "white",
           "zerolinewidth": 2
          }
         }
        },
        "title": {
         "text": "PFI vs DFI"
        },
        "xaxis": {
         "anchor": "y",
         "autorange": true,
         "domain": [
          0,
          1
         ],
         "range": [
          -0.05925728500355367,
          1.0592572850035538
         ],
         "title": {
          "text": "PFI"
         },
         "type": "linear"
        },
        "yaxis": {
         "anchor": "x",
         "autorange": true,
         "domain": [
          0,
          1
         ],
         "range": [
          -0.0825242718446602,
          1.0825242718446602
         ],
         "title": {
          "text": "DFI"
         },
         "type": "linear"
        }
       }
      },
      "image/png": "[encoded data removed]",
      "text/html": [
       "<div>                            <div id=\"78ae3f92-c2af-4b43-8692-8f204fbf3964\" class=\"plotly-graph-div\" style=\"height:525px; width:100%;\"></div>            <script type=\"text/javascript\">                require([\"plotly\"], function(Plotly) {                    window.PLOTLYENV=window.PLOTLYENV || {};                                    if (document.getElementById(\"78ae3f92-c2af-4b43-8692-8f204fbf3964\")) {                    Plotly.newPlot(                        \"78ae3f92-c2af-4b43-8692-8f204fbf3964\",                        [{\"hovertemplate\":\"PFI=%{x}<br>DFI=%{y}<extra></extra>\",\"legendgroup\":\"\",\"marker\":{\"color\":\"#636efa\",\"symbol\":\"circle\"},\"mode\":\"markers\",\"name\":\"\",\"orientation\":\"v\",\"showlegend\":false,\"x\":[0,0,0,0,0,0,1,0,0,0,0,0,0,1,0,0,0,0,0,0,0,0,0,0,0,0,0,0,0,0,0,0,0,0,0,0,0,0,0,0,0,1,0,1,0,0,0,1,0,0,0,0,0,0,0,0,0,0,0,0,0,1,0,0,0,0,0,1,0,0,0,0,0,0,0,0,0,0,1,1,0,0,0,0,0,0,0,0,0,0,0,0,1,1,1,0,0,0,0,0,0,0,0,0,1,0,0,0,0,0,0,0,0,0,0,0,0,0,0,0,0,0,1,0,0,1,0,0,0,0,0,0,0,0,1,0,0,0,0,0,0,0,1,0,0,1,0,0,0,0,0,0,0,0,0,0,0,0,0,0,0,1,1,1,0,0,0,0,0,0,0,0,0,0,0,0,0,0,0,0,0,0,0,0,0,1,0,0,0,0,0,0,0,0,0,0,0,0,0,0,0,0,0,0,0,0,0,0,0,0,0,0,0,0,0,0,0,0,0,0,0,0,0,0,0,0,0,0,0,0,0,0,0,1,0,0,0,0,0,0,0,0,0,0,0,0,0,0,0,0,0,0,0,0,0,0,0,0,0,0,0,0,0,0,0,0,0,0,0,0,0,0,0,0,0,0,0,0,0,0,0,0,0,0,0,0,0,0,0,0,0,0,0,0,0,0,0,0,0,0,0,0,1,0,0,0,0,0,0,0,0,0,0,1,0,0,0,1,0,0,1,1,0,0,0,0,0,0,1,0,0,0,0,1,0,0,0,0,0,0,0,0,0,0,0,0,0,0,0,0,0,0,0,0,0,0,0,1,1,0,0,0,0,0,1,1,0,0,0,0,0,0,0,0,0,0,0,0,0,0,0,0,0,0,0,0,0,0,0,0,0,0,0,0,0,0,0,0,0,0],\"xaxis\":\"x\",\"y\":[0,0,0,0,0,0,1,0,0,0,0,0,0,1,0,0,0,0,0,0,0,0,0,0,0,0,0,0,0,0,0,0,0,0,0,0,0,0,0,0,0,1,0,1,0,0,0,1,0,0,0,0,0,0,0,0,0,0,0,0,0,1,0,0,0,0,0,1,0,0,0,0,0,0,0,0,0,0,0,1,0,0,0,0,0,0,0,0,0,0,0,0,1,0,1,0,0,0,0,0,0,0,0,0,1,0,0,0,0,0,0,0,0,0,0,0,0,0,0,0,0,0,1,0,0,1,0,0,0,0,0,0,0,0,1,0,0,0,0,0,0,0,1,0,0,1,0,0,0,0,0,0,0,0,0,0,0,0,0,0,0,1,1,1,0,0,0,0,0,0,0,0,0,0,0,0,0,0,0,0,0,0,0,0,0,1,0,0,0,0,0,0,0,0,0,0,0,0,0,0,0,0,0,0,0,0,0,0,0,0,0,0,0,0,0,0,0,0,0,0,0,0,0,0,0,0,0,0,0,0,0,0,0,1,0,0,0,0,0,0,0,0,0,0,0,0,0,0,0,0,0,0,0,0,0,0,0,0,0,0,0,0,0,0,0,0,0,0,0,0,0,0,0,0,0,0,0,0,0,0,0,0,0,0,0,0,0,0,0,0,0,0,0,0,0,0,0,0,0,0,0,0,1,0,0,0,0,0,0,0,0,0,0,1,0,0,0,1,0,0,1,1,0,0,0,0,0,0,1,0,0,0,0,1,0,0,0,0,0,0,0,0,0,0,0,0,0,0,0,0,0,0,0,0,0,0,0,1,1,0,0,0,0,0,1,1,0,0,0,0,0,0,0,0,0,0,0,0,0,0,0,0,0,0,0,0,0,0,0,0,0,0,0,0,0,0,0,0,0,0],\"yaxis\":\"y\",\"type\":\"scatter\"}],                        {\"template\":{\"data\":{\"bar\":[{\"error_x\":{\"color\":\"#2a3f5f\"},\"error_y\":{\"color\":\"#2a3f5f\"},\"marker\":{\"line\":{\"color\":\"#E5ECF6\",\"width\":0.5},\"pattern\":{\"fillmode\":\"overlay\",\"size\":10,\"solidity\":0.2}},\"type\":\"bar\"}],\"barpolar\":[{\"marker\":{\"line\":{\"color\":\"#E5ECF6\",\"width\":0.5},\"pattern\":{\"fillmode\":\"overlay\",\"size\":10,\"solidity\":0.2}},\"type\":\"barpolar\"}],\"carpet\":[{\"aaxis\":{\"endlinecolor\":\"#2a3f5f\",\"gridcolor\":\"white\",\"linecolor\":\"white\",\"minorgridcolor\":\"white\",\"startlinecolor\":\"#2a3f5f\"},\"baxis\":{\"endlinecolor\":\"#2a3f5f\",\"gridcolor\":\"white\",\"linecolor\":\"white\",\"minorgridcolor\":\"white\",\"startlinecolor\":\"#2a3f5f\"},\"type\":\"carpet\"}],\"choropleth\":[{\"colorbar\":{\"outlinewidth\":0,\"ticks\":\"\"},\"type\":\"choropleth\"}],\"contour\":[{\"colorbar\":{\"outlinewidth\":0,\"ticks\":\"\"},\"colorscale\":[[0.0,\"#0d0887\"],[0.1111111111111111,\"#46039f\"],[0.2222222222222222,\"#7201a8\"],[0.3333333333333333,\"#9c179e\"],[0.4444444444444444,\"#bd3786\"],[0.5555555555555556,\"#d8576b\"],[0.6666666666666666,\"#ed7953\"],[0.7777777777777778,\"#fb9f3a\"],[0.8888888888888888,\"#fdca26\"],[1.0,\"#f0f921\"]],\"type\":\"contour\"}],\"contourcarpet\":[{\"colorbar\":{\"outlinewidth\":0,\"ticks\":\"\"},\"type\":\"contourcarpet\"}],\"heatmap\":[{\"colorbar\":{\"outlinewidth\":0,\"ticks\":\"\"},\"colorscale\":[[0.0,\"#0d0887\"],[0.1111111111111111,\"#46039f\"],[0.2222222222222222,\"#7201a8\"],[0.3333333333333333,\"#9c179e\"],[0.4444444444444444,\"#bd3786\"],[0.5555555555555556,\"#d8576b\"],[0.6666666666666666,\"#ed7953\"],[0.7777777777777778,\"#fb9f3a\"],[0.8888888888888888,\"#fdca26\"],[1.0,\"#f0f921\"]],\"type\":\"heatmap\"}],\"heatmapgl\":[{\"colorbar\":{\"outlinewidth\":0,\"ticks\":\"\"},\"colorscale\":[[0.0,\"#0d0887\"],[0.1111111111111111,\"#46039f\"],[0.2222222222222222,\"#7201a8\"],[0.3333333333333333,\"#9c179e\"],[0.4444444444444444,\"#bd3786\"],[0.5555555555555556,\"#d8576b\"],[0.6666666666666666,\"#ed7953\"],[0.7777777777777778,\"#fb9f3a\"],[0.8888888888888888,\"#fdca26\"],[1.0,\"#f0f921\"]],\"type\":\"heatmapgl\"}],\"histogram\":[{\"marker\":{\"pattern\":{\"fillmode\":\"overlay\",\"size\":10,\"solidity\":0.2}},\"type\":\"histogram\"}],\"histogram2d\":[{\"colorbar\":{\"outlinewidth\":0,\"ticks\":\"\"},\"colorscale\":[[0.0,\"#0d0887\"],[0.1111111111111111,\"#46039f\"],[0.2222222222222222,\"#7201a8\"],[0.3333333333333333,\"#9c179e\"],[0.4444444444444444,\"#bd3786\"],[0.5555555555555556,\"#d8576b\"],[0.6666666666666666,\"#ed7953\"],[0.7777777777777778,\"#fb9f3a\"],[0.8888888888888888,\"#fdca26\"],[1.0,\"#f0f921\"]],\"type\":\"histogram2d\"}],\"histogram2dcontour\":[{\"colorbar\":{\"outlinewidth\":0,\"ticks\":\"\"},\"colorscale\":[[0.0,\"#0d0887\"],[0.1111111111111111,\"#46039f\"],[0.2222222222222222,\"#7201a8\"],[0.3333333333333333,\"#9c179e\"],[0.4444444444444444,\"#bd3786\"],[0.5555555555555556,\"#d8576b\"],[0.6666666666666666,\"#ed7953\"],[0.7777777777777778,\"#fb9f3a\"],[0.8888888888888888,\"#fdca26\"],[1.0,\"#f0f921\"]],\"type\":\"histogram2dcontour\"}],\"mesh3d\":[{\"colorbar\":{\"outlinewidth\":0,\"ticks\":\"\"},\"type\":\"mesh3d\"}],\"parcoords\":[{\"line\":{\"colorbar\":{\"outlinewidth\":0,\"ticks\":\"\"}},\"type\":\"parcoords\"}],\"pie\":[{\"automargin\":true,\"type\":\"pie\"}],\"scatter\":[{\"marker\":{\"colorbar\":{\"outlinewidth\":0,\"ticks\":\"\"}},\"type\":\"scatter\"}],\"scatter3d\":[{\"line\":{\"colorbar\":{\"outlinewidth\":0,\"ticks\":\"\"}},\"marker\":{\"colorbar\":{\"outlinewidth\":0,\"ticks\":\"\"}},\"type\":\"scatter3d\"}],\"scattercarpet\":[{\"marker\":{\"colorbar\":{\"outlinewidth\":0,\"ticks\":\"\"}},\"type\":\"scattercarpet\"}],\"scattergeo\":[{\"marker\":{\"colorbar\":{\"outlinewidth\":0,\"ticks\":\"\"}},\"type\":\"scattergeo\"}],\"scattergl\":[{\"marker\":{\"colorbar\":{\"outlinewidth\":0,\"ticks\":\"\"}},\"type\":\"scattergl\"}],\"scattermapbox\":[{\"marker\":{\"colorbar\":{\"outlinewidth\":0,\"ticks\":\"\"}},\"type\":\"scattermapbox\"}],\"scatterpolar\":[{\"marker\":{\"colorbar\":{\"outlinewidth\":0,\"ticks\":\"\"}},\"type\":\"scatterpolar\"}],\"scatterpolargl\":[{\"marker\":{\"colorbar\":{\"outlinewidth\":0,\"ticks\":\"\"}},\"type\":\"scatterpolargl\"}],\"scatterternary\":[{\"marker\":{\"colorbar\":{\"outlinewidth\":0,\"ticks\":\"\"}},\"type\":\"scatterternary\"}],\"surface\":[{\"colorbar\":{\"outlinewidth\":0,\"ticks\":\"\"},\"colorscale\":[[0.0,\"#0d0887\"],[0.1111111111111111,\"#46039f\"],[0.2222222222222222,\"#7201a8\"],[0.3333333333333333,\"#9c179e\"],[0.4444444444444444,\"#bd3786\"],[0.5555555555555556,\"#d8576b\"],[0.6666666666666666,\"#ed7953\"],[0.7777777777777778,\"#fb9f3a\"],[0.8888888888888888,\"#fdca26\"],[1.0,\"#f0f921\"]],\"type\":\"surface\"}],\"table\":[{\"cells\":{\"fill\":{\"color\":\"#EBF0F8\"},\"line\":{\"color\":\"white\"}},\"header\":{\"fill\":{\"color\":\"#C8D4E3\"},\"line\":{\"color\":\"white\"}},\"type\":\"table\"}]},\"layout\":{\"annotationdefaults\":{\"arrowcolor\":\"#2a3f5f\",\"arrowhead\":0,\"arrowwidth\":1},\"autotypenumbers\":\"strict\",\"coloraxis\":{\"colorbar\":{\"outlinewidth\":0,\"ticks\":\"\"}},\"colorscale\":{\"diverging\":[[0,\"#8e0152\"],[0.1,\"#c51b7d\"],[0.2,\"#de77ae\"],[0.3,\"#f1b6da\"],[0.4,\"#fde0ef\"],[0.5,\"#f7f7f7\"],[0.6,\"#e6f5d0\"],[0.7,\"#b8e186\"],[0.8,\"#7fbc41\"],[0.9,\"#4d9221\"],[1,\"#276419\"]],\"sequential\":[[0.0,\"#0d0887\"],[0.1111111111111111,\"#46039f\"],[0.2222222222222222,\"#7201a8\"],[0.3333333333333333,\"#9c179e\"],[0.4444444444444444,\"#bd3786\"],[0.5555555555555556,\"#d8576b\"],[0.6666666666666666,\"#ed7953\"],[0.7777777777777778,\"#fb9f3a\"],[0.8888888888888888,\"#fdca26\"],[1.0,\"#f0f921\"]],\"sequentialminus\":[[0.0,\"#0d0887\"],[0.1111111111111111,\"#46039f\"],[0.2222222222222222,\"#7201a8\"],[0.3333333333333333,\"#9c179e\"],[0.4444444444444444,\"#bd3786\"],[0.5555555555555556,\"#d8576b\"],[0.6666666666666666,\"#ed7953\"],[0.7777777777777778,\"#fb9f3a\"],[0.8888888888888888,\"#fdca26\"],[1.0,\"#f0f921\"]]},\"colorway\":[\"#636efa\",\"#EF553B\",\"#00cc96\",\"#ab63fa\",\"#FFA15A\",\"#19d3f3\",\"#FF6692\",\"#B6E880\",\"#FF97FF\",\"#FECB52\"],\"font\":{\"color\":\"#2a3f5f\"},\"geo\":{\"bgcolor\":\"white\",\"lakecolor\":\"white\",\"landcolor\":\"#E5ECF6\",\"showlakes\":true,\"showland\":true,\"subunitcolor\":\"white\"},\"hoverlabel\":{\"align\":\"left\"},\"hovermode\":\"closest\",\"mapbox\":{\"style\":\"light\"},\"paper_bgcolor\":\"white\",\"plot_bgcolor\":\"#E5ECF6\",\"polar\":{\"angularaxis\":{\"gridcolor\":\"white\",\"linecolor\":\"white\",\"ticks\":\"\"},\"bgcolor\":\"#E5ECF6\",\"radialaxis\":{\"gridcolor\":\"white\",\"linecolor\":\"white\",\"ticks\":\"\"}},\"scene\":{\"xaxis\":{\"backgroundcolor\":\"#E5ECF6\",\"gridcolor\":\"white\",\"gridwidth\":2,\"linecolor\":\"white\",\"showbackground\":true,\"ticks\":\"\",\"zerolinecolor\":\"white\"},\"yaxis\":{\"backgroundcolor\":\"#E5ECF6\",\"gridcolor\":\"white\",\"gridwidth\":2,\"linecolor\":\"white\",\"showbackground\":true,\"ticks\":\"\",\"zerolinecolor\":\"white\"},\"zaxis\":{\"backgroundcolor\":\"#E5ECF6\",\"gridcolor\":\"white\",\"gridwidth\":2,\"linecolor\":\"white\",\"showbackground\":true,\"ticks\":\"\",\"zerolinecolor\":\"white\"}},\"shapedefaults\":{\"line\":{\"color\":\"#2a3f5f\"}},\"ternary\":{\"aaxis\":{\"gridcolor\":\"white\",\"linecolor\":\"white\",\"ticks\":\"\"},\"baxis\":{\"gridcolor\":\"white\",\"linecolor\":\"white\",\"ticks\":\"\"},\"bgcolor\":\"#E5ECF6\",\"caxis\":{\"gridcolor\":\"white\",\"linecolor\":\"white\",\"ticks\":\"\"}},\"title\":{\"x\":0.05},\"xaxis\":{\"automargin\":true,\"gridcolor\":\"white\",\"linecolor\":\"white\",\"ticks\":\"\",\"title\":{\"standoff\":15},\"zerolinecolor\":\"white\",\"zerolinewidth\":2},\"yaxis\":{\"automargin\":true,\"gridcolor\":\"white\",\"linecolor\":\"white\",\"ticks\":\"\",\"title\":{\"standoff\":15},\"zerolinecolor\":\"white\",\"zerolinewidth\":2}}},\"xaxis\":{\"anchor\":\"y\",\"domain\":[0.0,1.0],\"title\":{\"text\":\"PFI\"}},\"yaxis\":{\"anchor\":\"x\",\"domain\":[0.0,1.0],\"title\":{\"text\":\"DFI\"}},\"legend\":{\"tracegroupgap\":0},\"title\":{\"text\":\"PFI vs DFI\"}},                        {\"responsive\": true}                    ).then(function(){\n",
       "                            \n",
       "var gd = document.getElementById('78ae3f92-c2af-4b43-8692-8f204fbf3964');\n",
       "var x = new MutationObserver(function (mutations, observer) {{\n",
       "        var display = window.getComputedStyle(gd).display;\n",
       "        if (!display || display === 'none') {{\n",
       "            console.log([gd, 'removed!']);\n",
       "            Plotly.purge(gd);\n",
       "            observer.disconnect();\n",
       "        }}\n",
       "}});\n",
       "\n",
       "// Listen for the removal of the full notebook cells\n",
       "var notebookContainer = gd.closest('#notebook-container');\n",
       "if (notebookContainer) {{\n",
       "    x.observe(notebookContainer, {childList: true});\n",
       "}}\n",
       "\n",
       "// Listen for the clearing of the current output cell\n",
       "var outputEl = gd.closest('.output');\n",
       "if (outputEl) {{\n",
       "    x.observe(outputEl, {childList: true});\n",
       "}}\n",
       "\n",
       "                        })                };                });            </script>        </div>"
      ]
     },
     "metadata": {},
     "output_type": "display_data"
    }
   ],
   "source": [
    "fig = px.scatter(df, x='PFI', y='DFI', title='PFI vs DFI')\n",
    "fig.show()"
   ]
  },
  {
   "cell_type": "code",
   "execution_count": 27,
   "id": "bad64abf-9633-4535-9e99-dc4d2604e0fb",
   "metadata": {},
   "outputs": [
    {
     "data": {
      "text/plain": [
       "TCGA-AC-A2B8    True\n",
       "TCGA-AO-A03U    True\n",
       "dtype: bool"
      ]
     },
     "execution_count": 27,
     "metadata": {},
     "output_type": "execute_result"
    }
   ],
   "source": [
    "compared = df.apply(lambda x: x['PFI'] != x['DFI'], axis=1)\n",
    "differences = compared[compared]\n",
    "\n",
    "differences"
   ]
  },
  {
   "cell_type": "code",
   "execution_count": 28,
   "id": "6707d9d3-8b7e-4b4f-b0ce-10767b346b4f",
   "metadata": {},
   "outputs": [
    {
     "name": "stdout",
     "output_type": "stream",
     "text": [
      "0.5% of entries are different.\n"
     ]
    }
   ],
   "source": [
    "print(f'{len(differences)/len(compared)*100}% of entries are different.')"
   ]
  }
 ],
 "metadata": {
  "kernelspec": {
   "display_name": "Python 3 (ipykernel)",
   "language": "python",
   "name": "python3"
  },
  "language_info": {
   "codemirror_mode": {
    "name": "ipython",
    "version": 3
   },
   "file_extension": ".py",
   "mimetype": "text/x-python",
   "name": "python",
   "nbconvert_exporter": "python",
   "pygments_lexer": "ipython3",
   "version": "3.9.10"
  }
 },
 "nbformat": 4,
 "nbformat_minor": 5
}

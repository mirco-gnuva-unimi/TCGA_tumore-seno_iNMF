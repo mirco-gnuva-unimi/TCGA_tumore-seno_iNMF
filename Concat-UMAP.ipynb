{
 "cells": [
  {
   "cell_type": "markdown",
   "id": "a0971f3a-f9d1-4ef6-8b40-b129709394fa",
   "metadata": {},
   "source": [
    "# Google Drive"
   ]
  },
  {
   "cell_type": "code",
   "execution_count": null,
   "id": "343f3d7a-bf93-4969-a44b-a936fbda0829",
   "metadata": {},
   "outputs": [],
   "source": [
    "from google.colab import drive\n",
    "import os\n",
    "drive.mount('/content/drive/Othercomputers/Il mio computer/Tesi/Computing/Datasets')"
   ]
  },
  {
   "cell_type": "markdown",
   "id": "155ccb4a-38f8-4e57-a4bb-46d47ba2ce4d",
   "metadata": {},
   "source": [
    "# Initialization"
   ]
  },
  {
   "cell_type": "code",
   "execution_count": null,
   "id": "36eeeaad",
   "metadata": {
    "scrolled": true,
    "tags": []
   },
   "outputs": [],
   "source": [
    "!pip install -r requirements.txt"
   ]
  },
  {
   "cell_type": "code",
   "execution_count": 3,
   "id": "3d8d31b1",
   "metadata": {},
   "outputs": [],
   "source": [
    "from ipywidgets import widgets\n",
    "from IPython.display import display\n",
    "from halo import HaloNotebook as Halo\n",
    "from tqdm.notebook import tqdm\n",
    "from libraries.umap_wrapper import umap\n",
    "from libraries.plots_wrapper import get_iplot, save_fig, plot_title\n",
    "from libraries.wrappers import load_datasets, load_PCAs, get_patients, get_silhouette, load_labels, result_filename, concatenate, results_subfolder, pipeline_str, clusters_metrics, log_state, smote\n",
    "from libraries.parameters_widgets import threaded\n",
    "from libraries.datasets_subsets import get_subsets\n",
    "from libraries.random_forest import RandomForest, Samplers\n",
    "from itertools import product\n",
    "import os\n",
    "import pandas as pd\n",
    "import warnings\n",
    "warnings.filterwarnings('ignore')"
   ]
  },
  {
   "cell_type": "markdown",
   "id": "c5bbf53f-8456-4599-8d4d-8bad4b501058",
   "metadata": {},
   "source": [
    "## Paths "
   ]
  },
  {
   "cell_type": "code",
   "execution_count": 4,
   "id": "a3fd2846",
   "metadata": {},
   "outputs": [],
   "source": [
    "datasets_root = '../../Datasets/9_Normalized'\n",
    "labels_path = '../../Datasets/6_downcasted'\n",
    "results_root = '../Results'"
   ]
  },
  {
   "cell_type": "markdown",
   "id": "292c42c4-9347-4c04-b815-67cff43924e8",
   "metadata": {},
   "source": [
    "## Datasets selection"
   ]
  },
  {
   "cell_type": "code",
   "execution_count": 5,
   "id": "f04c1abc-44b6-40bd-b09c-49b8efb22132",
   "metadata": {},
   "outputs": [
    {
     "data": {
      "application/vnd.jupyter.widget-view+json": {
       "model_id": "603a46794b124074b5853394c515d03f",
       "version_major": 2,
       "version_minor": 0
      },
      "text/plain": [
       "SelectMultiple(description='Datasets:', options=('clinical_data.xz', 'cnv.score.xz', 'met_Mval.xz', 'miRNA_mor…"
      ]
     },
     "metadata": {},
     "output_type": "display_data"
    }
   ],
   "source": [
    "datasets_selection = widgets.SelectMultiple(options=os.listdir(datasets_root), description='Datasets:', disabled=False)\n",
    "\n",
    "display(datasets_selection)"
   ]
  },
  {
   "cell_type": "markdown",
   "id": "3266f11b-7b6a-4186-bf70-1e06202626c8",
   "metadata": {},
   "source": [
    "## Datasets loading"
   ]
  },
  {
   "cell_type": "code",
   "execution_count": 6,
   "id": "d7c85fe7-3362-4740-aedd-fe0fcb46f0d6",
   "metadata": {
    "tags": []
   },
   "outputs": [
    {
     "data": {
      "application/vnd.jupyter.widget-view+json": {
       "model_id": "bac08a2fbe314eeda25ab2db0fb35885",
       "version_major": 2,
       "version_minor": 0
      },
      "text/plain": [
       "  0%|          | 0/7 [00:00<?, ?it/s]"
      ]
     },
     "metadata": {},
     "output_type": "display_data"
    }
   ],
   "source": [
    "datasets = load_datasets(datasets_root, datasets_selection.value, pd, show_bar=True)"
   ]
  },
  {
   "cell_type": "markdown",
   "id": "9020d844-d683-423d-8815-5afae3dc623b",
   "metadata": {},
   "source": [
    "### Labels loading"
   ]
  },
  {
   "cell_type": "code",
   "execution_count": null,
   "id": "86c57e3e-40c8-46b5-a690-a312c6b78c6d",
   "metadata": {},
   "outputs": [],
   "source": [
    "labels = load_labels(labels_path, 'tcga_cdr_brca_labels.xz', log=True)"
   ]
  },
  {
   "cell_type": "markdown",
   "id": "d169d753-14c4-4bd4-a0a5-f085b409e104",
   "metadata": {},
   "source": [
    "## Concatenation -> UMAP"
   ]
  },
  {
   "cell_type": "code",
   "execution_count": 2,
   "id": "a2fa1f25-b0b1-4437-8699-79e9f3178a9e",
   "metadata": {},
   "outputs": [],
   "source": [
    "def run_pipeline(datasets, n_forests, pipeline_desc, bar=None, sampling_pipeline: list = (), balance: bool = False):\n",
    "    log_state('Integrating', bar)\n",
    "    integration = pd.concat(datasets.values(), axis=1)\n",
    "    labels_ = labels['PFI']\n",
    "\n",
    "    log_state('Projecting with UMAP', bar)\n",
    "    # projected = umap(integration, n_components=3, low_memory=True)\n",
    "\n",
    "    log_state('Calculating metrics', bar)\n",
    "    silhouette_pre, clusters_pre = get_silhouette(integration)\n",
    "    homogeneity_pre, purities_pre = clusters_metrics(integration, labels_, clusters_pre)\n",
    "\n",
    "    # silhouette, clusters = get_silhouette(projected)\n",
    "    # homogeneity, purities = clusters_metrics(projected, labels_, clusters)\n",
    "    # projected['Cluster'] = clusters\n",
    "    # projected['Purity'] = projected['Cluster'].apply(lambda x: purities[x])\n",
    "\n",
    "    log_state('Training random forest', bar)\n",
    "    rf = RandomForest(integration, labels_, n_forests=n_forests, random_state=0, n_folds=7, show_bar=isinstance(bar, tqdm), balance=balance)\n",
    "    rf.run(sampling_pipeline)\n",
    "\n",
    "    log_state('Generating plot', bar)\n",
    "    # title = plot_title(pipeline_desc, silhouette, homogeneity, rf.report(), datasets)\n",
    "    # fig = get_iplot(projected, labels_, title=title, hover_data=['Cluster', 'Purity'])\n",
    "    fig = None\n",
    "\n",
    "    # result = (silhouette_pre, silhouette, homogeneity_pre, homogeneity, purities_pre, purities, *list(rf.report().values()), list(datasets.keys()))\n",
    "    result = (silhouette_pre, None, homogeneity_pre, None, purities_pre, None, *list(rf.report().values()), list(datasets.keys()))\n",
    "\n",
    "    return fig, result, rf"
   ]
  },
  {
   "cell_type": "code",
   "execution_count": 1,
   "id": "e552d100-15a0-45dc-8403-8aa56c88186c",
   "metadata": {},
   "outputs": [
    {
     "ename": "NameError",
     "evalue": "name 'pipeline_str' is not defined",
     "output_type": "error",
     "traceback": [
      "\u001b[1;31m---------------------------------------------------------------------------\u001b[0m",
      "\u001b[1;31mNameError\u001b[0m                                 Traceback (most recent call last)",
      "Input \u001b[1;32mIn [1]\u001b[0m, in \u001b[0;36m<module>\u001b[1;34m\u001b[0m\n\u001b[0;32m      1\u001b[0m pipeline \u001b[38;5;241m=\u001b[39m [(\u001b[38;5;124m'\u001b[39m\u001b[38;5;124mConcat\u001b[39m\u001b[38;5;124m'\u001b[39m, \u001b[38;5;124m'\u001b[39m\u001b[38;5;124m'\u001b[39m), (\u001b[38;5;124m'\u001b[39m\u001b[38;5;124mUMAP\u001b[39m\u001b[38;5;124m'\u001b[39m, \u001b[38;5;241m15\u001b[39m), (\u001b[38;5;124m'\u001b[39m\u001b[38;5;124mRF\u001b[39m\u001b[38;5;124m'\u001b[39m, \u001b[38;5;124m'\u001b[39m\u001b[38;5;124m'\u001b[39m)]\n\u001b[1;32m----> 2\u001b[0m method, method_param, pipeline_desc \u001b[38;5;241m=\u001b[39m \u001b[43mpipeline_str\u001b[49m(pipeline)\n\u001b[0;32m      3\u001b[0m fig, result, rf \u001b[38;5;241m=\u001b[39m run_pipeline(datasets, \u001b[38;5;241m100\u001b[39m, pipeline_desc)\n",
      "\u001b[1;31mNameError\u001b[0m: name 'pipeline_str' is not defined"
     ]
    }
   ],
   "source": [
    "pipeline = [('Concat', ''), ('UMAP', 15), ('RF', '')]\n",
    "method, method_param, pipeline_desc = pipeline_str(pipeline)\n",
    "fig, result, rf = run_pipeline(datasets, 100, pipeline_desc)"
   ]
  },
  {
   "cell_type": "code",
   "execution_count": null,
   "id": "bd7275d1-a9aa-40b6-8c17-e95b4ff50d83",
   "metadata": {},
   "outputs": [],
   "source": [
    "fig.show()"
   ]
  },
  {
   "cell_type": "code",
   "execution_count": null,
   "id": "334feba7-5476-41b6-86ad-8e8199d5b4f7",
   "metadata": {},
   "outputs": [],
   "source": [
    "datasets_string = ','.join(selected_datasets.keys())\n",
    "save_fig(fig, root='../Results', info=f'{method_param}_[{datasets_string}]')"
   ]
  },
  {
   "cell_type": "markdown",
   "id": "bdacf913-8313-4fd5-8d16-f02190b2af6e",
   "metadata": {},
   "source": [
    "## Datasets sub-sets test"
   ]
  },
  {
   "cell_type": "code",
   "execution_count": null,
   "id": "6fbc5fdb-5e42-4e70-a67d-be246a1ba0a6",
   "metadata": {},
   "outputs": [],
   "source": [
    "results = []\n",
    "\n",
    "patients = get_patients(datasets)\n",
    "\n",
    "pipeline = [('Concat', ''), ('UMAP', 15), ('RF', '')]\n",
    "method, method_param, pipeline_desc = pipeline_str(pipeline)\n",
    "\n",
    "sub_folder = results_subfolder(method, method_param)\n",
    "os.mkdir(os.path.join(results_root, sub_folder))\n",
    "\n",
    "rf = RandomForest(labels['PFI'], n_forests=10, random_state=0, n_folds=7, show_bar=True)\n",
    "\n",
    "\n",
    "for sub_set in (bar := tqdm(get_subsets(datasets))):\n",
    "    keys = sub_set.keys()\n",
    "    bar.set_postfix_str(f'Testing {list(keys)}')\n",
    "\n",
    "    bar.set_description('Integration')\n",
    "    integrated = concatenate(sub_set, pd)\n",
    "\n",
    "    silhouette_pre = get_silhouette(integration, labels['PFI'])\n",
    "\n",
    "    bar.set_description('UMAP reduction')\n",
    "    projected = umap(integrated, n_components=3)\n",
    "\n",
    "    bar.set_description('Training random forest')\n",
    "    rf.run(integrated)\n",
    "\n",
    "    silhouette_post = get_silhouette(projected_integration, labels['PFI'])\n",
    "\n",
    "    title = plot_title(pipeline_desc, silhouette_post, rf.report(), sub_set)\n",
    "    filename = result_filename(method_param, sub_set).replace('.', '_')\n",
    "\n",
    "    bar.set_description('Saving scatter')\n",
    "    datasets_string = ','.join(keys)\n",
    "    fig = get_iplot(projected, labels, title=title)\n",
    "    save_fig(fig, root=os.path.join(results_root, sub_folder), info=filename, subfolder = False)\n",
    "\n",
    "    results.append((silhouette_pre, silhouette_post, *list(rf.report().values()), list(sub_set.keys())))\n",
    "\n",
    "    bar.set_description(f'Max silhoutte: {max([result[0] for result in results])}')\n",
    "\n",
    "results_df = pd.DataFrame(data=results, columns=['Silhouette pre', 'Silhouette post', *[key.capitalize() for key in rf.report().keys()], 'Datasets'])\n",
    "results_df.to_csv(os.path.join(results_root, sub_folder, f'{filename.split(\"_[\")[0]}.csv'), index=False, sep=';')"
   ]
  },
  {
   "cell_type": "code",
   "execution_count": null,
   "id": "e3816f83-60b4-4e23-8502-a7cf14061ddc",
   "metadata": {},
   "outputs": [],
   "source": [
    "results = []\n",
    "\n",
    "patients = get_patients(datasets)\n",
    "\n",
    "pipeline = [('Concat', ''), ('UMAP', 15), ('RF', '')]\n",
    "method, method_param, pipeline_desc = pipeline_str(pipeline)\n",
    "\n",
    "sub_folder = results_subfolder(method, method_param)\n",
    "os.mkdir(os.path.join(results_root, sub_folder))\n",
    "rf = None\n",
    "\n",
    "for sub_set in (bar := tqdm(get_subsets(datasets))):\n",
    "    keys = list(sub_set.keys())\n",
    "    bar.set_postfix_str(f'Testing {keys}')\n",
    "\n",
    "    fig, result, rf = run_pipeline(datasets, 100, pipeline_desc)\n",
    "\n",
    "    if fig is None:\n",
    "        continue\n",
    "\n",
    "    results.append(result)\n",
    "\n",
    "    filename = result_filename(method_param, sub_set).replace('.', '_')\n",
    "    save_fig(fig, root=os.path.join(results_root, sub_folder), info=filename, subfolder = False)\n",
    "\n",
    "    bar.set_description(f'Max silhoutte: {max([result[0] for result in results])}')\n",
    "\n",
    "results_df = pd.DataFrame(data=results, columns=['Silhouette_pre', 'Silhouette', 'Homogeneity_pre', 'Homogeneity', 'Purity_pre', 'Purity', *list(rf.report().keys()), 'Datasets'])\n",
    "results_df.to_csv(os.path.join(results_root, sub_folder, f'{filename.split(\"_[\")[0]}.csv'), index=False, sep=';')\n",
    "results_df.to_excel(os.path.join(results_root, sub_folder, f'{filename.split(\"_[\")[0]}.xlsx'))"
   ]
  },
  {
   "cell_type": "markdown",
   "id": "f70cfb26-bf72-4108-862a-d4f813003634",
   "metadata": {
    "tags": []
   },
   "source": [
    "## Oversampling and balancing"
   ]
  },
  {
   "cell_type": "code",
   "execution_count": 10,
   "id": "de845890-a062-4fe0-b465-3f66051c7a22",
   "metadata": {},
   "outputs": [
    {
     "data": {
      "application/vnd.jupyter.widget-view+json": {
       "model_id": "8597f23b7a4e41e79f32eb1b9272b1e9",
       "version_major": 2,
       "version_minor": 0
      },
      "text/plain": [
       "  0%|          | 0/14 [00:00<?, ?it/s]"
      ]
     },
     "metadata": {},
     "output_type": "display_data"
    },
    {
     "data": {
      "application/vnd.jupyter.widget-view+json": {
       "model_id": "",
       "version_major": 2,
       "version_minor": 0
      },
      "text/plain": [
       "Training:   0%|          | 0/7 [00:00<?, ?it/s]"
      ]
     },
     "metadata": {},
     "output_type": "display_data"
    },
    {
     "data": {
      "application/vnd.jupyter.widget-view+json": {
       "model_id": "",
       "version_major": 2,
       "version_minor": 0
      },
      "text/plain": [
       "Training:   0%|          | 0/7 [00:00<?, ?it/s]"
      ]
     },
     "metadata": {},
     "output_type": "display_data"
    },
    {
     "data": {
      "application/vnd.jupyter.widget-view+json": {
       "model_id": "",
       "version_major": 2,
       "version_minor": 0
      },
      "text/plain": [
       "Training:   0%|          | 0/7 [00:00<?, ?it/s]"
      ]
     },
     "metadata": {},
     "output_type": "display_data"
    },
    {
     "data": {
      "application/vnd.jupyter.widget-view+json": {
       "model_id": "",
       "version_major": 2,
       "version_minor": 0
      },
      "text/plain": [
       "Training:   0%|          | 0/7 [00:00<?, ?it/s]"
      ]
     },
     "metadata": {},
     "output_type": "display_data"
    },
    {
     "data": {
      "application/vnd.jupyter.widget-view+json": {
       "model_id": "",
       "version_major": 2,
       "version_minor": 0
      },
      "text/plain": [
       "Training:   0%|          | 0/7 [00:00<?, ?it/s]"
      ]
     },
     "metadata": {},
     "output_type": "display_data"
    },
    {
     "data": {
      "application/vnd.jupyter.widget-view+json": {
       "model_id": "",
       "version_major": 2,
       "version_minor": 0
      },
      "text/plain": [
       "Training:   0%|          | 0/7 [00:00<?, ?it/s]"
      ]
     },
     "metadata": {},
     "output_type": "display_data"
    },
    {
     "data": {
      "application/vnd.jupyter.widget-view+json": {
       "model_id": "",
       "version_major": 2,
       "version_minor": 0
      },
      "text/plain": [
       "Training:   0%|          | 0/7 [00:00<?, ?it/s]"
      ]
     },
     "metadata": {},
     "output_type": "display_data"
    },
    {
     "data": {
      "application/vnd.jupyter.widget-view+json": {
       "model_id": "",
       "version_major": 2,
       "version_minor": 0
      },
      "text/plain": [
       "Training:   0%|          | 0/7 [00:00<?, ?it/s]"
      ]
     },
     "metadata": {},
     "output_type": "display_data"
    },
    {
     "data": {
      "application/vnd.jupyter.widget-view+json": {
       "model_id": "",
       "version_major": 2,
       "version_minor": 0
      },
      "text/plain": [
       "Training:   0%|          | 0/7 [00:00<?, ?it/s]"
      ]
     },
     "metadata": {},
     "output_type": "display_data"
    },
    {
     "data": {
      "application/vnd.jupyter.widget-view+json": {
       "model_id": "",
       "version_major": 2,
       "version_minor": 0
      },
      "text/plain": [
       "Training:   0%|          | 0/7 [00:00<?, ?it/s]"
      ]
     },
     "metadata": {},
     "output_type": "display_data"
    },
    {
     "data": {
      "application/vnd.jupyter.widget-view+json": {
       "model_id": "",
       "version_major": 2,
       "version_minor": 0
      },
      "text/plain": [
       "Training:   0%|          | 0/7 [00:00<?, ?it/s]"
      ]
     },
     "metadata": {},
     "output_type": "display_data"
    },
    {
     "data": {
      "application/vnd.jupyter.widget-view+json": {
       "model_id": "",
       "version_major": 2,
       "version_minor": 0
      },
      "text/plain": [
       "Training:   0%|          | 0/7 [00:00<?, ?it/s]"
      ]
     },
     "metadata": {},
     "output_type": "display_data"
    },
    {
     "data": {
      "application/vnd.jupyter.widget-view+json": {
       "model_id": "",
       "version_major": 2,
       "version_minor": 0
      },
      "text/plain": [
       "Training:   0%|          | 0/7 [00:00<?, ?it/s]"
      ]
     },
     "metadata": {},
     "output_type": "display_data"
    },
    {
     "data": {
      "application/vnd.jupyter.widget-view+json": {
       "model_id": "",
       "version_major": 2,
       "version_minor": 0
      },
      "text/plain": [
       "Training:   0%|          | 0/7 [00:00<?, ?it/s]"
      ]
     },
     "metadata": {},
     "output_type": "display_data"
    },
    {
     "data": {
      "application/vnd.jupyter.widget-view+json": {
       "model_id": "7d8509ec7e6a49d98df7969e92660307",
       "version_major": 2,
       "version_minor": 0
      },
      "text/plain": [
       "  0%|          | 0/14 [00:00<?, ?it/s]"
      ]
     },
     "metadata": {},
     "output_type": "display_data"
    },
    {
     "data": {
      "application/vnd.jupyter.widget-view+json": {
       "model_id": "",
       "version_major": 2,
       "version_minor": 0
      },
      "text/plain": [
       "Training:   0%|          | 0/7 [00:00<?, ?it/s]"
      ]
     },
     "metadata": {},
     "output_type": "display_data"
    },
    {
     "data": {
      "application/vnd.jupyter.widget-view+json": {
       "model_id": "",
       "version_major": 2,
       "version_minor": 0
      },
      "text/plain": [
       "Training:   0%|          | 0/7 [00:00<?, ?it/s]"
      ]
     },
     "metadata": {},
     "output_type": "display_data"
    },
    {
     "data": {
      "application/vnd.jupyter.widget-view+json": {
       "model_id": "",
       "version_major": 2,
       "version_minor": 0
      },
      "text/plain": [
       "Training:   0%|          | 0/7 [00:00<?, ?it/s]"
      ]
     },
     "metadata": {},
     "output_type": "display_data"
    },
    {
     "data": {
      "application/vnd.jupyter.widget-view+json": {
       "model_id": "",
       "version_major": 2,
       "version_minor": 0
      },
      "text/plain": [
       "Training:   0%|          | 0/7 [00:00<?, ?it/s]"
      ]
     },
     "metadata": {},
     "output_type": "display_data"
    },
    {
     "data": {
      "application/vnd.jupyter.widget-view+json": {
       "model_id": "",
       "version_major": 2,
       "version_minor": 0
      },
      "text/plain": [
       "Training:   0%|          | 0/7 [00:00<?, ?it/s]"
      ]
     },
     "metadata": {},
     "output_type": "display_data"
    },
    {
     "data": {
      "application/vnd.jupyter.widget-view+json": {
       "model_id": "",
       "version_major": 2,
       "version_minor": 0
      },
      "text/plain": [
       "Training:   0%|          | 0/7 [00:00<?, ?it/s]"
      ]
     },
     "metadata": {},
     "output_type": "display_data"
    },
    {
     "data": {
      "application/vnd.jupyter.widget-view+json": {
       "model_id": "",
       "version_major": 2,
       "version_minor": 0
      },
      "text/plain": [
       "Training:   0%|          | 0/7 [00:00<?, ?it/s]"
      ]
     },
     "metadata": {},
     "output_type": "display_data"
    },
    {
     "data": {
      "application/vnd.jupyter.widget-view+json": {
       "model_id": "",
       "version_major": 2,
       "version_minor": 0
      },
      "text/plain": [
       "Training:   0%|          | 0/7 [00:00<?, ?it/s]"
      ]
     },
     "metadata": {},
     "output_type": "display_data"
    },
    {
     "data": {
      "application/vnd.jupyter.widget-view+json": {
       "model_id": "",
       "version_major": 2,
       "version_minor": 0
      },
      "text/plain": [
       "Training:   0%|          | 0/7 [00:00<?, ?it/s]"
      ]
     },
     "metadata": {},
     "output_type": "display_data"
    },
    {
     "data": {
      "application/vnd.jupyter.widget-view+json": {
       "model_id": "",
       "version_major": 2,
       "version_minor": 0
      },
      "text/plain": [
       "Training:   0%|          | 0/7 [00:00<?, ?it/s]"
      ]
     },
     "metadata": {},
     "output_type": "display_data"
    },
    {
     "data": {
      "application/vnd.jupyter.widget-view+json": {
       "model_id": "",
       "version_major": 2,
       "version_minor": 0
      },
      "text/plain": [
       "Training:   0%|          | 0/7 [00:00<?, ?it/s]"
      ]
     },
     "metadata": {},
     "output_type": "display_data"
    },
    {
     "data": {
      "application/vnd.jupyter.widget-view+json": {
       "model_id": "",
       "version_major": 2,
       "version_minor": 0
      },
      "text/plain": [
       "Training:   0%|          | 0/7 [00:00<?, ?it/s]"
      ]
     },
     "metadata": {},
     "output_type": "display_data"
    },
    {
     "data": {
      "application/vnd.jupyter.widget-view+json": {
       "model_id": "",
       "version_major": 2,
       "version_minor": 0
      },
      "text/plain": [
       "Training:   0%|          | 0/7 [00:00<?, ?it/s]"
      ]
     },
     "metadata": {},
     "output_type": "display_data"
    },
    {
     "data": {
      "application/vnd.jupyter.widget-view+json": {
       "model_id": "",
       "version_major": 2,
       "version_minor": 0
      },
      "text/plain": [
       "Training:   0%|          | 0/7 [00:00<?, ?it/s]"
      ]
     },
     "metadata": {},
     "output_type": "display_data"
    }
   ],
   "source": [
    "tests = ([], [Samplers.smote_oversampler(.5)], [Samplers.smote_oversampler(.25), Samplers.random_undersampler(.5)], [Samplers.random_undersampler(.25), Samplers.smote_oversampler(.5)],\n",
    "         [Samplers.random_oversampler(.25), Samplers.random_undersampler(.5)], [Samplers.random_undersampler(.25), Samplers.random_oversampler(.5)], [Samplers.random_oversampler(.5)],\n",
    "         [Samplers.random_undersampler(.5)], [Samplers.smote_oversampler(.75)], [Samplers.random_oversampler(.75)], [Samplers.random_undersampler(.75)], [Samplers.smote_oversampler(1)], \n",
    "         [Samplers.random_oversampler(1)], [Samplers.random_undersampler(1)])\n",
    "\n",
    "results = []\n",
    "pipeline = [('Concat', ''), ('UMAP', ''), ('RF', '')]\n",
    "method, method_param, pipeline_desc = pipeline_str(pipeline)\n",
    "datasets = {key: dataset for key, dataset in datasets.items() if key in ['cnv.score', 'miRNA_mor', 'mRNA_mor']}\n",
    "patients = get_patients(datasets)\n",
    "\n",
    "for balance_ in [True, False]:\n",
    "    for test in (bar := tqdm(tests)):\n",
    "\n",
    "        sub_folder = results_subfolder(method, method_param)\n",
    "\n",
    "        if not os.path.isdir(os.path.join(results_root, sub_folder)):\n",
    "            os.mkdir(os.path.join(results_root, sub_folder))\n",
    "        fig, result, rf = run_pipeline(datasets, 100, pipeline_desc, sampling_pipeline=test, balance=balance_, bar=bar)\n",
    "        result = list(result)\n",
    "        result.append(balance_)\n",
    "        result.append([sampler.__class__.__name__ for sampler in test])\n",
    "        results.append(result)\n",
    "\n",
    "filename = result_filename(method_param, datasets).replace('.', '_')\n",
    "results_df = pd.DataFrame(data=results, columns=['Silhouette_pre', 'Silhouette', 'Homogeneity_pre', 'Homogeneity', 'Purity_pre', 'Purity', *list(rf.report().keys()), 'Datasets', 'Balancing', 'Sampler'])\n",
    "results_df.to_csv(os.path.join(results_root, sub_folder, f'{filename.split(\"_[\")[0]}.csv'), index=False, sep=';')\n",
    "results_df[results_df['Balancing'] == True].to_excel(os.path.join(results_root, sub_folder, 'pos.xlsx'))\n",
    "results_df[results_df['Balancing'] == False].to_excel(os.path.join(results_root, sub_folder, 'neg.xlsx'))"
   ]
  }
 ],
 "metadata": {
  "kernelspec": {
   "display_name": "Python 3 (ipykernel)",
   "language": "python",
   "name": "python3"
  },
  "language_info": {
   "codemirror_mode": {
    "name": "ipython",
    "version": 3
   },
   "file_extension": ".py",
   "mimetype": "text/x-python",
   "name": "python",
   "nbconvert_exporter": "python",
   "pygments_lexer": "ipython3",
   "version": "3.9.10"
  }
 },
 "nbformat": 4,
 "nbformat_minor": 5
}

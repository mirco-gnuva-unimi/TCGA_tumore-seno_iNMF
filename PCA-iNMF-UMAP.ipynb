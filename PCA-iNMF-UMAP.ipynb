{
 "cells": [
  {
   "cell_type": "markdown",
   "id": "2bc7bf89-90b7-4760-a5c2-9420a5edb190",
   "metadata": {},
   "source": [
    "# Google Drive"
   ]
  },
  {
   "cell_type": "code",
   "execution_count": null,
   "id": "343f3d7a-bf93-4969-a44b-a936fbda0829",
   "metadata": {},
   "outputs": [],
   "source": [
    "from google.colab import drive\n",
    "import os\n",
    "drive.mount('/content/drive/Othercomputers/Il mio computer/Tesi/Computing/Datasets')"
   ]
  },
  {
   "cell_type": "markdown",
   "id": "96116cb4-34a6-46b9-9909-ce170b521af2",
   "metadata": {},
   "source": [
    "# Initialization"
   ]
  },
  {
   "cell_type": "code",
   "execution_count": null,
   "id": "36eeeaad",
   "metadata": {
    "scrolled": true,
    "tags": []
   },
   "outputs": [],
   "source": [
    "!pip install -r requirements.txt"
   ]
  },
  {
   "cell_type": "code",
   "execution_count": null,
   "id": "3d8d31b1",
   "metadata": {},
   "outputs": [],
   "source": [
    "from ipywidgets import widgets\n",
    "from IPython.display import display\n",
    "from halo import HaloNotebook as Halo\n",
    "from tqdm.notebook import tqdm\n",
    "from libraries.umap_wrapper import umap\n",
    "from libraries.plots_wrapper import get_iplot, save_fig, plot_title\n",
    "from libraries.wrappers import smote, load_PCAs, get_patients, get_silhouette, load_labels, result_filename, concatenate, results_subfolder, pipeline_str, clusters_metrics, log_state\n",
    "from libraries.parameters_widgets import *\n",
    "from libraries.datasets_subsets import get_subsets\n",
    "from libraries.random_forest import RandomForest, Samplers\n",
    "from libraries.iNMF_wrapper import inmf\n",
    "from itertools import product\n",
    "import libraries.pca as pca\n",
    "import os\n",
    "import pandas as pd\n",
    "import warnings\n",
    "warnings.filterwarnings('ignore')"
   ]
  },
  {
   "cell_type": "markdown",
   "id": "86301929-b14f-450e-8511-9b5b31651f23",
   "metadata": {},
   "source": [
    "## Paths "
   ]
  },
  {
   "cell_type": "code",
   "execution_count": null,
   "id": "a3fd2846",
   "metadata": {},
   "outputs": [],
   "source": [
    "pcas_root = '../../Datasets/'\n",
    "pcas_filename = '10_PCA.pickle'\n",
    "labels_path = '../../Datasets/6_downcasted'\n",
    "results_root = '../Results'"
   ]
  },
  {
   "cell_type": "markdown",
   "id": "ed565091-adcd-42a8-8914-9201189d10c9",
   "metadata": {},
   "source": [
    "## Datasets loading"
   ]
  },
  {
   "cell_type": "code",
   "execution_count": null,
   "id": "b629ef79-7be9-44bf-a456-89cb0ee65af4",
   "metadata": {},
   "outputs": [],
   "source": [
    "pcas = load_PCAs(pcas_root, pcas_filename, log=True)"
   ]
  },
  {
   "cell_type": "markdown",
   "id": "36b80258-2362-4730-975d-949192bb3a37",
   "metadata": {},
   "source": [
    "### Labels loading"
   ]
  },
  {
   "cell_type": "code",
   "execution_count": null,
   "id": "08a08ff6-47fe-4539-847e-d4101cb2b8c7",
   "metadata": {},
   "outputs": [],
   "source": [
    "labels = load_labels(labels_path, 'tcga_cdr_brca_labels.xz', log=True)"
   ]
  },
  {
   "cell_type": "markdown",
   "id": "9b9c0dad-7c4f-4d50-8237-e1f8c5e5f6e7",
   "metadata": {
    "tags": []
   },
   "source": [
    "## PCA ratio"
   ]
  },
  {
   "cell_type": "code",
   "execution_count": null,
   "id": "1320ea6d-2cc7-4a46-98aa-1d7071132aae",
   "metadata": {},
   "outputs": [],
   "source": [
    "ratio = widgets.Dropdown(options=pcas.keys(), description='Ratio', disabled=False)\n",
    "display(ratio)"
   ]
  },
  {
   "cell_type": "markdown",
   "id": "3122ecf2-67ce-452f-b085-73c74e5f4f7e",
   "metadata": {},
   "source": [
    "## Datasets selection"
   ]
  },
  {
   "cell_type": "code",
   "execution_count": 15,
   "id": "4048f62c-f886-4a14-a339-122c26c91e4e",
   "metadata": {},
   "outputs": [
    {
     "data": {
      "application/vnd.jupyter.widget-view+json": {
       "model_id": "1f7c50f141fe4852b165361cb46fa13b",
       "version_major": 2,
       "version_minor": 0
      },
      "text/plain": [
       "SelectMultiple(description='Datasets:', options=('clinical_data', 'cnv.score', 'met_Mval', 'miRNA_mor', 'miRNA…"
      ]
     },
     "metadata": {},
     "output_type": "display_data"
    }
   ],
   "source": [
    "datasets_names = list(pcas[ratio.value])\n",
    "datasets_selection = widgets.SelectMultiple(options=datasets_names, description='Datasets:', disabled=False)\n",
    "\n",
    "display(datasets_selection)"
   ]
  },
  {
   "cell_type": "markdown",
   "id": "63277d7e-fdca-406e-b7d1-c6810283343c",
   "metadata": {},
   "source": [
    "## Hardware parameters"
   ]
  },
  {
   "cell_type": "code",
   "execution_count": null,
   "id": "37017c21-ef95-482f-950f-08c2c672d713",
   "metadata": {},
   "outputs": [],
   "source": [
    "display_hw_parameters()"
   ]
  },
  {
   "cell_type": "markdown",
   "id": "2f1ce004-1d03-4fd2-93bc-9eaa9abbadc6",
   "metadata": {},
   "source": [
    "## iNMF parameters"
   ]
  },
  {
   "cell_type": "code",
   "execution_count": null,
   "id": "58ecdcfa",
   "metadata": {
    "collapsed": false,
    "jupyter": {
     "outputs_hidden": false
    },
    "pycharm": {
     "name": "#%%\n"
    }
   },
   "outputs": [],
   "source": [
    "display_inmf_parameters()"
   ]
  },
  {
   "cell_type": "markdown",
   "id": "545f8867-cda8-4540-b9b4-f2a24b774487",
   "metadata": {},
   "source": [
    "## PCA -> iNMF -> UMAP"
   ]
  },
  {
   "cell_type": "code",
   "execution_count": null,
   "id": "606dc735-c3c3-4b4e-aa3c-500f3ea89afc",
   "metadata": {},
   "outputs": [],
   "source": [
    "W = None\n",
    "\n",
    "\n",
    "def run_pipeline(datasets, n_components, n_forests, pipeline_desc, bar=None, sampling_pipeline: list = (), balance: bool = False):\n",
    "    global W\n",
    "    log_state('Computing iNMF', bar)\n",
    "    if W is None:\n",
    "        _, W, _, err = inmf(datasets, n_threads.value, use_gpu.value, n_components, tol.value, lam.value, algo.value, batch_max_iter.value)\n",
    "        W = None\n",
    "    integration = pd.DataFrame(W.transpose(), index=get_patients(datasets))\n",
    "    labels_ = labels['PFI']\n",
    "\n",
    "    log_state('Projecting with UMAP', bar)\n",
    "    projected = umap(integration, n_components=3)\n",
    "\n",
    "    log_state('Calculating metrics', bar)\n",
    "    silhouette_pre, clusters_pre = get_silhouette(integration)\n",
    "    homogeneity_pre, purities_pre = clusters_metrics(integration, labels_, clusters_pre)\n",
    "\n",
    "    silhouette, clusters = get_silhouette(projected)\n",
    "    homogeneity, purities = clusters_metrics(projected, labels_, clusters)\n",
    "    projected['Cluster'] = clusters\n",
    "    projected['Purity'] = projected['Cluster'].apply(lambda x: purities[x])\n",
    "\n",
    "    log_state('Training random forest', bar)\n",
    "    rf = RandomForest(integration, labels_, n_forests=n_forests, random_state=0, n_folds=7, show_bar=isinstance(bar, tqdm), balance=balance)\n",
    "    rf.run(sampling_pipeline)\n",
    "\n",
    "    log_state('Generating plot', bar)\n",
    "    title = plot_title(pipeline_desc, silhouette, homogeneity, rf.report(), datasets)\n",
    "    fig = get_iplot(projected, labels_, title=title, hover_data=['Cluster', 'Purity'])\n",
    "\n",
    "    result = (silhouette_pre, silhouette, homogeneity_pre, homogeneity, purities_pre, purities, *list(rf.report().values()), list(datasets.keys()))\n",
    "\n",
    "    return fig, result, rf"
   ]
  },
  {
   "cell_type": "code",
   "execution_count": null,
   "id": "78e49962-4341-4277-9700-144ff38c2136",
   "metadata": {},
   "outputs": [],
   "source": [
    "selected_datasets = {name: dataset for name, dataset in pcas[ratio.value].items() if name in datasets_selection.value}\n",
    "\n",
    "pipeline = [('PCA', ratio.value), ('iNMF', n_components.value), ('UMAP', ''), ('RF', '')]\n",
    "method, method_param, pipeline_desc = pipeline_str(pipeline)\n",
    "\n",
    "fig, result, rf = run_pipeline(selected_datasets, n_components.value, 100, pipeline_desc, sampling_pipeline=[Samplers.random_undersampler(0.25), Samplers.random_oversampler(0.75)])\n",
    "fig.show()"
   ]
  },
  {
   "cell_type": "code",
   "execution_count": null,
   "id": "457a09c2-a788-4e06-a097-14c51edc7cf5",
   "metadata": {},
   "outputs": [],
   "source": [
    "rf.roc_auc"
   ]
  },
  {
   "cell_type": "code",
   "execution_count": null,
   "id": "f3c35def",
   "metadata": {
    "collapsed": false,
    "jupyter": {
     "outputs_hidden": false
    },
    "pycharm": {
     "name": "#%%\n"
    }
   },
   "outputs": [],
   "source": [
    "rf.thresholds"
   ]
  },
  {
   "cell_type": "code",
   "execution_count": null,
   "id": "2e4202f2",
   "metadata": {
    "collapsed": false,
    "jupyter": {
     "outputs_hidden": false
    },
    "pycharm": {
     "name": "#%%\n"
    }
   },
   "outputs": [],
   "source": [
    "rf.tpr"
   ]
  },
  {
   "cell_type": "code",
   "execution_count": null,
   "id": "90ff14c3-7da3-486a-ae33-449fdc0acacf",
   "metadata": {},
   "outputs": [],
   "source": [
    "rf.roc_curve"
   ]
  },
  {
   "cell_type": "code",
   "execution_count": null,
   "id": "08b242c7-13fa-41c5-99fb-847f5e8bdb2d",
   "metadata": {},
   "outputs": [],
   "source": [
    "rf.roc_plot.plot()"
   ]
  },
  {
   "cell_type": "code",
   "execution_count": null,
   "id": "c1e54496-cf80-49a9-915d-3b2f892bf413",
   "metadata": {},
   "outputs": [],
   "source": [
    "selected_datasets = {name: dataset for name, dataset in pcas[ratio.value].items() if name in datasets_selection.value}\n",
    "\n",
    "pipeline = [('PCA', ratio.value), ('iNMF', n_components.value), ('UMAP', ''), ('RF', '')]\n",
    "method, method_param, pipeline_desc = pipeline_str(pipeline)\n",
    "\n",
    "fig, result, rf = run_pipeline(selected_datasets, ratio.value, n_components.value, 100, pipeline_desc, oversample=oversample.value)\n",
    "fig.show()"
   ]
  },
  {
   "cell_type": "code",
   "execution_count": null,
   "id": "334feba7-5476-41b6-86ad-8e8199d5b4f7",
   "metadata": {},
   "outputs": [],
   "source": [
    "datasets_string = ','.join(selected_datasets.keys())\n",
    "save_fig(fig, root='../Results', info=f'{method_param}_[{datasets_string}]')"
   ]
  },
  {
   "cell_type": "markdown",
   "id": "2abd8b29-3592-43ef-bbcb-f2fe660be45b",
   "metadata": {},
   "source": [
    "## Datasets sub-sets test"
   ]
  },
  {
   "cell_type": "code",
   "execution_count": 12,
   "id": "b14756e3-7c15-4552-b14c-719ce5ab8836",
   "metadata": {},
   "outputs": [
    {
     "data": {
      "application/vnd.jupyter.widget-view+json": {
       "model_id": "fe8366ad50f246dda8c99eca09cf2989",
       "version_major": 2,
       "version_minor": 0
      },
      "text/plain": [
       "Dropdown(description='Ratio', options=(0.75, 0.9), value=0.75)"
      ]
     },
     "metadata": {},
     "output_type": "display_data"
    },
    {
     "data": {
      "application/vnd.jupyter.widget-view+json": {
       "model_id": "323e08a14f204273b7f6b71ec80981d5",
       "version_major": 2,
       "version_minor": 0
      },
      "text/plain": [
       "BoundedFloatText(value=1.0, description='Convergence tolerance:', max=9.223372036854776e+18)"
      ]
     },
     "metadata": {},
     "output_type": "display_data"
    },
    {
     "data": {
      "application/vnd.jupyter.widget-view+json": {
       "model_id": "404297e714c4424686b5b3d5d6d3dc0e",
       "version_major": 2,
       "version_minor": 0
      },
      "text/plain": [
       "BoundedFloatText(value=1.0, description='Regularization:', max=9.223372036854776e+18)"
      ]
     },
     "metadata": {},
     "output_type": "display_data"
    },
    {
     "data": {
      "application/vnd.jupyter.widget-view+json": {
       "model_id": "bbda412738814d14af24629c44248e34",
       "version_major": 2,
       "version_minor": 0
      },
      "text/plain": [
       "IntSlider(value=50, description='Max iteration/batch:, continuous_update=False', max=1000)"
      ]
     },
     "metadata": {},
     "output_type": "display_data"
    },
    {
     "data": {
      "application/vnd.jupyter.widget-view+json": {
       "model_id": "41f6df75a97b4e979c7296e278690b4a",
       "version_major": 2,
       "version_minor": 0
      },
      "text/plain": [
       "BoundedIntText(value=50, description='Factorization components:', max=9223372036854775807, min=1)"
      ]
     },
     "metadata": {},
     "output_type": "display_data"
    },
    {
     "data": {
      "application/vnd.jupyter.widget-view+json": {
       "model_id": "cfa774eb1d274ef4bd4550045664f681",
       "version_major": 2,
       "version_minor": 0
      },
      "text/plain": [
       "Dropdown(description='Algorithm:', index=1, options=('mu', 'halsvar', 'bpp'), value='halsvar')"
      ]
     },
     "metadata": {},
     "output_type": "display_data"
    }
   ],
   "source": [
    "display(ratio)\n",
    "display_inmf_parameters()"
   ]
  },
  {
   "cell_type": "code",
   "execution_count": 18,
   "id": "6fbc5fdb-5e42-4e70-a67d-be246a1ba0a6",
   "metadata": {},
   "outputs": [
    {
     "data": {
      "application/vnd.jupyter.widget-view+json": {
       "model_id": "ee88811a8f0f41179a5fd4fbbcb6d35e",
       "version_major": 2,
       "version_minor": 0
      },
      "text/plain": [
       "  0%|          | 0/21 [00:00<?, ?it/s]"
      ]
     },
     "metadata": {},
     "output_type": "display_data"
    },
    {
     "ename": "KeyboardInterrupt",
     "evalue": "",
     "output_type": "error",
     "traceback": [
      "\u001b[1;31m---------------------------------------------------------------------------\u001b[0m",
      "\u001b[1;31mKeyboardInterrupt\u001b[0m                         Traceback (most recent call last)",
      "Input \u001b[1;32mIn [18]\u001b[0m, in \u001b[0;36m<module>\u001b[1;34m\u001b[0m\n\u001b[0;32m     14\u001b[0m keys \u001b[38;5;241m=\u001b[39m sub_set\u001b[38;5;241m.\u001b[39mkeys()\n\u001b[0;32m     15\u001b[0m bar\u001b[38;5;241m.\u001b[39mset_postfix_str(\u001b[38;5;124mf\u001b[39m\u001b[38;5;124m'\u001b[39m\u001b[38;5;124mTesting \u001b[39m\u001b[38;5;132;01m{\u001b[39;00m\u001b[38;5;28mlist\u001b[39m(keys)\u001b[38;5;132;01m}\u001b[39;00m\u001b[38;5;124m'\u001b[39m)\n\u001b[1;32m---> 17\u001b[0m fig, result, rf \u001b[38;5;241m=\u001b[39m \u001b[43mrun_pipeline\u001b[49m\u001b[43m(\u001b[49m\u001b[43mdatasets\u001b[49m\u001b[43m,\u001b[49m\u001b[43m \u001b[49m\u001b[43mn_components\u001b[49m\u001b[38;5;241;43m.\u001b[39;49m\u001b[43mvalue\u001b[49m\u001b[43m,\u001b[49m\u001b[43m \u001b[49m\u001b[38;5;241;43m100\u001b[39;49m\u001b[43m,\u001b[49m\u001b[43m \u001b[49m\u001b[43mpipeline_desc\u001b[49m\u001b[43m,\u001b[49m\u001b[43m \u001b[49m\u001b[43msampling_pipeline\u001b[49m\u001b[38;5;241;43m=\u001b[39;49m\u001b[43m[\u001b[49m\u001b[43m]\u001b[49m\u001b[43m,\u001b[49m\u001b[43m \u001b[49m\u001b[43mbalance\u001b[49m\u001b[38;5;241;43m=\u001b[39;49m\u001b[38;5;28;43;01mFalse\u001b[39;49;00m\u001b[43m,\u001b[49m\u001b[43m \u001b[49m\u001b[43mbar\u001b[49m\u001b[38;5;241;43m=\u001b[39;49m\u001b[43mbar\u001b[49m\u001b[43m)\u001b[49m\n\u001b[0;32m     19\u001b[0m bar\u001b[38;5;241m.\u001b[39mset_description(\u001b[38;5;124m'\u001b[39m\u001b[38;5;124mSaving scatter\u001b[39m\u001b[38;5;124m'\u001b[39m)\n\u001b[0;32m     20\u001b[0m filename \u001b[38;5;241m=\u001b[39m result_filename(method_param, sub_set)\u001b[38;5;241m.\u001b[39mreplace(\u001b[38;5;124m'\u001b[39m\u001b[38;5;124m.\u001b[39m\u001b[38;5;124m'\u001b[39m, \u001b[38;5;124m'\u001b[39m\u001b[38;5;124m_\u001b[39m\u001b[38;5;124m'\u001b[39m)\n",
      "Input \u001b[1;32mIn [9]\u001b[0m, in \u001b[0;36mrun_pipeline\u001b[1;34m(datasets, n_components, n_forests, pipeline_desc, bar, sampling_pipeline, balance)\u001b[0m\n\u001b[0;32m      6\u001b[0m log_state(\u001b[38;5;124m'\u001b[39m\u001b[38;5;124mComputing iNMF\u001b[39m\u001b[38;5;124m'\u001b[39m, bar)\n\u001b[0;32m      7\u001b[0m \u001b[38;5;28;01mif\u001b[39;00m W \u001b[38;5;129;01mis\u001b[39;00m \u001b[38;5;28;01mNone\u001b[39;00m:\n\u001b[1;32m----> 8\u001b[0m     _, W, _, err \u001b[38;5;241m=\u001b[39m \u001b[43minmf\u001b[49m\u001b[43m(\u001b[49m\u001b[43mdatasets\u001b[49m\u001b[43m,\u001b[49m\u001b[43m \u001b[49m\u001b[43mn_threads\u001b[49m\u001b[38;5;241;43m.\u001b[39;49m\u001b[43mvalue\u001b[49m\u001b[43m,\u001b[49m\u001b[43m \u001b[49m\u001b[43muse_gpu\u001b[49m\u001b[38;5;241;43m.\u001b[39;49m\u001b[43mvalue\u001b[49m\u001b[43m,\u001b[49m\u001b[43m \u001b[49m\u001b[43mn_components\u001b[49m\u001b[43m,\u001b[49m\u001b[43m \u001b[49m\u001b[43mtol\u001b[49m\u001b[38;5;241;43m.\u001b[39;49m\u001b[43mvalue\u001b[49m\u001b[43m,\u001b[49m\u001b[43m \u001b[49m\u001b[43mlam\u001b[49m\u001b[38;5;241;43m.\u001b[39;49m\u001b[43mvalue\u001b[49m\u001b[43m,\u001b[49m\u001b[43m \u001b[49m\u001b[43malgo\u001b[49m\u001b[38;5;241;43m.\u001b[39;49m\u001b[43mvalue\u001b[49m\u001b[43m,\u001b[49m\u001b[43m \u001b[49m\u001b[43mbatch_max_iter\u001b[49m\u001b[38;5;241;43m.\u001b[39;49m\u001b[43mvalue\u001b[49m\u001b[43m)\u001b[49m\n\u001b[0;32m      9\u001b[0m     W \u001b[38;5;241m=\u001b[39m \u001b[38;5;28;01mNone\u001b[39;00m\n\u001b[0;32m     10\u001b[0m integration \u001b[38;5;241m=\u001b[39m pd\u001b[38;5;241m.\u001b[39mDataFrame(W\u001b[38;5;241m.\u001b[39mtranspose(), index\u001b[38;5;241m=\u001b[39mget_patients(datasets))\n",
      "File \u001b[1;32m~\\Desktop\\Tesi\\Shared\\Cloud\\Code\\libraries\\iNMF_wrapper.py:27\u001b[0m, in \u001b[0;36minmf\u001b[1;34m(datasets, n_threads, use_gpu, n_components, tol, lam, algo, batch_max_iter, random_state, log)\u001b[0m\n\u001b[0;32m     25\u001b[0m \u001b[38;5;28;01melse\u001b[39;00m:\n\u001b[0;32m     26\u001b[0m     \u001b[38;5;28;01mwith\u001b[39;00m contextlib\u001b[38;5;241m.\u001b[39mredirect_stdout(\u001b[38;5;28;01mNone\u001b[39;00m):\n\u001b[1;32m---> 27\u001b[0m         H, W, V, err \u001b[38;5;241m=\u001b[39m integrative_nmf(matrices, n_components\u001b[38;5;241m=\u001b[39mn_components, algo\u001b[38;5;241m=\u001b[39malgo, mode\u001b[38;5;241m=\u001b[39m\u001b[38;5;124m'\u001b[39m\u001b[38;5;124mbatch\u001b[39m\u001b[38;5;124m'\u001b[39m, tol\u001b[38;5;241m=\u001b[39mtol,\n\u001b[0;32m     28\u001b[0m                                        random_state\u001b[38;5;241m=\u001b[39mrandom_state, lam\u001b[38;5;241m=\u001b[39mlam, batch_max_iter\u001b[38;5;241m=\u001b[39mbatch_max_iter,\n\u001b[0;32m     29\u001b[0m                                        \u001b[38;5;241m*\u001b[39m\u001b[38;5;241m*\u001b[39mhw_parameter)\n\u001b[0;32m     31\u001b[0m \u001b[38;5;28;01mreturn\u001b[39;00m H, W, V, err\n",
      "File \u001b[1;32m~\\AppData\\Local\\Programs\\Python\\Python39\\lib\\site-packages\\nmf\\nmf.py:358\u001b[0m, in \u001b[0;36mintegrative_nmf\u001b[1;34m(X, n_components, init, algo, mode, tol, n_jobs, random_state, use_gpu, lam, fp_precision, batch_max_iter, batch_hals_tol, batch_hals_max_iter, online_max_pass, online_chunk_size, online_chunk_max_iter, online_h_tol, online_v_tol, online_w_tol)\u001b[0m\n\u001b[0;32m    347\u001b[0m         kwargs[\u001b[38;5;124m'\u001b[39m\u001b[38;5;124mw_tol\u001b[39m\u001b[38;5;124m'\u001b[39m] \u001b[38;5;241m=\u001b[39m online_w_tol\n\u001b[0;32m    349\u001b[0m model \u001b[38;5;241m=\u001b[39m model_class(\n\u001b[0;32m    350\u001b[0m     n_components\u001b[38;5;241m=\u001b[39mn_components,\n\u001b[0;32m    351\u001b[0m     init\u001b[38;5;241m=\u001b[39minit,\n\u001b[1;32m   (...)\u001b[0m\n\u001b[0;32m    355\u001b[0m     \u001b[38;5;241m*\u001b[39m\u001b[38;5;241m*\u001b[39mkwargs\n\u001b[0;32m    356\u001b[0m )\n\u001b[1;32m--> 358\u001b[0m H \u001b[38;5;241m=\u001b[39m \u001b[43mmodel\u001b[49m\u001b[38;5;241;43m.\u001b[39;49m\u001b[43mfit_transform\u001b[49m\u001b[43m(\u001b[49m\u001b[43mX\u001b[49m\u001b[43m)\u001b[49m\n\u001b[0;32m    359\u001b[0m W \u001b[38;5;241m=\u001b[39m model\u001b[38;5;241m.\u001b[39mW\n\u001b[0;32m    360\u001b[0m V \u001b[38;5;241m=\u001b[39m model\u001b[38;5;241m.\u001b[39mV\n",
      "File \u001b[1;32m~\\AppData\\Local\\Programs\\Python\\Python39\\lib\\site-packages\\nmf\\inmf_models\\_inmf_base.py:128\u001b[0m, in \u001b[0;36mINMFBase.fit_transform\u001b[1;34m(self, mats)\u001b[0m\n\u001b[0;32m    124\u001b[0m \u001b[38;5;28;01mdef\u001b[39;00m \u001b[38;5;21mfit_transform\u001b[39m(\n\u001b[0;32m    125\u001b[0m     \u001b[38;5;28mself\u001b[39m,\n\u001b[0;32m    126\u001b[0m     mats: List[torch\u001b[38;5;241m.\u001b[39mtensor],\n\u001b[0;32m    127\u001b[0m ):\n\u001b[1;32m--> 128\u001b[0m     \u001b[38;5;28;43mself\u001b[39;49m\u001b[38;5;241;43m.\u001b[39;49m\u001b[43mfit\u001b[49m\u001b[43m(\u001b[49m\u001b[43mmats\u001b[49m\u001b[43m)\u001b[49m\n\u001b[0;32m    129\u001b[0m     \u001b[38;5;28;01mreturn\u001b[39;00m \u001b[38;5;28mself\u001b[39m\u001b[38;5;241m.\u001b[39mH\n",
      "File \u001b[1;32m~\\AppData\\Local\\Programs\\Python\\Python39\\lib\\site-packages\\nmf\\inmf_models\\_inmf_batch_hals.py:128\u001b[0m, in \u001b[0;36mINMFBatchHALS.fit\u001b[1;34m(self, mats)\u001b[0m\n\u001b[0;32m    125\u001b[0m \u001b[38;5;66;03m# Batch update\u001b[39;00m\n\u001b[0;32m    126\u001b[0m \u001b[38;5;28;01mfor\u001b[39;00m i \u001b[38;5;129;01min\u001b[39;00m \u001b[38;5;28mrange\u001b[39m(\u001b[38;5;28mself\u001b[39m\u001b[38;5;241m.\u001b[39m_max_iter):\n\u001b[0;32m    127\u001b[0m     \u001b[38;5;66;03m# print(f\"Iteration {i+1}\")\u001b[39;00m\n\u001b[1;32m--> 128\u001b[0m     \u001b[38;5;28;43mself\u001b[39;49m\u001b[38;5;241;43m.\u001b[39;49m\u001b[43m_update_H_V_W\u001b[49m\u001b[43m(\u001b[49m\u001b[43m)\u001b[49m\n\u001b[0;32m    130\u001b[0m     \u001b[38;5;28;01mif\u001b[39;00m (i \u001b[38;5;241m+\u001b[39m \u001b[38;5;241m1\u001b[39m) \u001b[38;5;241m%\u001b[39m \u001b[38;5;241m10\u001b[39m \u001b[38;5;241m==\u001b[39m \u001b[38;5;241m0\u001b[39m:\n\u001b[0;32m    131\u001b[0m         \u001b[38;5;28mself\u001b[39m\u001b[38;5;241m.\u001b[39m_cur_err \u001b[38;5;241m=\u001b[39m \u001b[38;5;28mself\u001b[39m\u001b[38;5;241m.\u001b[39m_loss()\n",
      "File \u001b[1;32m~\\AppData\\Local\\Programs\\Python\\Python39\\lib\\site-packages\\nmf\\inmf_models\\_inmf_batch_hals.py:77\u001b[0m, in \u001b[0;36mINMFBatchHALS._update_H_V_W\u001b[1;34m(self)\u001b[0m\n\u001b[0;32m     75\u001b[0m denom \u001b[38;5;241m=\u001b[39m (\u001b[38;5;241m1.0\u001b[39m \u001b[38;5;241m+\u001b[39m \u001b[38;5;28mself\u001b[39m\u001b[38;5;241m.\u001b[39m_lambda) \u001b[38;5;241m*\u001b[39m \u001b[38;5;28mself\u001b[39m\u001b[38;5;241m.\u001b[39m_HTH[k][l, l]\n\u001b[0;32m     76\u001b[0m v_new \u001b[38;5;241m=\u001b[39m \u001b[38;5;28mself\u001b[39m\u001b[38;5;241m.\u001b[39mV[k][l, :] \u001b[38;5;241m+\u001b[39m numer \u001b[38;5;241m/\u001b[39m denom\n\u001b[1;32m---> 77\u001b[0m \u001b[38;5;28;01mif\u001b[39;00m torch\u001b[38;5;241m.\u001b[39misnan(v_new)\u001b[38;5;241m.\u001b[39msum() \u001b[38;5;241m>\u001b[39m \u001b[38;5;241m0\u001b[39m:\n\u001b[0;32m     78\u001b[0m     v_new[:] \u001b[38;5;241m=\u001b[39m \u001b[38;5;241m0.0\u001b[39m \u001b[38;5;66;03m# divide zero error: set v_new to 0\u001b[39;00m\n\u001b[0;32m     79\u001b[0m \u001b[38;5;28;01melse\u001b[39;00m:\n",
      "\u001b[1;31mKeyboardInterrupt\u001b[0m: "
     ]
    }
   ],
   "source": [
    "results = []\n",
    "\n",
    "datasets = {key: dataset for key, dataset in pcas[ratio.value].items() if key in datasets_selection.value}\n",
    "patients = get_patients(datasets)\n",
    "\n",
    "pipeline = [('PCA', ratio.value), ('iNMF', n_components.value), ('UMAP', ''), ('RF', '')]\n",
    "method, method_param, pipeline_desc = pipeline_str(pipeline)\n",
    "\n",
    "sub_folder = results_subfolder(method, method_param)\n",
    "if not os.path.isdir(os.path.join(results_root, sub_folder)):\n",
    "    os.mkdir(os.path.join(results_root, sub_folder))\n",
    "\n",
    "for sub_set in (bar := tqdm(get_subsets(datasets))):\n",
    "    keys = sub_set.keys()\n",
    "    bar.set_postfix_str(f'Testing {list(keys)}')\n",
    "\n",
    "    fig, result, rf = run_pipeline(datasets, n_components.value, 100, pipeline_desc, sampling_pipeline=[], balance=False, bar=bar)\n",
    "\n",
    "    bar.set_description('Saving scatter')\n",
    "    filename = result_filename(method_param, sub_set).replace('.', '_')\n",
    "    save_fig(fig, root=os.path.join(results_root, sub_folder), info=filename, subfolder = False)\n",
    "\n",
    "    results.append(result)\n",
    "\n",
    "    bar.set_description(f'Max silhoutte: {max([result[0] for result in results])}')\n",
    "\n",
    "results_df = pd.DataFrame(data=results, columns=['Silhouette_pre', 'Silhouette', 'Homogeneity_pre', 'Homogeneity', 'Purity_pre', 'Purity', *list(rf.report().keys()), 'Datasets', 'Balancing', 'Sampler'])\n",
    "results_df.to_csv(os.path.join(results_root, sub_folder, f'{filename.split(\"_[\")[0]}.csv'), index=False, sep=';')\n",
    "results_df.to_excel(os.path.join(results_root, sub_folder, f'{filename.split(\"_[\")[0]}.xlsx'))"
   ]
  },
  {
   "cell_type": "markdown",
   "id": "b4769bca-030c-4c1f-9835-818b1b1ec6dc",
   "metadata": {},
   "source": [
    "## Datasets sub-sets test different ratios"
   ]
  },
  {
   "cell_type": "code",
   "execution_count": null,
   "id": "a01d1fa2-5c9a-4e93-ba4c-85fff59f96c2",
   "metadata": {},
   "outputs": [],
   "source": [
    "display_hw_parameters()\n",
    "display(oversample)\n",
    "display_inmf_parameters()"
   ]
  },
  {
   "cell_type": "code",
   "execution_count": null,
   "id": "08a1e6a3-f683-4fbd-b303-818eb463d6bd",
   "metadata": {},
   "outputs": [],
   "source": [
    "for ratio in (main_bar := tqdm(list(pcas.keys()))):\n",
    "    datasets = {key: dataset for key, dataset in pcas[ratio].items()}\n",
    "    patients = get_patients(datasets)\n",
    "\n",
    "    pipeline = [('PCA', ratio), ('iNMF', n_components.value), ('UMAP', ''), ('RF', '')]\n",
    "    method, method_param, pipeline_desc = pipeline_str(pipeline)\n",
    "\n",
    "    sub_folder = results_subfolder(method, method_param)\n",
    "\n",
    "    os.mkdir(os.path.join(results_root, sub_folder))\n",
    "    main_bar.set_description(f'Ratio: {ratio}')\n",
    "    results = []\n",
    "\n",
    "    for sub_set in (bar := tqdm(get_subsets(datasets), leave=False)):\n",
    "        keys = sub_set.keys()\n",
    "\n",
    "        bar.set_postfix_str(f'Testing {list(keys)}')\n",
    "\n",
    "        fig, result = run_pipeline(sub_set, ratio, n_components.value, 100, pipeline_desc, bar, oversample=oversample.value)\n",
    "\n",
    "        bar.set_description('Saving scatter')\n",
    "        filename = result_filename(method_param.replace('>', ''), sub_set).replace('.', '_')\n",
    "        save_fig(fig, root=os.path.join(results_root, sub_folder), info=filename, subfolder = False)\n",
    "\n",
    "        results.append(result)\n",
    "\n",
    "    results_df = pd.DataFrame(data=results, columns=['Silhouette_pre', 'Silhouette', 'Homogeneity_pre', 'Homogeneity', 'Purity_pre', 'Purity', 'Sensitivity', 'Specificity', 'Accuracy', 'F-score', 'Datasets'])\n",
    "    results_df.to_csv(os.path.join(results_root, sub_folder, f'{filename.split(\"_[\")[0]}.csv'), index=False, sep=';')\n",
    "\n",
    "    main_bar.set_description('Done')"
   ]
  },
  {
   "cell_type": "code",
   "execution_count": null,
   "id": "f820124d-6c84-41df-8e50-69ba6f9fa642",
   "metadata": {},
   "outputs": [],
   "source": [
    "display_hw_parameters()\n",
    "display(oversample)\n",
    "display_inmf_parameters()"
   ]
  },
  {
   "cell_type": "code",
   "execution_count": null,
   "id": "a9453517-4442-42b5-864f-c3b92d4260ed",
   "metadata": {},
   "outputs": [],
   "source": [
    "tests = ((.75, (['clinical_data', 'met_Mval'], ['cnv.score', 'miRNA_mor'], ['cnv.score', 'met_Mval'], ['cnv.score', 'met_Mval', 'miRNA_mor'])),\n",
    "         (.9, (['clinical_data', 'met_Mval'], ['cnv.score', 'miRNA_mor'], ['cnv.score', 'miRNA_mor'], ['miRNA_mor', 'mRNA_mor'])))\n",
    "\n",
    "\n",
    "for ratio, keys_subsets in (main_bar := tqdm(tests)):\n",
    "    pipeline = [('PCA', ratio), ('iNMF', 200), ('UMAP', ''), ('RF', '')]\n",
    "    method, method_param, pipeline_desc = pipeline_str(pipeline)\n",
    "\n",
    "    sub_folder = results_subfolder(method, method_param)\n",
    "\n",
    "    if not os.path.isdir(os.path.join(results_root, sub_folder)):\n",
    "        os.mkdir(os.path.join(results_root, sub_folder))\n",
    "    main_bar.set_description(f'Ratio: {ratio}')\n",
    "    results = []\n",
    "\n",
    "    for keys in (bar := tqdm(keys_subsets,  leave=False)):\n",
    "        datasets = {key: pcas[ratio][key] for key in keys}\n",
    "        patients = get_patients(datasets)\n",
    "        bar.set_postfix_str(f'Testing {list(keys)}')\n",
    "\n",
    "        fig, result = run_pipeline(datasets, ratio, n_components.value, 100, pipeline_desc, bar, oversample=oversample.value)\n",
    "\n",
    "        bar.set_description('Saving scatter')\n",
    "        filename = result_filename(method_param.replace('>', ''), datasets).replace('.', '_')\n",
    "        save_fig(fig, root=os.path.join(results_root, sub_folder), info=filename, subfolder = False)\n",
    "\n",
    "        results.append(result)\n",
    "\n",
    "    results_df = pd.DataFrame(data=results, columns=['Silhouette_pre', 'Silhouette', 'Homogeneity_pre', 'Homogeneity', 'Purity_pre', 'Purity', 'Sensitivity', 'Specificity', 'Accuracy', 'F-score', 'Datasets'])\n",
    "    results_df.to_csv(os.path.join(results_root, sub_folder, f'{filename.split(\"_[\")[0]}.csv'), index=False, sep=';')"
   ]
  },
  {
   "cell_type": "markdown",
   "id": "fcc27ff0-5c75-45c8-b506-5f47e3be018e",
   "metadata": {
    "tags": []
   },
   "source": [
    "## Oversampling and balancing"
   ]
  },
  {
   "cell_type": "code",
   "execution_count": null,
   "id": "8ced0c07-0a7a-4927-9675-33952a301030",
   "metadata": {},
   "outputs": [],
   "source": [
    "tests = ([], [Samplers.smote_oversampler(.5)], [Samplers.smote_oversampler(.25), Samplers.random_undersampler(.5)], [Samplers.random_undersampler(.25), Samplers.smote_oversampler(.5)],\n",
    "         [Samplers.random_oversampler(.25), Samplers.random_undersampler(.5)], [Samplers.random_undersampler(.25), Samplers.random_oversampler(.5)], [Samplers.random_oversampler(.5)],\n",
    "         [Samplers.random_undersampler(.5)], [Samplers.smote_oversampler(.75)], [Samplers.random_oversampler(.75)], [Samplers.random_undersampler(.75)], [Samplers.smote_oversampler(1)], \n",
    "         [Samplers.random_oversampler(1)], [Samplers.random_undersampler(1)])\n",
    "\n",
    "results = []\n",
    "pipeline = [('PCA', .75), ('iNMF', 200), ('UMAP', ''), ('Resampling', ''), ('RF', '')]\n",
    "method, method_param, pipeline_desc = pipeline_str(pipeline)\n",
    "datasets = {key: dataset for key, dataset in pcas[.75].items() if key in ['cnv.score', 'met_Mval']}\n",
    "patients = get_patients(datasets)\n",
    "\n",
    "for balance_ in [True, False]:\n",
    "    for test in (bar := tqdm(tests)):\n",
    "\n",
    "        sub_folder = results_subfolder(method, method_param)\n",
    "\n",
    "        if not os.path.isdir(os.path.join(results_root, sub_folder)):\n",
    "            os.mkdir(os.path.join(results_root, sub_folder))\n",
    "        fig, result, rf = run_pipeline(datasets, 200, 100, pipeline_desc, sampling_pipeline=test, balance=balance_, bar=bar)\n",
    "        result = list(result)\n",
    "        result.append(balance_)\n",
    "        result.append([sampler.__class__.__name__ for sampler in test])\n",
    "        results.append(result)\n",
    "\n",
    "filename = result_filename(method_param, datasets).replace('.', '_')\n",
    "results_df = pd.DataFrame(data=results, columns=['Silhouette_pre', 'Silhouette', 'Homogeneity_pre', 'Homogeneity', 'Purity_pre', 'Purity', *list(rf.report().keys()), 'Datasets', 'Balancing', 'Sampler'])\n",
    "results_df.to_csv(os.path.join(results_root, sub_folder, f'{filename.split(\"_[\")[0]}.csv'), index=False, sep=';')\n",
    "results_df[results_df['Balancing'] == True].to_excel(os.path.join(results_root, sub_folder, 'pos.xlsx'))\n",
    "results_df[results_df['Balancing'] == False].to_excel(os.path.join(results_root, sub_folder, 'neg.xlsx'))"
   ]
  }
 ],
 "metadata": {
  "kernelspec": {
   "display_name": "Python 3 (ipykernel)",
   "language": "python",
   "name": "python3"
  },
  "language_info": {
   "codemirror_mode": {
    "name": "ipython",
    "version": 3
   },
   "file_extension": ".py",
   "mimetype": "text/x-python",
   "name": "python",
   "nbconvert_exporter": "python",
   "pygments_lexer": "ipython3",
   "version": "3.9.10"
  }
 },
 "nbformat": 4,
 "nbformat_minor": 5
}

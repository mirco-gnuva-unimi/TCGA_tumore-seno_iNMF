{
 "cells": [
  {
   "cell_type": "markdown",
   "id": "a0971f3a-f9d1-4ef6-8b40-b129709394fa",
   "metadata": {},
   "source": [
    "# Google Drive"
   ]
  },
  {
   "cell_type": "code",
   "execution_count": 1,
   "id": "343f3d7a-bf93-4969-a44b-a936fbda0829",
   "metadata": {},
   "outputs": [
    {
     "ename": "ModuleNotFoundError",
     "evalue": "No module named 'google'",
     "output_type": "error",
     "traceback": [
      "\u001b[1;31m---------------------------------------------------------------------------\u001b[0m",
      "\u001b[1;31mModuleNotFoundError\u001b[0m                       Traceback (most recent call last)",
      "Input \u001b[1;32mIn [1]\u001b[0m, in \u001b[0;36m<module>\u001b[1;34m\u001b[0m\n\u001b[1;32m----> 1\u001b[0m \u001b[38;5;28;01mfrom\u001b[39;00m \u001b[38;5;21;01mgoogle\u001b[39;00m\u001b[38;5;21;01m.\u001b[39;00m\u001b[38;5;21;01mcolab\u001b[39;00m \u001b[38;5;28;01mimport\u001b[39;00m drive\n\u001b[0;32m      2\u001b[0m \u001b[38;5;28;01mimport\u001b[39;00m \u001b[38;5;21;01mos\u001b[39;00m\n\u001b[0;32m      3\u001b[0m drive\u001b[38;5;241m.\u001b[39mmount(\u001b[38;5;124m'\u001b[39m\u001b[38;5;124m/content/drive/Othercomputers/Il mio computer/Tesi/Computing/Datasets\u001b[39m\u001b[38;5;124m'\u001b[39m)\n",
      "\u001b[1;31mModuleNotFoundError\u001b[0m: No module named 'google'"
     ]
    }
   ],
   "source": [
    "from google.colab import drive\n",
    "import os\n",
    "drive.mount('/content/drive/Othercomputers/Il mio computer/Tesi/Computing/Datasets')"
   ]
  },
  {
   "cell_type": "markdown",
   "id": "155ccb4a-38f8-4e57-a4bb-46d47ba2ce4d",
   "metadata": {},
   "source": [
    "# Initialization"
   ]
  },
  {
   "cell_type": "code",
   "execution_count": null,
   "id": "36eeeaad",
   "metadata": {
    "scrolled": true,
    "tags": []
   },
   "outputs": [],
   "source": [
    "!pip install -r requirements.txt"
   ]
  },
  {
   "cell_type": "code",
   "execution_count": 2,
   "id": "3d8d31b1",
   "metadata": {},
   "outputs": [],
   "source": [
    "from ipywidgets import widgets\n",
    "from IPython.display import display\n",
    "from halo import HaloNotebook as Halo\n",
    "from tqdm.notebook import tqdm\n",
    "import numpy as np\n",
    "from threading import Thread\n",
    "import os"
   ]
  },
  {
   "cell_type": "markdown",
   "id": "67e4c827-9803-4583-b858-2a0a506548c7",
   "metadata": {},
   "source": [
    "## Threaded execution\n",
    "Using modin and Dask slightly increases performances, but requires more RAM."
   ]
  },
  {
   "cell_type": "code",
   "execution_count": 3,
   "id": "89ce8463-3247-43b5-bc46-db8d1838283c",
   "metadata": {},
   "outputs": [
    {
     "data": {
      "application/vnd.jupyter.widget-view+json": {
       "model_id": "22c7b3fa7e5c465ba1005a0a581a8622",
       "version_major": 2,
       "version_minor": 0
      },
      "text/plain": [
       "Checkbox(value=True, description='Threaded pandas')"
      ]
     },
     "metadata": {},
     "output_type": "display_data"
    }
   ],
   "source": [
    "threaded = widgets.Checkbox(value=True, description='Threaded pandas')\n",
    "display(threaded)"
   ]
  },
  {
   "cell_type": "code",
   "execution_count": 4,
   "id": "b5f088d4-ccbd-4162-a884-8509c012faf9",
   "metadata": {},
   "outputs": [],
   "source": [
    "if threaded.value:\n",
    "    import modin.pandas as pd\n",
    "    from dask.distributed import Client\n",
    "\n",
    "    client = Client(n_workers=4, threads_per_worker=2)  # More workers = more RAM needed\n",
    "\n",
    "else:\n",
    "    import pandas as pd"
   ]
  },
  {
   "cell_type": "markdown",
   "id": "c5bbf53f-8456-4599-8d4d-8bad4b501058",
   "metadata": {},
   "source": [
    "## Paths "
   ]
  },
  {
   "cell_type": "code",
   "execution_count": 5,
   "id": "a3fd2846",
   "metadata": {},
   "outputs": [],
   "source": [
    "input_root = '../../Datasets/6_downcasted'\n",
    "output_root = '../../Datasets/7_NaNs_dropped'"
   ]
  },
  {
   "cell_type": "markdown",
   "id": "a9a0ed70-1a5e-4878-b71e-a8135526a271",
   "metadata": {},
   "source": [
    "## Functions"
   ]
  },
  {
   "cell_type": "code",
   "execution_count": 6,
   "id": "c1ea3aca-0550-4d25-9b5e-e518600d44ae",
   "metadata": {},
   "outputs": [],
   "source": [
    "def load_dataset(dataset_file, root, bar: tqdm = None) -> pd.DataFrame:\n",
    "    path = os.path.join(root, dataset_file)\n",
    "    if bar:\n",
    "        bar.set_description(f'Loading \"{dataset_file}\" from \"{path}\"')\n",
    "    dataset = pd.read_pickle(path)\n",
    "\n",
    "    return dataset"
   ]
  },
  {
   "cell_type": "code",
   "execution_count": 7,
   "id": "f5fe2590-0d17-4483-828e-4a316f0d33e7",
   "metadata": {},
   "outputs": [],
   "source": [
    "def get_pairs(data: list) -> list:\n",
    "    if len(data) % 2 == 1:\n",
    "        data.append(data[-1])\n",
    "\n",
    "    pairs = [(data[i], data[i+1]) for i in range(0, len(data), 2)]\n",
    "    return pairs"
   ]
  },
  {
   "cell_type": "code",
   "execution_count": 8,
   "id": "05d0b595-ce5e-4ff8-98a1-567b2cb0dacd",
   "metadata": {},
   "outputs": [],
   "source": [
    "def list_intersection(data):\n",
    "    while len(data) > 2:\n",
    "        pairs = get_pairs(data)\n",
    "        data = [np.intersect1d(pair[0], pair[1]) for pair in pairs]\n",
    "\n",
    "    return np.intersect1d(data[0], data[1])"
   ]
  },
  {
   "cell_type": "code",
   "execution_count": 9,
   "id": "1abd3161-c0e4-48b4-825d-444d4ad4dade",
   "metadata": {},
   "outputs": [],
   "source": [
    "def indexes_intersection(indexes):\n",
    "    while len(indexes) > 2:\n",
    "        pairs = get_pairs(indexes)\n",
    "        indexes = [pair[0].intersection(pair[1]) for pair in pairs]\n",
    "\n",
    "    return indexes[0].intersection(indexes[1])"
   ]
  },
  {
   "cell_type": "code",
   "execution_count": 10,
   "id": "723a794c-faaf-4c5b-ab3c-80f0398d5a75",
   "metadata": {},
   "outputs": [],
   "source": [
    "def get_drop_rate(original, dropped):\n",
    "    return (original - dropped)/original"
   ]
  },
  {
   "cell_type": "code",
   "execution_count": 11,
   "id": "205635f2-832d-4422-be72-42ad03bed0e4",
   "metadata": {},
   "outputs": [],
   "source": [
    "def drop_rate_value(df: pd.DataFrame, axis=0):\n",
    "    drop_rate = get_drop_rate(len(df), len(df.dropna(axis=axis)))\n",
    "\n",
    "    return drop_rate"
   ]
  },
  {
   "cell_type": "code",
   "execution_count": 12,
   "id": "24b64375-49a9-4e7f-b38e-f1e7eb97d6b7",
   "metadata": {},
   "outputs": [],
   "source": [
    "def drop_rate_rows(df):\n",
    "    return drop_rate_value(df)"
   ]
  },
  {
   "cell_type": "code",
   "execution_count": 13,
   "id": "298e099e-07be-4287-a4f7-14f51402e97b",
   "metadata": {},
   "outputs": [],
   "source": [
    "def drop_rate_columns(df):\n",
    "    return drop_rate_value(df, axis=1)"
   ]
  },
  {
   "cell_type": "code",
   "execution_count": 14,
   "id": "39a34b04-eff3-43d9-8523-b30608725566",
   "metadata": {},
   "outputs": [],
   "source": [
    "def min_drop_rate_axis(df):\n",
    "    with Halo(text='Testing rows dropping', spinner='dots'):\n",
    "        rows = drop_rate_rows(df) / len(df)\n",
    "\n",
    "    with Halo(text='Testing columns dropping', spinner='dots'):\n",
    "        columns = drop_rate_columns(df) / len(df.columns)\n",
    "\n",
    "    return int(rows > columns)"
   ]
  },
  {
   "cell_type": "markdown",
   "id": "0b658b8a-952e-41da-af19-c58a625523c7",
   "metadata": {},
   "source": [
    "## Datasets loading"
   ]
  },
  {
   "cell_type": "code",
   "execution_count": 15,
   "id": "eb45b6f1",
   "metadata": {},
   "outputs": [
    {
     "data": {
      "application/vnd.jupyter.widget-view+json": {
       "model_id": "c6b26560f02d414f9a8f42a323ca7a12",
       "version_major": 2,
       "version_minor": 0
      },
      "text/plain": [
       "  0%|          | 0/8 [00:00<?, ?it/s]"
      ]
     },
     "metadata": {},
     "output_type": "display_data"
    },
    {
     "name": "stderr",
     "output_type": "stream",
     "text": [
      "UserWarning: `read_pickle` defaulting to pandas implementation.\n",
      "To request implementation, send an email to feature_requests@modin.org.\n",
      "UserWarning: `read_pickle` defaulting to pandas implementation.\n",
      "UserWarning: `read_pickle` defaulting to pandas implementation.\n",
      "UserWarning: `read_pickle` defaulting to pandas implementation.\n",
      "UserWarning: `read_pickle` defaulting to pandas implementation.\n",
      "UserWarning: `read_pickle` defaulting to pandas implementation.\n",
      "UserWarning: `read_pickle` defaulting to pandas implementation.\n",
      "UserWarning: `read_pickle` defaulting to pandas implementation.\n"
     ]
    }
   ],
   "source": [
    "datasets = {}\n",
    "\n",
    "datasets_files = os.listdir(input_root)\n",
    "\n",
    "for filename in (bar := tqdm(datasets_files)):\n",
    "    datasets[filename] = load_dataset(filename, input_root, bar)\n",
    "\n",
    "    bar.set_description('Datasets loaded')"
   ]
  },
  {
   "cell_type": "markdown",
   "id": "b35583a6-393f-4e3c-b62f-6278902e8d83",
   "metadata": {
    "tags": []
   },
   "source": [
    "## NaNs drop\n",
    "Drop rates dropping rows and columns are calculated and used to reduce data loss; at the moment features have the priority, Clinical features are considered \"key features\" and in this way the probability that the rows will be dropped instead of columns is greater.\n",
    "The only situation in which features will be droped is the case where each patient has at least one NaN feature."
   ]
  },
  {
   "cell_type": "code",
   "execution_count": 16,
   "id": "d3a9660f-8b10-4f71-92b4-7d2502b9f020",
   "metadata": {},
   "outputs": [
    {
     "data": {
      "application/vnd.jupyter.widget-view+json": {
       "model_id": "e86cba007c9b4c2bb631f8625a173902",
       "version_major": 2,
       "version_minor": 0
      },
      "text/plain": [
       "  0%|          | 0/8 [00:00<?, ?it/s]"
      ]
     },
     "metadata": {},
     "output_type": "display_data"
    },
    {
     "name": "stderr",
     "output_type": "stream",
     "text": [
      "UserWarning: User-defined function verification is still under development in Modin. The function provided is not verified.\n"
     ]
    }
   ],
   "source": [
    "for name, dataset in (bar := tqdm(datasets.items())):\n",
    "    bar.set_description(f'Dropping NaNs in {name}')\n",
    "    rows_drop_rate = drop_rate_rows(dataset)\n",
    "    cols_drop_rate = drop_rate_columns(dataset)\n",
    "\n",
    "    axis = 0 if rows_drop_rate < 1 else 1\n",
    "\n",
    "    datasets[name] = dataset.dropna(axis=axis).apply(pd.to_numeric,  downcast='integer')\n",
    "    bar.set_description(f'Dropping done.')"
   ]
  },
  {
   "cell_type": "markdown",
   "id": "2f5143e6-9417-4d02-ad26-857af180cb0f",
   "metadata": {},
   "source": [
    "### Datasets shape check"
   ]
  },
  {
   "cell_type": "code",
   "execution_count": 17,
   "id": "82c7fdff-f7c6-452c-bf7c-ae4b0d217cc9",
   "metadata": {},
   "outputs": [
    {
     "data": {
      "application/vnd.jupyter.widget-view+json": {
       "model_id": "69398dd905124b37a58b59f3aa982409",
       "version_major": 2,
       "version_minor": 0
      },
      "text/plain": [
       "  0%|          | 0/8 [00:00<?, ?it/s]"
      ]
     },
     "metadata": {},
     "output_type": "display_data"
    },
    {
     "name": "stdout",
     "output_type": "stream",
     "text": [
      "clinical_data.xz               445 11\n",
      "cnv.score.xz                   738 19729\n",
      "met_Mval.xz                    738 365786\n",
      "miRNA_mor.xz                   738 1881\n",
      "miRNA_vst.xz                   738 1881\n",
      "mRNA_mor.xz                    738 56602\n",
      "mRNA_vst.xz                    738 56602\n",
      "tcga_cdr_brca_labels.xz        642 2\n"
     ]
    }
   ],
   "source": [
    "for name, dataset in (bar := tqdm(datasets.items())):\n",
    "    print(f'{name:<30} {len(dataset)} {len(dataset.columns)}')"
   ]
  },
  {
   "cell_type": "markdown",
   "id": "6825e80d-2134-4221-ae9d-2c4c3a8749e4",
   "metadata": {},
   "source": [
    "### No NaNs check\n",
    "False means that there are not NaNs in the respective dataset"
   ]
  },
  {
   "cell_type": "code",
   "execution_count": 18,
   "id": "fba20f89-eaf8-416c-9047-dd9f7e44af43",
   "metadata": {},
   "outputs": [
    {
     "data": {
      "application/vnd.jupyter.widget-view+json": {
       "model_id": "09cc63faf0d54d28a123a34a87797450",
       "version_major": 2,
       "version_minor": 0
      },
      "text/plain": [
       "  0%|          | 0/8 [00:00<?, ?it/s]"
      ]
     },
     "metadata": {},
     "output_type": "display_data"
    },
    {
     "name": "stdout",
     "output_type": "stream",
     "text": [
      "clinical_data.xz False\n",
      "cnv.score.xz False\n",
      "met_Mval.xz False\n",
      "miRNA_mor.xz False\n",
      "miRNA_vst.xz False\n",
      "mRNA_mor.xz False\n",
      "mRNA_vst.xz False\n",
      "tcga_cdr_brca_labels.xz False\n"
     ]
    }
   ],
   "source": [
    "for name, dataset in (bar := tqdm(datasets.items())):\n",
    "    print(name, dataset.isna().any().any())"
   ]
  },
  {
   "cell_type": "markdown",
   "id": "9720291f-824b-4700-bc52-2f25906deba1",
   "metadata": {},
   "source": [
    "## Patients intersection"
   ]
  },
  {
   "cell_type": "code",
   "execution_count": 20,
   "id": "57439b02-6bf5-4f59-8c1b-b701e0842fec",
   "metadata": {
    "tags": []
   },
   "outputs": [
    {
     "data": {
      "application/vnd.jupyter.widget-view+json": {
       "model_id": "5f1961999b1548f7ac9c38282a1ff63a",
       "version_major": 2,
       "version_minor": 0
      },
      "text/plain": [
       "Output()"
      ]
     },
     "metadata": {},
     "output_type": "display_data"
    }
   ],
   "source": [
    "dataset: pd.DataFrame\n",
    "indexes = [dataset.index for dataset in datasets.values()]\n",
    "\n",
    "with Halo(text=f'Intersecting {len(indexes)} indexes...', spinner='dots'):\n",
    "    intersection = indexes_intersection(indexes)"
   ]
  },
  {
   "cell_type": "markdown",
   "id": "2e583324-5300-497e-baff-285f180116c4",
   "metadata": {},
   "source": [
    "## Datasets filtering by patients instersection"
   ]
  },
  {
   "cell_type": "code",
   "execution_count": 21,
   "id": "4bc87c37-55af-41ce-99ea-169fc4dbfd17",
   "metadata": {},
   "outputs": [
    {
     "data": {
      "application/vnd.jupyter.widget-view+json": {
       "model_id": "87a9c256effe45f6997c0f76bd7957fa",
       "version_major": 2,
       "version_minor": 0
      },
      "text/plain": [
       "  0%|          | 0/8 [00:00<?, ?it/s]"
      ]
     },
     "metadata": {},
     "output_type": "display_data"
    }
   ],
   "source": [
    "for name, dataset in (bar := tqdm(datasets.items())):\n",
    "    datasets[name] = dataset.loc[intersection]"
   ]
  },
  {
   "cell_type": "markdown",
   "id": "caf7f74d-0a00-49b4-9111-d2228a812585",
   "metadata": {},
   "source": [
    "## Output to pickle"
   ]
  },
  {
   "cell_type": "code",
   "execution_count": 22,
   "id": "256a6443",
   "metadata": {},
   "outputs": [
    {
     "data": {
      "application/vnd.jupyter.widget-view+json": {
       "model_id": "4c64a05b079546ffac4b2cb880ce0218",
       "version_major": 2,
       "version_minor": 0
      },
      "text/plain": [
       "  0%|          | 0/8 [00:00<?, ?it/s]"
      ]
     },
     "metadata": {},
     "output_type": "display_data"
    },
    {
     "name": "stderr",
     "output_type": "stream",
     "text": [
      "UserWarning: `to_pickle` defaulting to pandas implementation.\n"
     ]
    }
   ],
   "source": [
    "for name, dataset in (bar := tqdm(datasets.items())):\n",
    "    path = os.path.join(output_root, name)\n",
    "    bar.set_description(f'Writing {path}')\n",
    "    dataset.to_pickle(path)\n",
    "    bar.set_description('Done')"
   ]
  }
 ],
 "metadata": {
  "kernelspec": {
   "display_name": "Python 3 (ipykernel)",
   "language": "python",
   "name": "python3"
  },
  "language_info": {
   "codemirror_mode": {
    "name": "ipython",
    "version": 3
   },
   "file_extension": ".py",
   "mimetype": "text/x-python",
   "name": "python",
   "nbconvert_exporter": "python",
   "pygments_lexer": "ipython3",
   "version": "3.9.10"
  }
 },
 "nbformat": 4,
 "nbformat_minor": 5
}

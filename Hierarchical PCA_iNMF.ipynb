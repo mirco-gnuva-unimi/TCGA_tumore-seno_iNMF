{
 "cells": [
  {
   "cell_type": "markdown",
   "id": "2bc7bf89-90b7-4760-a5c2-9420a5edb190",
   "metadata": {},
   "source": [
    "# Google Drive"
   ]
  },
  {
   "cell_type": "code",
   "execution_count": null,
   "id": "343f3d7a-bf93-4969-a44b-a936fbda0829",
   "metadata": {},
   "outputs": [],
   "source": [
    "from google.colab import drive\n",
    "import os\n",
    "drive.mount('/content/drive/Othercomputers/Il mio computer/Tesi/Computing/Datasets')"
   ]
  },
  {
   "cell_type": "markdown",
   "id": "96116cb4-34a6-46b9-9909-ce170b521af2",
   "metadata": {},
   "source": [
    "# Initialization"
   ]
  },
  {
   "cell_type": "code",
   "execution_count": null,
   "id": "36eeeaad",
   "metadata": {
    "scrolled": true,
    "tags": []
   },
   "outputs": [],
   "source": [
    "!pip install -r requirements.txt"
   ]
  },
  {
   "cell_type": "code",
   "execution_count": 1,
   "id": "3d8d31b1",
   "metadata": {},
   "outputs": [],
   "source": [
    "from ipywidgets import widgets\n",
    "from IPython.display import display\n",
    "from halo import HaloNotebook as Halo\n",
    "from tqdm.notebook import tqdm\n",
    "from libraries.umap_wrapper import umap\n",
    "from libraries.plots_wrapper import get_iplot, save_fig, plot_title\n",
    "from libraries.wrappers import smote, load_PCAs, get_patients, get_silhouette, load_labels, result_filename, concatenate, results_subfolder, pipeline_str, clusters_metrics, log_state\n",
    "from libraries.parameters_widgets import *\n",
    "from libraries.datasets_subsets import get_subsets\n",
    "from libraries.random_forest import RandomForest, Samplers\n",
    "from libraries.iNMF_wrapper import inmf\n",
    "from itertools import product\n",
    "import libraries.pca as pca\n",
    "import os\n",
    "import pandas as pd\n",
    "import warnings\n",
    "warnings.filterwarnings('ignore')"
   ]
  },
  {
   "cell_type": "markdown",
   "id": "86301929-b14f-450e-8511-9b5b31651f23",
   "metadata": {},
   "source": [
    "## Paths "
   ]
  },
  {
   "cell_type": "code",
   "execution_count": 2,
   "id": "a3fd2846",
   "metadata": {},
   "outputs": [],
   "source": [
    "pcas_root = '../../Datasets/'\n",
    "pcas_filename = '10_PCA.pickle'\n",
    "labels_path = '../../Datasets/6_downcasted'\n",
    "results_root = '../Results'"
   ]
  },
  {
   "cell_type": "markdown",
   "id": "ed565091-adcd-42a8-8914-9201189d10c9",
   "metadata": {},
   "source": [
    "## Datasets loading"
   ]
  },
  {
   "cell_type": "code",
   "execution_count": 3,
   "id": "b629ef79-7be9-44bf-a456-89cb0ee65af4",
   "metadata": {},
   "outputs": [
    {
     "data": {
      "application/vnd.jupyter.widget-view+json": {
       "model_id": "185790977b1345c7a1f05ebfba5b6f71",
       "version_major": 2,
       "version_minor": 0
      },
      "text/plain": [
       "Output()"
      ]
     },
     "metadata": {},
     "output_type": "display_data"
    },
    {
     "name": "stdout",
     "output_type": "stream",
     "text": [
      "Loaded.\n"
     ]
    }
   ],
   "source": [
    "pcas = load_PCAs(pcas_root, pcas_filename, log=True)"
   ]
  },
  {
   "cell_type": "markdown",
   "id": "36b80258-2362-4730-975d-949192bb3a37",
   "metadata": {},
   "source": [
    "### Labels loading"
   ]
  },
  {
   "cell_type": "code",
   "execution_count": 4,
   "id": "08a08ff6-47fe-4539-847e-d4101cb2b8c7",
   "metadata": {},
   "outputs": [
    {
     "data": {
      "application/vnd.jupyter.widget-view+json": {
       "model_id": "f90a9f73dc5342d4ac9b2356e292ad46",
       "version_major": 2,
       "version_minor": 0
      },
      "text/plain": [
       "Output()"
      ]
     },
     "metadata": {},
     "output_type": "display_data"
    },
    {
     "name": "stdout",
     "output_type": "stream",
     "text": [
      "Loaded\n"
     ]
    }
   ],
   "source": [
    "labels = load_labels(labels_path, 'tcga_cdr_brca_labels.xz', log=True)"
   ]
  },
  {
   "cell_type": "markdown",
   "id": "9b9c0dad-7c4f-4d50-8237-e1f8c5e5f6e7",
   "metadata": {
    "tags": []
   },
   "source": [
    "## PCA ratio"
   ]
  },
  {
   "cell_type": "code",
   "execution_count": 5,
   "id": "1320ea6d-2cc7-4a46-98aa-1d7071132aae",
   "metadata": {},
   "outputs": [
    {
     "data": {
      "application/vnd.jupyter.widget-view+json": {
       "model_id": "d3677baf3e3d498ca32260e34a51c932",
       "version_major": 2,
       "version_minor": 0
      },
      "text/plain": [
       "Dropdown(description='First ratio', options=(0.75, 0.9), value=0.75)"
      ]
     },
     "metadata": {},
     "output_type": "display_data"
    },
    {
     "data": {
      "application/vnd.jupyter.widget-view+json": {
       "model_id": "bf5201f82f2e4465b5d43b4d91102c12",
       "version_major": 2,
       "version_minor": 0
      },
      "text/plain": [
       "BoundedFloatText(value=0.9, description='Second ratio', max=1.0)"
      ]
     },
     "metadata": {},
     "output_type": "display_data"
    }
   ],
   "source": [
    "ratio = widgets.Dropdown(options=pcas.keys(), description='First ratio', disabled=False)\n",
    "second_ratio = widgets.BoundedFloatText(value=0.9, description='Second ratio', min=0, max=1, continuous_update=False)\n",
    "display(ratio)\n",
    "display(second_ratio)"
   ]
  },
  {
   "cell_type": "markdown",
   "id": "3122ecf2-67ce-452f-b085-73c74e5f4f7e",
   "metadata": {},
   "source": [
    "## Datasets selection"
   ]
  },
  {
   "cell_type": "code",
   "execution_count": 6,
   "id": "4048f62c-f886-4a14-a339-122c26c91e4e",
   "metadata": {},
   "outputs": [
    {
     "data": {
      "application/vnd.jupyter.widget-view+json": {
       "model_id": "9f5cac62d85b4f73acefa4a9a1337ddc",
       "version_major": 2,
       "version_minor": 0
      },
      "text/plain": [
       "SelectMultiple(description='Datasets:', options=('clinical_data', 'cnv.score', 'met_Mval', 'miRNA_mor', 'miRNA…"
      ]
     },
     "metadata": {},
     "output_type": "display_data"
    }
   ],
   "source": [
    "datasets_names = list(pcas[ratio.value])\n",
    "datasets_selection = widgets.SelectMultiple(options=datasets_names, description='Datasets:', disabled=False)\n",
    "\n",
    "display(datasets_selection)"
   ]
  },
  {
   "cell_type": "markdown",
   "id": "63277d7e-fdca-406e-b7d1-c6810283343c",
   "metadata": {},
   "source": [
    "## Hardware parameters"
   ]
  },
  {
   "cell_type": "code",
   "execution_count": 7,
   "id": "37017c21-ef95-482f-950f-08c2c672d713",
   "metadata": {},
   "outputs": [
    {
     "data": {
      "application/vnd.jupyter.widget-view+json": {
       "model_id": "851f4416d9c74b468c1a940bcc014ffc",
       "version_major": 2,
       "version_minor": 0
      },
      "text/plain": [
       "Checkbox(value=False, description='Use GPU')"
      ]
     },
     "metadata": {},
     "output_type": "display_data"
    },
    {
     "data": {
      "application/vnd.jupyter.widget-view+json": {
       "model_id": "854ad9d9aec744058133314d696007ed",
       "version_major": 2,
       "version_minor": 0
      },
      "text/plain": [
       "IntSlider(value=-1, continuous_update=False, description='CPU threads:', max=64, min=-1)"
      ]
     },
     "metadata": {},
     "output_type": "display_data"
    }
   ],
   "source": [
    "display_hw_parameters()"
   ]
  },
  {
   "cell_type": "markdown",
   "id": "2f1ce004-1d03-4fd2-93bc-9eaa9abbadc6",
   "metadata": {},
   "source": [
    "## iNMF parameters"
   ]
  },
  {
   "cell_type": "code",
   "execution_count": 8,
   "id": "58ecdcfa",
   "metadata": {
    "collapsed": false,
    "jupyter": {
     "outputs_hidden": false
    },
    "pycharm": {
     "name": "#%%\n"
    }
   },
   "outputs": [
    {
     "data": {
      "application/vnd.jupyter.widget-view+json": {
       "model_id": "5a7cdba0f7eb4af3acec95e0ac05fabd",
       "version_major": 2,
       "version_minor": 0
      },
      "text/plain": [
       "BoundedFloatText(value=0.0001, description='Convergence tolerance:', max=9.223372036854776e+18)"
      ]
     },
     "metadata": {},
     "output_type": "display_data"
    },
    {
     "data": {
      "application/vnd.jupyter.widget-view+json": {
       "model_id": "9d6639cbc4224e298aecd01fc32e17e9",
       "version_major": 2,
       "version_minor": 0
      },
      "text/plain": [
       "BoundedFloatText(value=5.0, description='Regularization:', max=9.223372036854776e+18)"
      ]
     },
     "metadata": {},
     "output_type": "display_data"
    },
    {
     "data": {
      "application/vnd.jupyter.widget-view+json": {
       "model_id": "cf0140c654074cb689ea6172d86119fb",
       "version_major": 2,
       "version_minor": 0
      },
      "text/plain": [
       "IntSlider(value=200, description='Max iteration/batch:, continuous_update=False', max=1000)"
      ]
     },
     "metadata": {},
     "output_type": "display_data"
    },
    {
     "data": {
      "application/vnd.jupyter.widget-view+json": {
       "model_id": "65e912da54544850b2da2368fe7f7ebf",
       "version_major": 2,
       "version_minor": 0
      },
      "text/plain": [
       "BoundedIntText(value=3, description='Factorization components:', max=9223372036854775807, min=1)"
      ]
     },
     "metadata": {},
     "output_type": "display_data"
    },
    {
     "data": {
      "application/vnd.jupyter.widget-view+json": {
       "model_id": "db1c8d83e973433f9b2b43851ce9892b",
       "version_major": 2,
       "version_minor": 0
      },
      "text/plain": [
       "Dropdown(description='Algorithm:', index=1, options=('mu', 'halsvar', 'bpp'), value='halsvar')"
      ]
     },
     "metadata": {},
     "output_type": "display_data"
    }
   ],
   "source": [
    "display_inmf_parameters()"
   ]
  },
  {
   "cell_type": "markdown",
   "id": "545f8867-cda8-4540-b9b4-f2a24b774487",
   "metadata": {},
   "source": [
    "## PCA -> iNMF -> PCA -> UMAP"
   ]
  },
  {
   "cell_type": "code",
   "execution_count": 16,
   "id": "606dc735-c3c3-4b4e-aa3c-500f3ea89afc",
   "metadata": {},
   "outputs": [],
   "source": [
    "W = None\n",
    "\n",
    "\n",
    "def run_pipeline(datasets, n_components, n_forests, pipeline_desc, second_ratio, bar=None, sampling_pipeline: list = (), balance: bool = False, cached_inmf: bool = False):\n",
    "    global W\n",
    "    log_state('Computing iNMF', bar)\n",
    "    if W is None:\n",
    "        _, W, _, err = inmf(datasets, n_threads.value, use_gpu.value, n_components, tol.value, lam.value, algo.value, batch_max_iter.value)\n",
    "    integration = pd.DataFrame(W.transpose(), index=get_patients(datasets))\n",
    "    integration.columns = [str(col) for col in integration.columns]\n",
    "    \n",
    "    if not cached_inmf:\n",
    "        W = None\n",
    "    labels_ = labels['PFI']\n",
    "\n",
    "    log_state('Computing second PCA', bar)\n",
    "\n",
    "    try:\n",
    "        reduced = pca.run(integration, n_components=None, param=second_ratio, threshold=100, show_bar=isinstance(bar, tqdm))\n",
    "    except:\n",
    "        log_state(f'PCA does not converge on {list(datasets.keys())}', bar)\n",
    "        return None, None, None\n",
    "\n",
    "    log_state('Projecting with UMAP', bar)\n",
    "    projected = umap(reduced, n_components=3)\n",
    "\n",
    "    log_state('Calculating metrics', bar)\n",
    "    silhouette_pre, clusters_pre = get_silhouette(reduced)\n",
    "    homogeneity_pre, purities_pre = clusters_metrics(reduced, labels_, clusters_pre)\n",
    "\n",
    "    silhouette, clusters = get_silhouette(projected)\n",
    "    homogeneity, purities = clusters_metrics(projected, labels_, clusters)\n",
    "    projected['Cluster'] = clusters\n",
    "    projected['Purity'] = projected['Cluster'].apply(lambda x: purities[x])\n",
    "\n",
    "    log_state('Training random forest', bar)\n",
    "    rf = RandomForest(reduced, labels_, n_forests=n_forests, random_state=0, n_folds=7, show_bar=isinstance(bar, tqdm), balance=balance)\n",
    "    rf.run(sampling_pipeline)\n",
    "\n",
    "    log_state('Generating plot', bar)\n",
    "    title = plot_title(pipeline_desc, silhouette, homogeneity, rf.report(), datasets)\n",
    "    fig = get_iplot(projected, labels_, title=title, hover_data=['Cluster', 'Purity'])\n",
    "\n",
    "    result = (silhouette_pre, silhouette, homogeneity_pre, homogeneity, purities_pre, purities, *list(rf.report().values()), list(datasets.keys()))\n",
    "\n",
    "    return fig, result, rf"
   ]
  },
  {
   "cell_type": "code",
   "execution_count": 16,
   "id": "78e49962-4341-4277-9700-144ff38c2136",
   "metadata": {},
   "outputs": [
    {
     "name": "stdout",
     "output_type": "stream",
     "text": [
      "Computing iNMF\n",
      "Computing second PCA\n",
      "PCA does not converge on ['cnv.score', 'met_Mval', 'miRNA_mor', 'miRNA_vst', 'mRNA_mor', 'mRNA_vst']\n"
     ]
    },
    {
     "ename": "ValueError",
     "evalue": "not enough values to unpack (expected 3, got 2)",
     "output_type": "error",
     "traceback": [
      "\u001b[1;31m---------------------------------------------------------------------------\u001b[0m",
      "\u001b[1;31mValueError\u001b[0m                                Traceback (most recent call last)",
      "Input \u001b[1;32mIn [16]\u001b[0m, in \u001b[0;36m<module>\u001b[1;34m\u001b[0m\n\u001b[0;32m      3\u001b[0m pipeline \u001b[38;5;241m=\u001b[39m [(\u001b[38;5;124m'\u001b[39m\u001b[38;5;124mPCA\u001b[39m\u001b[38;5;124m'\u001b[39m, ratio\u001b[38;5;241m.\u001b[39mvalue), (\u001b[38;5;124m'\u001b[39m\u001b[38;5;124miNMF\u001b[39m\u001b[38;5;124m'\u001b[39m, n_components\u001b[38;5;241m.\u001b[39mvalue), (\u001b[38;5;124m'\u001b[39m\u001b[38;5;124mPCA\u001b[39m\u001b[38;5;124m'\u001b[39m, second_ratio\u001b[38;5;241m.\u001b[39mvalue), (\u001b[38;5;124m'\u001b[39m\u001b[38;5;124mUMAP\u001b[39m\u001b[38;5;124m'\u001b[39m, \u001b[38;5;124m'\u001b[39m\u001b[38;5;124m'\u001b[39m), (\u001b[38;5;124m'\u001b[39m\u001b[38;5;124mRF\u001b[39m\u001b[38;5;124m'\u001b[39m, \u001b[38;5;124m'\u001b[39m\u001b[38;5;124m'\u001b[39m)]\n\u001b[0;32m      4\u001b[0m method, method_param, pipeline_desc \u001b[38;5;241m=\u001b[39m pipeline_str(pipeline)\n\u001b[1;32m----> 6\u001b[0m fig, result, rf \u001b[38;5;241m=\u001b[39m run_pipeline(selected_datasets, n_components\u001b[38;5;241m.\u001b[39mvalue, \u001b[38;5;241m100\u001b[39m, pipeline_desc, second_ratio\u001b[38;5;241m=\u001b[39msecond_ratio\u001b[38;5;241m.\u001b[39mvalue)\n\u001b[0;32m      7\u001b[0m fig\u001b[38;5;241m.\u001b[39mshow()\n",
      "\u001b[1;31mValueError\u001b[0m: not enough values to unpack (expected 3, got 2)"
     ]
    }
   ],
   "source": [
    "selected_datasets = {name: dataset for name, dataset in pcas[ratio.value].items() if name in datasets_selection.value}\n",
    "\n",
    "pipeline = [('PCA', ratio.value), ('iNMF', n_components.value), ('PCA', second_ratio.value), ('UMAP', ''), ('RF', '')]\n",
    "method, method_param, pipeline_desc = pipeline_str(pipeline)\n",
    "\n",
    "fig, result, rf = run_pipeline(selected_datasets, n_components.value, 100, pipeline_desc, second_ratio=second_ratio.value)\n",
    "fig.show()"
   ]
  },
  {
   "cell_type": "code",
   "execution_count": null,
   "id": "334feba7-5476-41b6-86ad-8e8199d5b4f7",
   "metadata": {},
   "outputs": [],
   "source": [
    "datasets_string = ','.join(selected_datasets.keys())\n",
    "save_fig(fig, root='../Results', info=f'{method_param}_[{datasets_string}]')"
   ]
  },
  {
   "cell_type": "markdown",
   "id": "2abd8b29-3592-43ef-bbcb-f2fe660be45b",
   "metadata": {},
   "source": [
    "## Datasets sub-sets test"
   ]
  },
  {
   "cell_type": "code",
   "execution_count": 10,
   "id": "b14756e3-7c15-4552-b14c-719ce5ab8836",
   "metadata": {},
   "outputs": [
    {
     "data": {
      "application/vnd.jupyter.widget-view+json": {
       "model_id": "29318accffda47dbbceb6fd59d6dcd7f",
       "version_major": 2,
       "version_minor": 0
      },
      "text/plain": [
       "Dropdown(description='First ratio', index=1, options=(0.75, 0.9), value=0.9)"
      ]
     },
     "metadata": {},
     "output_type": "display_data"
    },
    {
     "data": {
      "application/vnd.jupyter.widget-view+json": {
       "model_id": "b52a23d3aad844bdb87fb7fc2dfa7e52",
       "version_major": 2,
       "version_minor": 0
      },
      "text/plain": [
       "BoundedFloatText(value=0.75, description='Second ratio', max=1.0)"
      ]
     },
     "metadata": {},
     "output_type": "display_data"
    },
    {
     "data": {
      "application/vnd.jupyter.widget-view+json": {
       "model_id": "953b3c71ca4e4933b7f864746a4e0b5b",
       "version_major": 2,
       "version_minor": 0
      },
      "text/plain": [
       "BoundedFloatText(value=1.0, description='Convergence tolerance:', max=9.223372036854776e+18)"
      ]
     },
     "metadata": {},
     "output_type": "display_data"
    },
    {
     "data": {
      "application/vnd.jupyter.widget-view+json": {
       "model_id": "db2b81bf51a34a37acb3c0cfd62f32d8",
       "version_major": 2,
       "version_minor": 0
      },
      "text/plain": [
       "BoundedFloatText(value=1.0, description='Regularization:', max=9.223372036854776e+18)"
      ]
     },
     "metadata": {},
     "output_type": "display_data"
    },
    {
     "data": {
      "application/vnd.jupyter.widget-view+json": {
       "model_id": "0f5e5585cebf459fba10b2898a8de20d",
       "version_major": 2,
       "version_minor": 0
      },
      "text/plain": [
       "IntSlider(value=50, description='Max iteration/batch:, continuous_update=False', max=1000)"
      ]
     },
     "metadata": {},
     "output_type": "display_data"
    },
    {
     "data": {
      "application/vnd.jupyter.widget-view+json": {
       "model_id": "3432c9b900af4a47aae87a7bf5c0f4aa",
       "version_major": 2,
       "version_minor": 0
      },
      "text/plain": [
       "BoundedIntText(value=200, description='Factorization components:', max=9223372036854775807, min=1)"
      ]
     },
     "metadata": {},
     "output_type": "display_data"
    },
    {
     "data": {
      "application/vnd.jupyter.widget-view+json": {
       "model_id": "eb075122ddac45da9086e3bda882dbc8",
       "version_major": 2,
       "version_minor": 0
      },
      "text/plain": [
       "Dropdown(description='Algorithm:', index=1, options=('mu', 'halsvar', 'bpp'), value='halsvar')"
      ]
     },
     "metadata": {},
     "output_type": "display_data"
    }
   ],
   "source": [
    "display(ratio)\n",
    "display(second_ratio)\n",
    "display_inmf_parameters()"
   ]
  },
  {
   "cell_type": "code",
   "execution_count": 11,
   "id": "6fbc5fdb-5e42-4e70-a67d-be246a1ba0a6",
   "metadata": {},
   "outputs": [
    {
     "data": {
      "application/vnd.jupyter.widget-view+json": {
       "model_id": "5a66c1655e4e4db59c457355ff6ce99a",
       "version_major": 2,
       "version_minor": 0
      },
      "text/plain": [
       "  0%|          | 0/21 [00:00<?, ?it/s]"
      ]
     },
     "metadata": {},
     "output_type": "display_data"
    },
    {
     "data": {
      "application/vnd.jupyter.widget-view+json": {
       "model_id": "",
       "version_major": 2,
       "version_minor": 0
      },
      "text/plain": [
       "Training:   0%|          | 0/7 [00:00<?, ?it/s]"
      ]
     },
     "metadata": {},
     "output_type": "display_data"
    },
    {
     "data": {
      "application/vnd.jupyter.widget-view+json": {
       "model_id": "",
       "version_major": 2,
       "version_minor": 0
      },
      "text/plain": [
       "Training:   0%|          | 0/7 [00:00<?, ?it/s]"
      ]
     },
     "metadata": {},
     "output_type": "display_data"
    },
    {
     "data": {
      "application/vnd.jupyter.widget-view+json": {
       "model_id": "",
       "version_major": 2,
       "version_minor": 0
      },
      "text/plain": [
       "Training:   0%|          | 0/7 [00:00<?, ?it/s]"
      ]
     },
     "metadata": {},
     "output_type": "display_data"
    },
    {
     "data": {
      "application/vnd.jupyter.widget-view+json": {
       "model_id": "",
       "version_major": 2,
       "version_minor": 0
      },
      "text/plain": [
       "Training:   0%|          | 0/7 [00:00<?, ?it/s]"
      ]
     },
     "metadata": {},
     "output_type": "display_data"
    },
    {
     "data": {
      "application/vnd.jupyter.widget-view+json": {
       "model_id": "",
       "version_major": 2,
       "version_minor": 0
      },
      "text/plain": [
       "Training:   0%|          | 0/7 [00:00<?, ?it/s]"
      ]
     },
     "metadata": {},
     "output_type": "display_data"
    },
    {
     "data": {
      "application/vnd.jupyter.widget-view+json": {
       "model_id": "",
       "version_major": 2,
       "version_minor": 0
      },
      "text/plain": [
       "Training:   0%|          | 0/7 [00:00<?, ?it/s]"
      ]
     },
     "metadata": {},
     "output_type": "display_data"
    },
    {
     "data": {
      "application/vnd.jupyter.widget-view+json": {
       "model_id": "",
       "version_major": 2,
       "version_minor": 0
      },
      "text/plain": [
       "Training:   0%|          | 0/7 [00:00<?, ?it/s]"
      ]
     },
     "metadata": {},
     "output_type": "display_data"
    },
    {
     "data": {
      "application/vnd.jupyter.widget-view+json": {
       "model_id": "",
       "version_major": 2,
       "version_minor": 0
      },
      "text/plain": [
       "Training:   0%|          | 0/7 [00:00<?, ?it/s]"
      ]
     },
     "metadata": {},
     "output_type": "display_data"
    },
    {
     "data": {
      "application/vnd.jupyter.widget-view+json": {
       "model_id": "",
       "version_major": 2,
       "version_minor": 0
      },
      "text/plain": [
       "Training:   0%|          | 0/7 [00:00<?, ?it/s]"
      ]
     },
     "metadata": {},
     "output_type": "display_data"
    },
    {
     "data": {
      "application/vnd.jupyter.widget-view+json": {
       "model_id": "",
       "version_major": 2,
       "version_minor": 0
      },
      "text/plain": [
       "Training:   0%|          | 0/7 [00:00<?, ?it/s]"
      ]
     },
     "metadata": {},
     "output_type": "display_data"
    },
    {
     "data": {
      "application/vnd.jupyter.widget-view+json": {
       "model_id": "",
       "version_major": 2,
       "version_minor": 0
      },
      "text/plain": [
       "Training:   0%|          | 0/7 [00:00<?, ?it/s]"
      ]
     },
     "metadata": {},
     "output_type": "display_data"
    },
    {
     "data": {
      "application/vnd.jupyter.widget-view+json": {
       "model_id": "",
       "version_major": 2,
       "version_minor": 0
      },
      "text/plain": [
       "Training:   0%|          | 0/7 [00:00<?, ?it/s]"
      ]
     },
     "metadata": {},
     "output_type": "display_data"
    },
    {
     "data": {
      "application/vnd.jupyter.widget-view+json": {
       "model_id": "",
       "version_major": 2,
       "version_minor": 0
      },
      "text/plain": [
       "Training:   0%|          | 0/7 [00:00<?, ?it/s]"
      ]
     },
     "metadata": {},
     "output_type": "display_data"
    },
    {
     "data": {
      "application/vnd.jupyter.widget-view+json": {
       "model_id": "",
       "version_major": 2,
       "version_minor": 0
      },
      "text/plain": [
       "Training:   0%|          | 0/7 [00:00<?, ?it/s]"
      ]
     },
     "metadata": {},
     "output_type": "display_data"
    },
    {
     "data": {
      "application/vnd.jupyter.widget-view+json": {
       "model_id": "",
       "version_major": 2,
       "version_minor": 0
      },
      "text/plain": [
       "Training:   0%|          | 0/7 [00:00<?, ?it/s]"
      ]
     },
     "metadata": {},
     "output_type": "display_data"
    },
    {
     "data": {
      "application/vnd.jupyter.widget-view+json": {
       "model_id": "",
       "version_major": 2,
       "version_minor": 0
      },
      "text/plain": [
       "Training:   0%|          | 0/7 [00:00<?, ?it/s]"
      ]
     },
     "metadata": {},
     "output_type": "display_data"
    },
    {
     "data": {
      "application/vnd.jupyter.widget-view+json": {
       "model_id": "",
       "version_major": 2,
       "version_minor": 0
      },
      "text/plain": [
       "Training:   0%|          | 0/7 [00:00<?, ?it/s]"
      ]
     },
     "metadata": {},
     "output_type": "display_data"
    },
    {
     "data": {
      "application/vnd.jupyter.widget-view+json": {
       "model_id": "",
       "version_major": 2,
       "version_minor": 0
      },
      "text/plain": [
       "Training:   0%|          | 0/7 [00:00<?, ?it/s]"
      ]
     },
     "metadata": {},
     "output_type": "display_data"
    },
    {
     "data": {
      "application/vnd.jupyter.widget-view+json": {
       "model_id": "",
       "version_major": 2,
       "version_minor": 0
      },
      "text/plain": [
       "Training:   0%|          | 0/7 [00:00<?, ?it/s]"
      ]
     },
     "metadata": {},
     "output_type": "display_data"
    },
    {
     "data": {
      "application/vnd.jupyter.widget-view+json": {
       "model_id": "",
       "version_major": 2,
       "version_minor": 0
      },
      "text/plain": [
       "Training:   0%|          | 0/7 [00:00<?, ?it/s]"
      ]
     },
     "metadata": {},
     "output_type": "display_data"
    },
    {
     "data": {
      "application/vnd.jupyter.widget-view+json": {
       "model_id": "",
       "version_major": 2,
       "version_minor": 0
      },
      "text/plain": [
       "Training:   0%|          | 0/7 [00:00<?, ?it/s]"
      ]
     },
     "metadata": {},
     "output_type": "display_data"
    }
   ],
   "source": [
    "results = []\n",
    "\n",
    "datasets = {key: dataset for key, dataset in pcas[ratio.value].items() if key in datasets_selection.value}\n",
    "patients = get_patients(datasets)\n",
    "\n",
    "pipeline = [('PCA', ratio.value), ('iNMF', n_components.value), ('PCA', second_ratio.value), ('UMAP', ''), ('RF', '')]\n",
    "method, method_param, pipeline_desc = pipeline_str(pipeline)\n",
    "\n",
    "sub_folder = results_subfolder(method, method_param)\n",
    "if not os.path.isdir(os.path.join(results_root, sub_folder)):\n",
    "    os.mkdir(os.path.join(results_root, sub_folder))\n",
    "\n",
    "for sub_set in (bar := tqdm(get_subsets(datasets))):\n",
    "    keys = sub_set.keys()\n",
    "    bar.set_postfix_str(f'Testing {list(keys)}')\n",
    "\n",
    "    fig, result, rf = run_pipeline(sub_set, n_components.value, 100, pipeline_desc, second_ratio=second_ratio.value, bar=bar)\n",
    "\n",
    "    if fig is None:\n",
    "        continue\n",
    "\n",
    "    bar.set_description('Saving scatter')\n",
    "    filename = result_filename(method_param, sub_set).replace('.', '_')\n",
    "    save_fig(fig, root=os.path.join(results_root, sub_folder), info=filename, subfolder = False)\n",
    "\n",
    "    results.append(result)\n",
    "\n",
    "    bar.set_description(f'Max silhoutte: {max([result[0] for result in results])}')\n",
    "\n",
    "results_df = pd.DataFrame(data=results, columns=['Silhouette_pre', 'Silhouette', 'Homogeneity_pre', 'Homogeneity', 'Purity_pre', 'Purity', *list(rf.report().keys()), 'Datasets'])\n",
    "results_df.to_csv(os.path.join(results_root, sub_folder, f'{filename.split(\"_[\")[0]}.csv'), index=False, sep=';')\n",
    "results_df.to_excel(os.path.join(results_root, sub_folder, f'{filename.split(\"_[\")[0]}.xlsx'))"
   ]
  },
  {
   "cell_type": "markdown",
   "id": "b4769bca-030c-4c1f-9835-818b1b1ec6dc",
   "metadata": {},
   "source": [
    "## Datasets sub-sets test different ratios"
   ]
  },
  {
   "cell_type": "code",
   "execution_count": null,
   "id": "a01d1fa2-5c9a-4e93-ba4c-85fff59f96c2",
   "metadata": {},
   "outputs": [],
   "source": [
    "display_hw_parameters()\n",
    "display(oversample)\n",
    "display_inmf_parameters()"
   ]
  },
  {
   "cell_type": "code",
   "execution_count": null,
   "id": "08a1e6a3-f683-4fbd-b303-818eb463d6bd",
   "metadata": {},
   "outputs": [],
   "source": [
    "for ratio in (main_bar := tqdm(list(pcas.keys()))):\n",
    "    datasets = {key: dataset for key, dataset in pcas[ratio].items()}\n",
    "    patients = get_patients(datasets)\n",
    "\n",
    "    pipeline = [('PCA', ratio), ('iNMF', n_components.value), ('UMAP', ''), ('RF', '')]\n",
    "    method, method_param, pipeline_desc = pipeline_str(pipeline)\n",
    "\n",
    "    sub_folder = results_subfolder(method, method_param)\n",
    "\n",
    "    os.mkdir(os.path.join(results_root, sub_folder))\n",
    "    main_bar.set_description(f'Ratio: {ratio}')\n",
    "    results = []\n",
    "\n",
    "    for sub_set in (bar := tqdm(get_subsets(datasets), leave=False)):\n",
    "        keys = sub_set.keys()\n",
    "\n",
    "        bar.set_postfix_str(f'Testing {list(keys)}')\n",
    "\n",
    "        fig, result = run_pipeline(sub_set, ratio, n_components.value, 100, pipeline_desc, bar, oversample=oversample.value)\n",
    "\n",
    "        bar.set_description('Saving scatter')\n",
    "        filename = result_filename(method_param.replace('>', ''), sub_set).replace('.', '_')\n",
    "        save_fig(fig, root=os.path.join(results_root, sub_folder), info=filename, subfolder = False)\n",
    "\n",
    "        results.append(result)\n",
    "\n",
    "    results_df = pd.DataFrame(data=results, columns=['Silhouette_pre', 'Silhouette', 'Homogeneity_pre', 'Homogeneity', 'Purity_pre', 'Purity', 'Sensitivity', 'Specificity', 'Accuracy', 'F-score', 'Datasets'])\n",
    "    results_df.to_csv(os.path.join(results_root, sub_folder, f'{filename.split(\"_[\")[0]}.csv'), index=False, sep=';')\n",
    "\n",
    "    main_bar.set_description('Done')"
   ]
  },
  {
   "cell_type": "code",
   "execution_count": null,
   "id": "f820124d-6c84-41df-8e50-69ba6f9fa642",
   "metadata": {},
   "outputs": [],
   "source": [
    "display_hw_parameters()\n",
    "display(oversample)\n",
    "display_inmf_parameters()"
   ]
  },
  {
   "cell_type": "code",
   "execution_count": null,
   "id": "a9453517-4442-42b5-864f-c3b92d4260ed",
   "metadata": {},
   "outputs": [],
   "source": [
    "tests = ((.75, (['clinical_data', 'met_Mval'], ['cnv.score', 'miRNA_mor'], ['cnv.score', 'met_Mval'], ['cnv.score', 'met_Mval', 'miRNA_mor'])),\n",
    "         (.9, (['clinical_data', 'met_Mval'], ['cnv.score', 'miRNA_mor'], ['cnv.score', 'miRNA_mor'], ['miRNA_mor', 'mRNA_mor'])))\n",
    "\n",
    "\n",
    "for ratio, keys_subsets in (main_bar := tqdm(tests)):\n",
    "    pipeline = [('PCA', ratio), ('iNMF', 200), ('UMAP', ''), ('RF', '')]\n",
    "    method, method_param, pipeline_desc = pipeline_str(pipeline)\n",
    "\n",
    "    sub_folder = results_subfolder(method, method_param)\n",
    "\n",
    "    if not os.path.isdir(os.path.join(results_root, sub_folder)):\n",
    "        os.mkdir(os.path.join(results_root, sub_folder))\n",
    "    main_bar.set_description(f'Ratio: {ratio}')\n",
    "    results = []\n",
    "\n",
    "    for keys in (bar := tqdm(keys_subsets,  leave=False)):\n",
    "        datasets = {key: pcas[ratio][key] for key in keys}\n",
    "        patients = get_patients(datasets)\n",
    "        bar.set_postfix_str(f'Testing {list(keys)}')\n",
    "\n",
    "        fig, result = run_pipeline(datasets, ratio, n_components.value, 100, pipeline_desc, bar, oversample=oversample.value)\n",
    "\n",
    "        bar.set_description('Saving scatter')\n",
    "        filename = result_filename(method_param.replace('>', ''), datasets).replace('.', '_')\n",
    "        save_fig(fig, root=os.path.join(results_root, sub_folder), info=filename, subfolder = False)\n",
    "\n",
    "        results.append(result)\n",
    "\n",
    "    results_df = pd.DataFrame(data=results, columns=['Silhouette_pre', 'Silhouette', 'Homogeneity_pre', 'Homogeneity', 'Purity_pre', 'Purity', 'Sensitivity', 'Specificity', 'Accuracy', 'F-score', 'Datasets'])\n",
    "    results_df.to_csv(os.path.join(results_root, sub_folder, f'{filename.split(\"_[\")[0]}.csv'), index=False, sep=';')"
   ]
  },
  {
   "cell_type": "markdown",
   "id": "fcc27ff0-5c75-45c8-b506-5f47e3be018e",
   "metadata": {
    "tags": []
   },
   "source": [
    "## Oversampling and balancing"
   ]
  },
  {
   "cell_type": "code",
   "execution_count": 12,
   "id": "72cc8e40-2391-4c5a-abc8-b8da7d0bc787",
   "metadata": {},
   "outputs": [
    {
     "data": {
      "application/vnd.jupyter.widget-view+json": {
       "model_id": "d3677baf3e3d498ca32260e34a51c932",
       "version_major": 2,
       "version_minor": 0
      },
      "text/plain": [
       "Dropdown(description='First ratio', index=1, options=(0.75, 0.9), value=0.9)"
      ]
     },
     "metadata": {},
     "output_type": "display_data"
    },
    {
     "data": {
      "application/vnd.jupyter.widget-view+json": {
       "model_id": "bf5201f82f2e4465b5d43b4d91102c12",
       "version_major": 2,
       "version_minor": 0
      },
      "text/plain": [
       "BoundedFloatText(value=0.9, description='Second ratio', max=1.0)"
      ]
     },
     "metadata": {},
     "output_type": "display_data"
    },
    {
     "data": {
      "application/vnd.jupyter.widget-view+json": {
       "model_id": "5a7cdba0f7eb4af3acec95e0ac05fabd",
       "version_major": 2,
       "version_minor": 0
      },
      "text/plain": [
       "BoundedFloatText(value=1.0, description='Convergence tolerance:', max=9.223372036854776e+18)"
      ]
     },
     "metadata": {},
     "output_type": "display_data"
    },
    {
     "data": {
      "application/vnd.jupyter.widget-view+json": {
       "model_id": "9d6639cbc4224e298aecd01fc32e17e9",
       "version_major": 2,
       "version_minor": 0
      },
      "text/plain": [
       "BoundedFloatText(value=1.0, description='Regularization:', max=9.223372036854776e+18)"
      ]
     },
     "metadata": {},
     "output_type": "display_data"
    },
    {
     "data": {
      "application/vnd.jupyter.widget-view+json": {
       "model_id": "cf0140c654074cb689ea6172d86119fb",
       "version_major": 2,
       "version_minor": 0
      },
      "text/plain": [
       "IntSlider(value=50, description='Max iteration/batch:, continuous_update=False', max=1000)"
      ]
     },
     "metadata": {},
     "output_type": "display_data"
    },
    {
     "data": {
      "application/vnd.jupyter.widget-view+json": {
       "model_id": "65e912da54544850b2da2368fe7f7ebf",
       "version_major": 2,
       "version_minor": 0
      },
      "text/plain": [
       "BoundedIntText(value=200, description='Factorization components:', max=9223372036854775807, min=1)"
      ]
     },
     "metadata": {},
     "output_type": "display_data"
    },
    {
     "data": {
      "application/vnd.jupyter.widget-view+json": {
       "model_id": "db1c8d83e973433f9b2b43851ce9892b",
       "version_major": 2,
       "version_minor": 0
      },
      "text/plain": [
       "Dropdown(description='Algorithm:', index=1, options=('mu', 'halsvar', 'bpp'), value='halsvar')"
      ]
     },
     "metadata": {},
     "output_type": "display_data"
    }
   ],
   "source": [
    "display(ratio)\n",
    "display(second_ratio)\n",
    "display_inmf_parameters()"
   ]
  },
  {
   "cell_type": "code",
   "execution_count": 15,
   "id": "8ced0c07-0a7a-4927-9675-33952a301030",
   "metadata": {},
   "outputs": [
    {
     "data": {
      "application/vnd.jupyter.widget-view+json": {
       "model_id": "def5ead916094b488c66f9e7a42f4510",
       "version_major": 2,
       "version_minor": 0
      },
      "text/plain": [
       "  0%|          | 0/14 [00:00<?, ?it/s]"
      ]
     },
     "metadata": {},
     "output_type": "display_data"
    },
    {
     "data": {
      "application/vnd.jupyter.widget-view+json": {
       "model_id": "",
       "version_major": 2,
       "version_minor": 0
      },
      "text/plain": [
       "Training:   0%|          | 0/7 [00:00<?, ?it/s]"
      ]
     },
     "metadata": {},
     "output_type": "display_data"
    },
    {
     "data": {
      "application/vnd.jupyter.widget-view+json": {
       "model_id": "",
       "version_major": 2,
       "version_minor": 0
      },
      "text/plain": [
       "Training:   0%|          | 0/7 [00:00<?, ?it/s]"
      ]
     },
     "metadata": {},
     "output_type": "display_data"
    },
    {
     "data": {
      "application/vnd.jupyter.widget-view+json": {
       "model_id": "",
       "version_major": 2,
       "version_minor": 0
      },
      "text/plain": [
       "Training:   0%|          | 0/7 [00:00<?, ?it/s]"
      ]
     },
     "metadata": {},
     "output_type": "display_data"
    },
    {
     "data": {
      "application/vnd.jupyter.widget-view+json": {
       "model_id": "",
       "version_major": 2,
       "version_minor": 0
      },
      "text/plain": [
       "Training:   0%|          | 0/7 [00:00<?, ?it/s]"
      ]
     },
     "metadata": {},
     "output_type": "display_data"
    },
    {
     "data": {
      "application/vnd.jupyter.widget-view+json": {
       "model_id": "",
       "version_major": 2,
       "version_minor": 0
      },
      "text/plain": [
       "Training:   0%|          | 0/7 [00:00<?, ?it/s]"
      ]
     },
     "metadata": {},
     "output_type": "display_data"
    },
    {
     "data": {
      "application/vnd.jupyter.widget-view+json": {
       "model_id": "",
       "version_major": 2,
       "version_minor": 0
      },
      "text/plain": [
       "Training:   0%|          | 0/7 [00:00<?, ?it/s]"
      ]
     },
     "metadata": {},
     "output_type": "display_data"
    },
    {
     "data": {
      "application/vnd.jupyter.widget-view+json": {
       "model_id": "",
       "version_major": 2,
       "version_minor": 0
      },
      "text/plain": [
       "Training:   0%|          | 0/7 [00:00<?, ?it/s]"
      ]
     },
     "metadata": {},
     "output_type": "display_data"
    },
    {
     "data": {
      "application/vnd.jupyter.widget-view+json": {
       "model_id": "",
       "version_major": 2,
       "version_minor": 0
      },
      "text/plain": [
       "Training:   0%|          | 0/7 [00:00<?, ?it/s]"
      ]
     },
     "metadata": {},
     "output_type": "display_data"
    },
    {
     "data": {
      "application/vnd.jupyter.widget-view+json": {
       "model_id": "",
       "version_major": 2,
       "version_minor": 0
      },
      "text/plain": [
       "Training:   0%|          | 0/7 [00:00<?, ?it/s]"
      ]
     },
     "metadata": {},
     "output_type": "display_data"
    },
    {
     "data": {
      "application/vnd.jupyter.widget-view+json": {
       "model_id": "",
       "version_major": 2,
       "version_minor": 0
      },
      "text/plain": [
       "Training:   0%|          | 0/7 [00:00<?, ?it/s]"
      ]
     },
     "metadata": {},
     "output_type": "display_data"
    },
    {
     "data": {
      "application/vnd.jupyter.widget-view+json": {
       "model_id": "",
       "version_major": 2,
       "version_minor": 0
      },
      "text/plain": [
       "Training:   0%|          | 0/7 [00:00<?, ?it/s]"
      ]
     },
     "metadata": {},
     "output_type": "display_data"
    },
    {
     "data": {
      "application/vnd.jupyter.widget-view+json": {
       "model_id": "",
       "version_major": 2,
       "version_minor": 0
      },
      "text/plain": [
       "Training:   0%|          | 0/7 [00:00<?, ?it/s]"
      ]
     },
     "metadata": {},
     "output_type": "display_data"
    },
    {
     "data": {
      "application/vnd.jupyter.widget-view+json": {
       "model_id": "",
       "version_major": 2,
       "version_minor": 0
      },
      "text/plain": [
       "Training:   0%|          | 0/7 [00:00<?, ?it/s]"
      ]
     },
     "metadata": {},
     "output_type": "display_data"
    },
    {
     "data": {
      "application/vnd.jupyter.widget-view+json": {
       "model_id": "",
       "version_major": 2,
       "version_minor": 0
      },
      "text/plain": [
       "Training:   0%|          | 0/7 [00:00<?, ?it/s]"
      ]
     },
     "metadata": {},
     "output_type": "display_data"
    },
    {
     "data": {
      "application/vnd.jupyter.widget-view+json": {
       "model_id": "df9828f5a75b4ad68112c0842afc6bcf",
       "version_major": 2,
       "version_minor": 0
      },
      "text/plain": [
       "  0%|          | 0/14 [00:00<?, ?it/s]"
      ]
     },
     "metadata": {},
     "output_type": "display_data"
    },
    {
     "data": {
      "application/vnd.jupyter.widget-view+json": {
       "model_id": "",
       "version_major": 2,
       "version_minor": 0
      },
      "text/plain": [
       "Training:   0%|          | 0/7 [00:00<?, ?it/s]"
      ]
     },
     "metadata": {},
     "output_type": "display_data"
    },
    {
     "data": {
      "application/vnd.jupyter.widget-view+json": {
       "model_id": "",
       "version_major": 2,
       "version_minor": 0
      },
      "text/plain": [
       "Training:   0%|          | 0/7 [00:00<?, ?it/s]"
      ]
     },
     "metadata": {},
     "output_type": "display_data"
    },
    {
     "data": {
      "application/vnd.jupyter.widget-view+json": {
       "model_id": "",
       "version_major": 2,
       "version_minor": 0
      },
      "text/plain": [
       "Training:   0%|          | 0/7 [00:00<?, ?it/s]"
      ]
     },
     "metadata": {},
     "output_type": "display_data"
    },
    {
     "data": {
      "application/vnd.jupyter.widget-view+json": {
       "model_id": "",
       "version_major": 2,
       "version_minor": 0
      },
      "text/plain": [
       "Training:   0%|          | 0/7 [00:00<?, ?it/s]"
      ]
     },
     "metadata": {},
     "output_type": "display_data"
    },
    {
     "data": {
      "application/vnd.jupyter.widget-view+json": {
       "model_id": "",
       "version_major": 2,
       "version_minor": 0
      },
      "text/plain": [
       "Training:   0%|          | 0/7 [00:00<?, ?it/s]"
      ]
     },
     "metadata": {},
     "output_type": "display_data"
    },
    {
     "data": {
      "application/vnd.jupyter.widget-view+json": {
       "model_id": "",
       "version_major": 2,
       "version_minor": 0
      },
      "text/plain": [
       "Training:   0%|          | 0/7 [00:00<?, ?it/s]"
      ]
     },
     "metadata": {},
     "output_type": "display_data"
    },
    {
     "data": {
      "application/vnd.jupyter.widget-view+json": {
       "model_id": "",
       "version_major": 2,
       "version_minor": 0
      },
      "text/plain": [
       "Training:   0%|          | 0/7 [00:00<?, ?it/s]"
      ]
     },
     "metadata": {},
     "output_type": "display_data"
    },
    {
     "data": {
      "application/vnd.jupyter.widget-view+json": {
       "model_id": "",
       "version_major": 2,
       "version_minor": 0
      },
      "text/plain": [
       "Training:   0%|          | 0/7 [00:00<?, ?it/s]"
      ]
     },
     "metadata": {},
     "output_type": "display_data"
    },
    {
     "data": {
      "application/vnd.jupyter.widget-view+json": {
       "model_id": "",
       "version_major": 2,
       "version_minor": 0
      },
      "text/plain": [
       "Training:   0%|          | 0/7 [00:00<?, ?it/s]"
      ]
     },
     "metadata": {},
     "output_type": "display_data"
    },
    {
     "data": {
      "application/vnd.jupyter.widget-view+json": {
       "model_id": "",
       "version_major": 2,
       "version_minor": 0
      },
      "text/plain": [
       "Training:   0%|          | 0/7 [00:00<?, ?it/s]"
      ]
     },
     "metadata": {},
     "output_type": "display_data"
    },
    {
     "data": {
      "application/vnd.jupyter.widget-view+json": {
       "model_id": "",
       "version_major": 2,
       "version_minor": 0
      },
      "text/plain": [
       "Training:   0%|          | 0/7 [00:00<?, ?it/s]"
      ]
     },
     "metadata": {},
     "output_type": "display_data"
    },
    {
     "data": {
      "application/vnd.jupyter.widget-view+json": {
       "model_id": "",
       "version_major": 2,
       "version_minor": 0
      },
      "text/plain": [
       "Training:   0%|          | 0/7 [00:00<?, ?it/s]"
      ]
     },
     "metadata": {},
     "output_type": "display_data"
    },
    {
     "data": {
      "application/vnd.jupyter.widget-view+json": {
       "model_id": "",
       "version_major": 2,
       "version_minor": 0
      },
      "text/plain": [
       "Training:   0%|          | 0/7 [00:00<?, ?it/s]"
      ]
     },
     "metadata": {},
     "output_type": "display_data"
    },
    {
     "data": {
      "application/vnd.jupyter.widget-view+json": {
       "model_id": "",
       "version_major": 2,
       "version_minor": 0
      },
      "text/plain": [
       "Training:   0%|          | 0/7 [00:00<?, ?it/s]"
      ]
     },
     "metadata": {},
     "output_type": "display_data"
    }
   ],
   "source": [
    "tests = ([], [Samplers.smote_oversampler(.5)], [Samplers.smote_oversampler(.25), Samplers.random_undersampler(.5)], [Samplers.random_undersampler(.25), Samplers.smote_oversampler(.5)],\n",
    "         [Samplers.random_oversampler(.25), Samplers.random_undersampler(.5)], [Samplers.random_undersampler(.25), Samplers.random_oversampler(.5)], [Samplers.random_oversampler(.5)],\n",
    "         [Samplers.random_undersampler(.5)], [Samplers.smote_oversampler(.75)], [Samplers.random_oversampler(.75)], [Samplers.random_undersampler(.75)], [Samplers.smote_oversampler(1)], \n",
    "         [Samplers.random_oversampler(1)], [Samplers.random_undersampler(1)])\n",
    "\n",
    "results = []\n",
    "pipeline = [('PCA', ratio.value), ('iNMF', 200), ('PCA', second_ratio.value), ('UMAP', ''), ('Resampling', ''), ('RF', '')]\n",
    "method, method_param, pipeline_desc = pipeline_str(pipeline)\n",
    "datasets = {key: dataset for key, dataset in pcas[ratio.value].items() if key in ['met_Mval', 'miRNA_vst', 'mRNA_vst']}\n",
    "patients = get_patients(datasets)\n",
    "\n",
    "for balance_ in [True, False]:\n",
    "    for test in (bar := tqdm(tests)):\n",
    "\n",
    "        sub_folder = results_subfolder(method, method_param)\n",
    "\n",
    "        if not os.path.isdir(os.path.join(results_root, sub_folder)):\n",
    "            os.mkdir(os.path.join(results_root, sub_folder))\n",
    "        fig, result, rf = run_pipeline(datasets, 200, 100, pipeline_desc, sampling_pipeline=test, balance=balance_, bar=bar, second_ratio=second_ratio.value, cached_inmf=True)\n",
    "        result = list(result)\n",
    "        result.append(balance_)\n",
    "        result.append([sampler.__class__.__name__ for sampler in test])\n",
    "        results.append(result)\n",
    "\n",
    "filename = result_filename(method_param, datasets).replace('.', '_')\n",
    "results_df = pd.DataFrame(data=results, columns=['Silhouette_pre', 'Silhouette', 'Homogeneity_pre', 'Homogeneity', 'Purity_pre', 'Purity', *list(rf.report().keys()), 'Datasets', 'Balancing', 'Sampler'])\n",
    "results_df.to_csv(os.path.join(results_root, sub_folder, f'{filename.split(\"_[\")[0]}.csv'), index=False, sep=';')\n",
    "results_df[results_df['Balancing'] == True].to_excel(os.path.join(results_root, sub_folder, 'pos.xlsx'))\n",
    "results_df[results_df['Balancing'] == False].to_excel(os.path.join(results_root, sub_folder, 'neg.xlsx'))"
   ]
  }
 ],
 "metadata": {
  "kernelspec": {
   "display_name": "Python 3 (ipykernel)",
   "language": "python",
   "name": "python3"
  },
  "language_info": {
   "codemirror_mode": {
    "name": "ipython",
    "version": 3
   },
   "file_extension": ".py",
   "mimetype": "text/x-python",
   "name": "python",
   "nbconvert_exporter": "python",
   "pygments_lexer": "ipython3",
   "version": "3.9.10"
  }
 },
 "nbformat": 4,
 "nbformat_minor": 5
}
